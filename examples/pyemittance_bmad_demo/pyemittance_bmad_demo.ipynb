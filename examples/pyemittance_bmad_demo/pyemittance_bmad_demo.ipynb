{
 "cells": [
  {
   "cell_type": "markdown",
   "id": "5108f0bf",
   "metadata": {},
   "source": [
    "# PyEmittance Bmad Demo"
   ]
  },
  {
   "cell_type": "markdown",
   "id": "1fb01894-da94-429f-bb24-eb1e0802c708",
   "metadata": {},
   "source": [
    "# Sim setup for pytao"
   ]
  },
  {
   "cell_type": "code",
   "execution_count": 4,
   "id": "e9f90987-42a7-42d0-b14c-6f067a62ccf1",
   "metadata": {},
   "outputs": [],
   "source": [
    "import numpy as np\n",
    "import os\n",
    "import datetime \n",
    "import scipy.constants as constants\n",
    "from pytao import Tao\n",
    "\n",
    "import matplotlib\n",
    "import matplotlib.pyplot as plt"
   ]
  },
  {
   "cell_type": "code",
   "execution_count": 6,
   "id": "98a8a51d-78b9-4c74-ac3e-0280801a49b8",
   "metadata": {},
   "outputs": [],
   "source": [
    "init = '-init ./tao.init -noplot'\n",
    "tao=Tao(init)  "
   ]
  },
  {
   "cell_type": "code",
   "execution_count": 7,
   "id": "55c8f2c0-8b0e-4b13-a93f-b5f5c18a9e29",
   "metadata": {},
   "outputs": [],
   "source": [
    "# scan from 1 to -9 kG (machine units)\n",
    "try:\n",
    "    tao.cmd('snparticle 1500')\n",
    "except RuntimeError:\n",
    "    pass\n",
    "\n",
    "try:\n",
    "    tao.cmd('beamon')\n",
    "except RuntimeError:\n",
    "    pass"
   ]
  },
  {
   "cell_type": "markdown",
   "id": "7ac20e4d-104b-4576-be3c-3dcfffbd744f",
   "metadata": {},
   "source": [
    "For transverse emittance measurement, we need to:\n",
    "1. vary QE04 (QUAD:IN20:525)\n",
    "2. measure beamsize for every QE04 value at the OTR2 screen\n",
    "3. fit the beamsize vs quad strength data to get the emittance "
   ]
  },
  {
   "cell_type": "markdown",
   "id": "90c4540c-15ac-40de-ba24-9319e904877b",
   "metadata": {},
   "source": [
    "## Varying QE04 K1 from -12 to 0 1/m^2 (sim units) and getting beamsizes"
   ]
  },
  {
   "cell_type": "code",
   "execution_count": 50,
   "id": "0a6658ae-d9a8-4963-96b6-8befe40f4a3c",
   "metadata": {},
   "outputs": [
    {
     "name": "stdout",
     "output_type": "stream",
     "text": [
      "    4  K1                          = -1.2000000E+01 1/m^2    45  B1_GRADIENT                 =  5.4036996E+00 T/m\n",
      "    4  K1                          = -9.0000000E+00 1/m^2    45  B1_GRADIENT                 =  4.0527747E+00 T/m\n",
      "    4  K1                          = -6.0000000E+00 1/m^2    45  B1_GRADIENT                 =  2.7018498E+00 T/m\n",
      "    4  K1                          = -3.0000000E+00 1/m^2    45  B1_GRADIENT                 =  1.3509249E+00 T/m\n",
      "   10  FRINGE_TYPE                 =  None (1)               11  FRINGE_AT                   =  Both_Ends (3)\n"
     ]
    }
   ],
   "source": [
    "# scanning values\n",
    "quad_vals = np.linspace(-12, 0, 5)\n",
    "# beamsizes list\n",
    "x_sizes = []\n",
    "y_sizes = []\n",
    "# saving emittance predicted from bmad model\n",
    "norm_emit_x = []\n",
    "norm_emit_y = []\n",
    "\n",
    "for i in range(len(quad_vals)):\n",
    "    try:\n",
    "        tao.cmd(f'set ele QE04 K1={quad_vals[i]}')\n",
    "    except RuntimeError:\n",
    "        pass\n",
    "    \n",
    "    print(tao.cmd('show ele QE04')[10])\n",
    "    \n",
    "    # bunch statistical data\n",
    "    stats = tao.bunch_params('OTR2')\n",
    "    x_sizes.append(stats[\"sigma_x\"])\n",
    "    y_sizes.append(stats[\"sigma_y\"])\n",
    "    norm_emit_x.append(stats[\"norm_emit_x\"])\n",
    "    norm_emit_y.append(stats[\"norm_emit_y\"])"
   ]
  },
  {
   "cell_type": "code",
   "execution_count": 51,
   "id": "94f08abe-5829-4eea-b5ff-1e3c1afc3ded",
   "metadata": {},
   "outputs": [
    {
     "data": {
      "text/plain": [
       "Text(0, 0.5, 'Beamsize (m)')"
      ]
     },
     "execution_count": 51,
     "metadata": {},
     "output_type": "execute_result"
    },
    {
     "data": {
      "image/png": "[encoded data removed]",
      "text/plain": [
       "<Figure size 432x288 with 1 Axes>"
      ]
     },
     "metadata": {
      "needs_background": "light"
     },
     "output_type": "display_data"
    }
   ],
   "source": [
    "plt.plot(quad_vals, x_sizes, marker=\"x\", linewidth=0)\n",
    "plt.plot(quad_vals, y_sizes, marker=\"x\", linewidth=0)\n",
    "plt.xlabel(r\"Quad Gradient (1/m$^2$)\")\n",
    "plt.ylabel(\"Beamsize (m)\")"
   ]
  },
  {
   "cell_type": "code",
   "execution_count": 15,
   "id": "2812030a-9148-4ec2-85f9-b757cad2621b",
   "metadata": {},
   "outputs": [
    {
     "data": {
      "text/plain": [
       "[<matplotlib.lines.Line2D at 0x7f60bfcc41d0>]"
      ]
     },
     "execution_count": 15,
     "metadata": {},
     "output_type": "execute_result"
    },
    {
     "data": {
      "image/png": "[encoded data removed]",
      "text/plain": [
       "<Figure size 432x288 with 1 Axes>"
      ]
     },
     "metadata": {
      "needs_background": "light"
     },
     "output_type": "display_data"
    }
   ],
   "source": [
    "plt.plot(np.array(norm_emit_x)/1e-6)\n",
    "plt.plot(np.array(norm_emit_y)/1e-6)"
   ]
  },
  {
   "cell_type": "markdown",
   "id": "fd7f8db1-1d00-4abc-a521-1373e40de788",
   "metadata": {},
   "source": [
    "# Getting emittance using pyemittance package"
   ]
  },
  {
   "cell_type": "code",
   "execution_count": 63,
   "id": "d77edc66-660e-49f4-9baf-5c9fd12d5149",
   "metadata": {},
   "outputs": [],
   "source": [
    "# the sim quad vals are in T/m, but we need them in kG (set up to take kG since that's the machine unit)\n",
    "# there are functions in pyemittance to do this\n",
    "from pyemittance.optics import get_quad_field\n",
    "\n",
    "quad_field_kG = get_quad_field(quad_vals)"
   ]
  },
  {
   "cell_type": "code",
   "execution_count": 20,
   "id": "140f873c-2cf5-41a9-b39d-339babbea72e",
   "metadata": {},
   "outputs": [],
   "source": [
    "# no error on sim measurement (but this would be non-zero on the machine)\n",
    "x_sizes_err = np.asarray(x_sizes)*0\n",
    "y_sizes_err = np.asarray(y_sizes)*0"
   ]
  },
  {
   "cell_type": "code",
   "execution_count": 65,
   "id": "8ee4c20a-28db-4be2-85cf-67ed8ce73dfb",
   "metadata": {},
   "outputs": [
    {
     "data": {
      "image/png": "[encoded data removed]",
      "text/plain": [
       "<Figure size 432x288 with 1 Axes>"
      ]
     },
     "metadata": {
      "needs_background": "light"
     },
     "output_type": "display_data"
    },
    {
     "data": {
      "image/png": "[encoded data removed]",
      "text/plain": [
       "<Figure size 432x288 with 1 Axes>"
      ]
     },
     "metadata": {
      "needs_background": "light"
     },
     "output_type": "display_data"
    }
   ],
   "source": [
    "from pyemittance.emittance_calc import EmitCalc\n",
    "# this is the main class for the emittance measurement \n",
    "\n",
    "# pass this info to the Emittance Calc class to start a measurement\n",
    "ef = EmitCalc({'x': quad_field_kG, 'y': quad_field_kG},\n",
    "              {'x': x_sizes, 'y': y_sizes},\n",
    "              {'x': x_sizes_err, 'y': y_sizes_err}\n",
    "              )\n",
    "ef.plot = True\n",
    "\n",
    "# get normalized transverse emittance, the out_dict is the results returned in a dictionary\n",
    "out_dict = ef.get_emit()"
   ]
  },
  {
   "cell_type": "markdown",
   "id": "8879854d-fc2a-4b85-842e-e32256af7ff0",
   "metadata": {},
   "source": [
    "### Returned dictionary output of pyemittance"
   ]
  },
  {
   "cell_type": "code",
   "execution_count": 66,
   "id": "a5a73a82-c28c-4537-ad93-ca29637c728b",
   "metadata": {},
   "outputs": [
    {
     "data": {
      "text/plain": [
       "{'nemitx': 2.1583252433314983e-07,\n",
       " 'nemity': 2.1089024848400458e-07,\n",
       " 'nemitx_err': 3.446757299528848e-09,\n",
       " 'nemity_err': 4.0158327760268515e-09,\n",
       " 'bmagx': 1.16556007968336,\n",
       " 'bmagy': 1.3857156359913343,\n",
       " 'bmagx_err': 0.01861351863024351,\n",
       " 'bmagy_err': 0.02638719575357349,\n",
       " 'opt_q_x': -4.376886589760936,\n",
       " 'opt_q_y': -2.9179243931739567,\n",
       " 'quadvalsx': array([-5.83584879, -4.37688659, -2.91792439, -1.4589622 ,  0.        ]),\n",
       " 'beamsizesx': [7.71939923159646e-05,\n",
       "  4.03960159655086e-05,\n",
       "  3.81054984436276e-05,\n",
       "  7.26370995851494e-05,\n",
       "  0.000113857730743476],\n",
       " 'quadvalsy': array([-5.83584879, -4.37688659, -2.91792439, -1.4589622 ,  0.        ]),\n",
       " 'beamsizesy': [0.000107353736522507,\n",
       "  5.4595853806668e-05,\n",
       "  2.65273299632248e-05,\n",
       "  7.01234748102133e-05,\n",
       "  0.000125893639569768]}"
      ]
     },
     "execution_count": 66,
     "metadata": {},
     "output_type": "execute_result"
    }
   ],
   "source": [
    "out_dict "
   ]
  },
  {
   "cell_type": "code",
   "execution_count": 73,
   "id": "e5ac39dd-77e7-4e29-94ef-3ea9509d5039",
   "metadata": {},
   "outputs": [
    {
     "name": "stdout",
     "output_type": "stream",
     "text": [
      "Emittance from pyemittance: 0.21 mm mrad\n",
      "Emittance from Bmad: 0.23 mm mrad\n"
     ]
    }
   ],
   "source": [
    "# get geom mean of normalized emittances\n",
    "# running this function adds the transverse normalized emittance to the output dictionary too\n",
    "ef.get_gmean_emit()\n",
    "\n",
    "print(f\"Emittance from pyemittance: {out_dict['nemit']/1e-6:.2f} mm mrad\")\n",
    "print(f\"Emittance from Bmad: {min(np.sqrt( np.array(norm_emit_x)*np.array(norm_emit_y) ))/1e-6:.2f} mm mrad\")"
   ]
  },
  {
   "cell_type": "markdown",
   "id": "be800b1a-0289-48a8-bd17-627a23cc1aaf",
   "metadata": {},
   "source": [
    "# ========================================================================="
   ]
  },
  {
   "cell_type": "markdown",
   "id": "f779d236-6dc0-491f-93c2-5f3a5d10dba3",
   "metadata": {},
   "source": [
    "# How to get this machine ready\n",
    "## Define I/O with machine \n",
    "To run this similarily to the machine, we define a function that communicates with the \"machine\" (which in this case was Bmad). The function needs to specify the new value for the quadrupole (or other beamline values, here called \"config\"), and return the beamsizes and the corresponding errors. Pyemittance is set up to be used with meters and kGauss units, so the Bmad units needed to be converted accordingly. \n"
   ]
  },
  {
   "cell_type": "code",
   "execution_count": 95,
   "id": "4263ece9-c1b3-4a58-96b4-eafcbc1e4dbf",
   "metadata": {},
   "outputs": [],
   "source": [
    "# function to transform quad values from fields in kGauss to K1 in 1/m2\n",
    "from pyemittance.optics import get_gradient, get_k1 \n",
    "\n",
    "def get_bs_bmad(config, quad_val):\n",
    "    '''PyEmittance requires a function to get the beamsize from a model\n",
    "    to take two params and return the beamsizes and errors\n",
    "    config: values of SOL, CQ, SQ in CU injector \n",
    "    quad_val: quadrupole value for measurement IN KG!\n",
    "    '''\n",
    "    config = [] # we are not changing anything in the injector here\n",
    "    \n",
    "    # convert to sim units\n",
    "    quad_k1 = get_k1(get_gradient(quad_val))\n",
    "    \n",
    "    try:\n",
    "        tao.cmd(f'set ele QE04 K1={quad_k1}')\n",
    "    except RuntimeError:\n",
    "        pass\n",
    "\n",
    "    # bunch statistical data\n",
    "    stats = tao.bunch_params('OTR2')\n",
    "    x_size = stats[\"sigma_x\"]\n",
    "    y_size = stats[\"sigma_y\"]\n",
    "\n",
    "    # return xrms, yrms, xrms_err, yrms_err\n",
    "    return x_size, y_size, 0, 0\n",
    "    "
   ]
  },
  {
   "cell_type": "markdown",
   "id": "32e99d66-781a-4e86-84a5-ff704e8f9183",
   "metadata": {},
   "source": [
    "## Now we put this in an all-in-one function that can run by defining how the beamsize is measured \n",
    "This was done for the machine and the sim in pyemittance.emit_eval_example"
   ]
  },
  {
   "cell_type": "code",
   "execution_count": 76,
   "id": "386c6e74-f4f2-41a3-aaf3-109286907203",
   "metadata": {},
   "outputs": [],
   "source": [
    "from pyemittance.emit_eval_example import eval_emit_surrogate # simulation evaluation function"
   ]
  },
  {
   "cell_type": "code",
   "execution_count": 77,
   "id": "ccb85cac-6d6e-441b-97bc-a9ee11085bb8",
   "metadata": {},
   "outputs": [
    {
     "data": {
      "text/plain": [
       "\u001b[0;31mSignature:\u001b[0m\n",
       "\u001b[0meval_emit_surrogate\u001b[0m\u001b[0;34m(\u001b[0m\u001b[0;34m\u001b[0m\n",
       "\u001b[0;34m\u001b[0m    \u001b[0mget_bs_model\u001b[0m\u001b[0;34m,\u001b[0m\u001b[0;34m\u001b[0m\n",
       "\u001b[0;34m\u001b[0m    \u001b[0mconfig\u001b[0m\u001b[0;34m,\u001b[0m\u001b[0;34m\u001b[0m\n",
       "\u001b[0;34m\u001b[0m    \u001b[0mquad_init\u001b[0m\u001b[0;34m=\u001b[0m\u001b[0;34m[\u001b[0m\u001b[0;34m-\u001b[0m\u001b[0;36m6\u001b[0m\u001b[0;34m,\u001b[0m \u001b[0;34m-\u001b[0m\u001b[0;36m4\u001b[0m\u001b[0;34m,\u001b[0m \u001b[0;34m-\u001b[0m\u001b[0;36m2\u001b[0m\u001b[0;34m,\u001b[0m \u001b[0;36m0\u001b[0m\u001b[0;34m]\u001b[0m\u001b[0;34m,\u001b[0m\u001b[0;34m\u001b[0m\n",
       "\u001b[0;34m\u001b[0m    \u001b[0madapt_ranges\u001b[0m\u001b[0;34m=\u001b[0m\u001b[0;32mTrue\u001b[0m\u001b[0;34m,\u001b[0m\u001b[0;34m\u001b[0m\n",
       "\u001b[0;34m\u001b[0m    \u001b[0mnum_points\u001b[0m\u001b[0;34m=\u001b[0m\u001b[0;36m7\u001b[0m\u001b[0;34m,\u001b[0m\u001b[0;34m\u001b[0m\n",
       "\u001b[0;34m\u001b[0m    \u001b[0mcheck_sym\u001b[0m\u001b[0;34m=\u001b[0m\u001b[0;32mTrue\u001b[0m\u001b[0;34m,\u001b[0m\u001b[0;34m\u001b[0m\n",
       "\u001b[0;34m\u001b[0m    \u001b[0minfl_check\u001b[0m\u001b[0;34m=\u001b[0m\u001b[0;32mTrue\u001b[0m\u001b[0;34m,\u001b[0m\u001b[0;34m\u001b[0m\n",
       "\u001b[0;34m\u001b[0m    \u001b[0madd_pnts\u001b[0m\u001b[0;34m=\u001b[0m\u001b[0;32mTrue\u001b[0m\u001b[0;34m,\u001b[0m\u001b[0;34m\u001b[0m\n",
       "\u001b[0;34m\u001b[0m    \u001b[0mshow_plots\u001b[0m\u001b[0;34m=\u001b[0m\u001b[0;32mFalse\u001b[0m\u001b[0;34m,\u001b[0m\u001b[0;34m\u001b[0m\n",
       "\u001b[0;34m\u001b[0m    \u001b[0madd_noise\u001b[0m\u001b[0;34m=\u001b[0m\u001b[0;32mFalse\u001b[0m\u001b[0;34m,\u001b[0m\u001b[0;34m\u001b[0m\n",
       "\u001b[0;34m\u001b[0m    \u001b[0msave_runs\u001b[0m\u001b[0;34m=\u001b[0m\u001b[0;32mFalse\u001b[0m\u001b[0;34m,\u001b[0m\u001b[0;34m\u001b[0m\n",
       "\u001b[0;34m\u001b[0m    \u001b[0mcalc_bmag\u001b[0m\u001b[0;34m=\u001b[0m\u001b[0;32mFalse\u001b[0m\u001b[0;34m,\u001b[0m\u001b[0;34m\u001b[0m\n",
       "\u001b[0;34m\u001b[0m\u001b[0;34m)\u001b[0m\u001b[0;34m\u001b[0m\u001b[0;34m\u001b[0m\u001b[0m\n",
       "\u001b[0;31mDocstring:\u001b[0m <no docstring>\n",
       "\u001b[0;31mFile:\u001b[0m      ~/bmad_quad_scan/pyemittance/emit_eval_example.py\n",
       "\u001b[0;31mType:\u001b[0m      function\n"
      ]
     },
     "metadata": {},
     "output_type": "display_data"
    }
   ],
   "source": [
    "eval_emit_surrogate?"
   ]
  },
  {
   "cell_type": "code",
   "execution_count": 96,
   "id": "5dacfaa3-96b7-42a7-b623-5fc6de750f5c",
   "metadata": {},
   "outputs": [],
   "source": [
    "# define values to scan on the \"machine\"\n",
    "init_vals = [-5, -4, -3, -2, -1]"
   ]
  },
  {
   "cell_type": "code",
   "execution_count": 99,
   "id": "9c29ff51-e67f-44a3-ace1-037bc1a4ca0a",
   "metadata": {},
   "outputs": [
    {
     "data": {
      "image/png": "[encoded data removed]",
      "text/plain": [
       "<Figure size 432x288 with 1 Axes>"
      ]
     },
     "metadata": {
      "needs_background": "light"
     },
     "output_type": "display_data"
    },
    {
     "data": {
      "image/png": "[encoded data removed]",
      "text/plain": [
       "<Figure size 432x288 with 1 Axes>"
      ]
     },
     "metadata": {
      "needs_background": "light"
     },
     "output_type": "display_data"
    },
    {
     "data": {
      "text/plain": [
       "({'nemitx': 2.1404232640490705e-07,\n",
       "  'nemity': 2.1264463508964542e-07,\n",
       "  'nemitx_err': 2.9306847042284364e-09,\n",
       "  'nemity_err': 3.183763436747894e-09,\n",
       "  'bmagx': None,\n",
       "  'bmagy': None,\n",
       "  'bmagx_err': None,\n",
       "  'bmagy_err': None,\n",
       "  'opt_q_x': None,\n",
       "  'opt_q_y': None,\n",
       "  'quadvalsx': [-5, -4, -3, -2, -1],\n",
       "  'beamsizesx': [5.44432076668192e-05,\n",
       "   3.45540507578362e-05,\n",
       "   3.68045956223544e-05,\n",
       "   5.83085101390947e-05,\n",
       "   8.5349388282595e-05],\n",
       "  'quadvalsy': [-5, -4, -3, -2, -1],\n",
       "  'beamsizesy': [7.66548958740404e-05,\n",
       "   4.22282254989092e-05,\n",
       "   2.57216840224761e-05,\n",
       "   5.08254091968863e-05,\n",
       "   8.72989253767821e-05],\n",
       "  'nemit': 2.1334233614571262e-07,\n",
       "  'nemit_err': 4.328487292709863e-09},\n",
       " 5)"
      ]
     },
     "execution_count": 99,
     "metadata": {},
     "output_type": "execute_result"
    }
   ],
   "source": [
    "eval_emit_surrogate(\n",
    "    get_bs_model=get_bs_bmad,\n",
    "    config=None,\n",
    "    quad_init=init_vals,\n",
    "    adapt_ranges=False,\n",
    "    check_sym=False,\n",
    "    infl_check=False,\n",
    "    add_pnts=False,\n",
    "    show_plots=True,\n",
    ")"
   ]
  },
  {
   "cell_type": "markdown",
   "id": "754aec2d-7779-4cb5-9036-e7140c47ee24",
   "metadata": {},
   "source": [
    "## Making the equivalent functions for the machine with PV input/output"
   ]
  },
  {
   "cell_type": "markdown",
   "id": "ac2407ab-a733-4abb-a28b-a3212e347ebe",
   "metadata": {},
   "source": [
    "What needs to be defined is a function similar to **get_bs_bmad**.\n",
    "\n",
    "This part is all done in the **beam_io.py** file.\n",
    "The function in this case is in the class **MachineIO** that handles all I/O with the machine (see below example from beam_io.py).\n",
    "\n",
    "In the __init__ function, all PVs are imported from the JSON files in the *config* folder. Then the **get_beamsizes_machine** is a simple function that is similar to **get_bs_bmad**: takes beamline and quadrupole value and returns the beamsizes and errors. Inside the function, setting the PVs is simple using the pyepics package, and the beamsizes are measured depending on what is being used.\n",
    "\n",
    "- for OTR screens, the otrs_io.py is used to either fit the corresponding beam image and return the sizes, or it can pull the Matlab generated beamsizes from PVs (the option is called ProfMon since it's the profile monitor GUI in the control room that measures these and writes them to PVs)."
   ]
  },
  {
   "cell_type": "code",
   "execution_count": 101,
   "id": "0600667e-6a88-4cb7-bb70-60c7524962b3",
   "metadata": {},
   "outputs": [],
   "source": [
    "class MachineIO():\n",
    "    \"\"\"Class for handling all machine I/O\"\"\"\n",
    "    def __init__(self, name='LCLS', meas_type='OTRS'):\n",
    "        # machine name: only LCLS or FACET are currently supported\n",
    "        self.name = name\n",
    "        # specify OTRS or WIRE scans\n",
    "        self.meas_type = meas_type\n",
    "        self.online = False\n",
    "        self.use_profmon = False\n",
    "        self.settle_time = 3 # sleep time in seconds\n",
    "\n",
    "        # load info about PVs used in measurements (e.g. quad scan PV, image PV)\n",
    "        self.dir, self.filename = path.split(__file__)\n",
    "        self.CONFIG_PATH = path.join(self.dir, \"configs\")\n",
    "        self.meas_pv_info = json.load(open(self.CONFIG_PATH + '/meas_pv_info.json'))\n",
    "\n",
    "        self.meas_read_pv = PV(self.meas_pv_info['meas_device']['pv']['read'])\n",
    "        #if self.online:\n",
    "        # load info about settings to optimize\n",
    "        self.opt_pv_info = json.load(open(self.CONFIG_PATH + '/opt_pv_info.json'))\n",
    "        self.opt_pvs = self.opt_pv_info['opt_vars']\n",
    "        self.meas_cntrl_pv = PV(self.meas_pv_info['meas_device']['pv']['cntrl'])\n",
    "        self.sol_cntrl_pv = PV(self.opt_pvs[0])\n",
    "        self.cq_cntrl_pv = PV(self.opt_pvs[1])\n",
    "        self.sq_cntrl_pv = PV(self.opt_pvs[2])\n",
    "\n",
    "    def get_beamsizes_machine(self, config, quad_val):\n",
    "        \"\"\"Fn that pyemittance.observer calls\n",
    "        Takes quad value as input,\n",
    "        Returns xrms, yrms, xrms_err, yrms_err\n",
    "        \"\"\"\n",
    "        if self.online and quad_val is not None:\n",
    "            self.setquad(quad_val)\n",
    "            self.setinjector(config)\n",
    "            time.sleep(self.settle_time)\n",
    "            \n",
    "        else:\n",
    "            print(\"Not setting online values.\")\n",
    "\n",
    "        if self.meas_type == 'OTRS':\n",
    "            return get_beamsizes_otrs(self.use_profmon)\n",
    "\n",
    "        elif self.meas_type == 'WIRE':\n",
    "            if self.online:\n",
    "                return get_beamsizes_wire(self.online)\n",
    "            else:\n",
    "                print(\"Not running wire scans.\")\n",
    "\n",
    "        else:\n",
    "            raise NotImplementedError('No valid measurement type defined.')"
   ]
  }
 ],
 "metadata": {
  "kernelspec": {
   "display_name": "Python 3 (ipykernel)",
   "language": "python",
   "name": "python3"
  },
  "language_info": {
   "codemirror_mode": {
    "name": "ipython",
    "version": 3
   },
   "file_extension": ".py",
   "mimetype": "text/x-python",
   "name": "python",
   "nbconvert_exporter": "python",
   "pygments_lexer": "ipython3",
   "version": "3.8.10"
  }
 },
 "nbformat": 4,
 "nbformat_minor": 5
}
