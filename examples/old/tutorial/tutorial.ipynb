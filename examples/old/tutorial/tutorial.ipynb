{
 "cells": [
  {
   "cell_type": "markdown",
   "id": "843e466b",
   "metadata": {},
   "source": [
    "# PyEmittance Tutorial"
   ]
  },
  {
   "cell_type": "code",
   "execution_count": 1,
   "id": "340c0d38-a2ff-469c-8abe-d97b3fc7e3a0",
   "metadata": {
    "execution": {
     "iopub.execute_input": "2023-06-04T03:03:11.782890Z",
     "iopub.status.busy": "2023-06-04T03:03:11.782651Z",
     "iopub.status.idle": "2023-06-04T03:03:12.253869Z",
     "shell.execute_reply": "2023-06-04T03:03:12.253155Z"
    }
   },
   "outputs": [],
   "source": [
    "from pyemittance import PyEmittance\n",
    "import numpy as np"
   ]
  },
  {
   "cell_type": "code",
   "execution_count": 2,
   "id": "97b9eae3-b80c-46d5-8c6f-1df8923fb03c",
   "metadata": {
    "execution": {
     "iopub.execute_input": "2023-06-04T03:03:12.257623Z",
     "iopub.status.busy": "2023-06-04T03:03:12.257322Z",
     "iopub.status.idle": "2023-06-04T03:03:12.262138Z",
     "shell.execute_reply": "2023-06-04T03:03:12.261593Z"
    }
   },
   "outputs": [],
   "source": [
    "meas = PyEmittance()"
   ]
  },
  {
   "cell_type": "code",
   "execution_count": 3,
   "id": "f5389d1c-4e56-4484-84b0-a48ff3d0cff3",
   "metadata": {
    "execution": {
     "iopub.execute_input": "2023-06-04T03:03:12.264718Z",
     "iopub.status.busy": "2023-06-04T03:03:12.264512Z",
     "iopub.status.idle": "2023-06-04T03:03:12.270201Z",
     "shell.execute_reply": "2023-06-04T03:03:12.269605Z"
    }
   },
   "outputs": [
    {
     "data": {
      "text/plain": [
       "'LCLS_OTR2'"
      ]
     },
     "execution_count": 3,
     "metadata": {},
     "output_type": "execute_result"
    }
   ],
   "source": [
    "meas.config_name"
   ]
  },
  {
   "cell_type": "markdown",
   "id": "3af3b88e-992f-4379-91e0-8c1c0c7ca933",
   "metadata": {},
   "source": [
    "## Three options for setting configurations for measurements:\n",
    "1. Make directory under `configs/` with Machine_Device_Name with all needed jsons (see `configs/LCLS2_OTR3`), and pass dir name to `meas.config_name`\n",
    "2. Change params and configs through class attributes\n",
    "3. pass the dictionary to pyemittance (same keys and subkeys as `meas.config_dict` below)"
   ]
  },
  {
   "cell_type": "code",
   "execution_count": 4,
   "id": "156777c4-1f4d-4285-b8c5-99988c802d1f",
   "metadata": {
    "execution": {
     "iopub.execute_input": "2023-06-04T03:03:12.274482Z",
     "iopub.status.busy": "2023-06-04T03:03:12.274274Z",
     "iopub.status.idle": "2023-06-04T03:03:12.277018Z",
     "shell.execute_reply": "2023-06-04T03:03:12.276396Z"
    }
   },
   "outputs": [],
   "source": [
    "meas.num_points = 5"
   ]
  },
  {
   "cell_type": "code",
   "execution_count": 5,
   "id": "13efc521-380c-47c4-b5b5-55929df9f418",
   "metadata": {
    "execution": {
     "iopub.execute_input": "2023-06-04T03:03:12.279748Z",
     "iopub.status.busy": "2023-06-04T03:03:12.279545Z",
     "iopub.status.idle": "2023-06-04T03:03:12.283411Z",
     "shell.execute_reply": "2023-06-04T03:03:12.282819Z"
    }
   },
   "outputs": [
    {
     "data": {
      "text/plain": [
       "dict_keys(['beamline_info', 'img_proc', 'meas_pv_info', 'savepaths'])"
      ]
     },
     "execution_count": 5,
     "metadata": {},
     "output_type": "execute_result"
    }
   ],
   "source": [
    "# see all configs with command below\n",
    "meas.config_dict.keys()"
   ]
  },
  {
   "cell_type": "code",
   "execution_count": 6,
   "id": "61291621-7374-488d-870c-0c50e56d3c65",
   "metadata": {
    "execution": {
     "iopub.execute_input": "2023-06-04T03:03:12.286709Z",
     "iopub.status.busy": "2023-06-04T03:03:12.286508Z",
     "iopub.status.idle": "2023-06-04T03:03:12.290775Z",
     "shell.execute_reply": "2023-06-04T03:03:12.290213Z"
    }
   },
   "outputs": [
    {
     "data": {
      "text/plain": [
       "{'subtract_bg': False,\n",
       " 'use_roi': False,\n",
       " 'avg_ims': True,\n",
       " 'n_to_acquire': 5,\n",
       " 'background_im': None,\n",
       " 'amp_threshold': 1500,\n",
       " 'min_sigma': 1.0,\n",
       " 'max_sigma': 60,\n",
       " 'max_samples': 3,\n",
       " 'roi': {'xmin': 0, 'xmax': 100, 'ymin': 0, 'ymax': 100}}"
      ]
     },
     "execution_count": 6,
     "metadata": {},
     "output_type": "execute_result"
    }
   ],
   "source": [
    "meas.config_dict['img_proc']"
   ]
  },
  {
   "cell_type": "code",
   "execution_count": 7,
   "id": "f91e220b-2a96-4777-93a9-03c825ca5c95",
   "metadata": {
    "execution": {
     "iopub.execute_input": "2023-06-04T03:03:12.294114Z",
     "iopub.status.busy": "2023-06-04T03:03:12.293916Z",
     "iopub.status.idle": "2023-06-04T03:03:12.297451Z",
     "shell.execute_reply": "2023-06-04T03:03:12.296860Z"
    }
   },
   "outputs": [
    {
     "data": {
      "text/plain": [
       "[-6, -4, -2, 0]"
      ]
     },
     "execution_count": 7,
     "metadata": {},
     "output_type": "execute_result"
    }
   ],
   "source": [
    "meas.quad_init"
   ]
  },
  {
   "cell_type": "markdown",
   "id": "17abe0de-3282-412c-a1d7-b3c476596721",
   "metadata": {},
   "source": [
    "## Example running offline with random beam size numbers"
   ]
  },
  {
   "cell_type": "code",
   "execution_count": 8,
   "id": "3346bb1e-d4e9-456b-848d-a49dabe3837b",
   "metadata": {
    "execution": {
     "iopub.execute_input": "2023-06-04T03:03:12.300728Z",
     "iopub.status.busy": "2023-06-04T03:03:12.300528Z",
     "iopub.status.idle": "2023-06-04T03:03:12.359484Z",
     "shell.execute_reply": "2023-06-04T03:03:12.358921Z"
    }
   },
   "outputs": [
    {
     "name": "stderr",
     "output_type": "stream",
     "text": [
      "No settle_time found in in meas_device, setting to zero\n",
      "No settle_time found in in meas_device, setting to zero\n",
      "No settle_time found in in meas_device, setting to zero\n",
      "No settle_time found in in meas_device, setting to zero\n",
      "No settle_time found in in meas_device, setting to zero\n",
      "No settle_time found in in meas_device, setting to zero\n",
      "No settle_time found in in meas_device, setting to zero\n",
      "No settle_time found in in meas_device, setting to zero\n",
      "Emittance can't be computed. Returning error\n",
      "Emittance can't be computed. Returning error\n"
     ]
    }
   ],
   "source": [
    "import matplotlib.pyplot as plt\n",
    "res = meas.measure_emittance()"
   ]
  },
  {
   "cell_type": "code",
   "execution_count": 9,
   "id": "17907721-184c-4490-b466-5e53b0d764ce",
   "metadata": {
    "execution": {
     "iopub.execute_input": "2023-06-04T03:03:12.362505Z",
     "iopub.status.busy": "2023-06-04T03:03:12.362084Z",
     "iopub.status.idle": "2023-06-04T03:03:12.366737Z",
     "shell.execute_reply": "2023-06-04T03:03:12.366264Z"
    }
   },
   "outputs": [
    {
     "data": {
      "text/plain": [
       "{'name': 'LCLS',\n",
       " 'Lquad': 0.108,\n",
       " 'energy': 135000000.0,\n",
       " 'Twiss0': [1e-06,\n",
       "  1e-06,\n",
       "  1.113081026,\n",
       "  1.113021659,\n",
       "  -0.0689403587,\n",
       "  -0.07029489754],\n",
       " 'rMatx': [1, 2.26, 0, 1],\n",
       " 'rMaty': [1, 2.26, 0, 1]}"
      ]
     },
     "execution_count": 9,
     "metadata": {},
     "output_type": "execute_result"
    }
   ],
   "source": [
    "meas.config_dict['beamline_info']"
   ]
  },
  {
   "cell_type": "markdown",
   "id": "34c987d4-b401-4ddb-bcf2-57e96c0b5466",
   "metadata": {},
   "source": [
    "The output is a large dict:"
   ]
  },
  {
   "cell_type": "code",
   "execution_count": 10,
   "id": "789a0a4e-3cf6-4df1-a0a2-7697558b2aec",
   "metadata": {
    "execution": {
     "iopub.execute_input": "2023-06-04T03:03:12.369581Z",
     "iopub.status.busy": "2023-06-04T03:03:12.369186Z",
     "iopub.status.idle": "2023-06-04T03:03:12.374285Z",
     "shell.execute_reply": "2023-06-04T03:03:12.373812Z"
    }
   },
   "outputs": [
    {
     "data": {
      "text/plain": [
       "{'quadvalsx': array([-4., -3., -2., -1.,  0.]),\n",
       " 'beamsizesx': array([1.43119402e-04, 3.27447622e-04, 3.40515287e-04, 6.47565338e-05,\n",
       "        2.58948157e-04]),\n",
       " 'beamsizeserrx': array([2.14679103e-06, 4.91171432e-06, 5.10772930e-06, 9.71348007e-07,\n",
       "        3.88422235e-06]),\n",
       " 'error_x': True,\n",
       " 'quadvalsy': array([-6., -6., -6., -6., -6.]),\n",
       " 'beamsizesy': array([0.00037009, 0.00037009, 0.00037009, 0.00037009, 0.00037009]),\n",
       " 'beamsizeserry': array([5.55128026e-06, 5.55128026e-06, 5.55128026e-06, 5.55128026e-06,\n",
       "        5.55128026e-06]),\n",
       " 'error_y': True}"
      ]
     },
     "execution_count": 10,
     "metadata": {},
     "output_type": "execute_result"
    }
   ],
   "source": [
    "res"
   ]
  },
  {
   "cell_type": "markdown",
   "id": "f6e66c9e-8773-4b6c-b393-335a7b45e18e",
   "metadata": {},
   "source": [
    "## Example running online (do not run on machine!)"
   ]
  },
  {
   "cell_type": "code",
   "execution_count": 11,
   "id": "0bd09ce9-da64-4e6e-83b3-61a69a565b4b",
   "metadata": {
    "execution": {
     "iopub.execute_input": "2023-06-04T03:03:12.377124Z",
     "iopub.status.busy": "2023-06-04T03:03:12.376727Z",
     "iopub.status.idle": "2023-06-04T03:03:12.379443Z",
     "shell.execute_reply": "2023-06-04T03:03:12.378975Z"
    }
   },
   "outputs": [],
   "source": [
    "meas.online = True"
   ]
  },
  {
   "cell_type": "code",
   "execution_count": 12,
   "id": "1f892d9a-e1c8-4564-abba-6939a8a434e7",
   "metadata": {
    "execution": {
     "iopub.execute_input": "2023-06-04T03:03:12.381997Z",
     "iopub.status.busy": "2023-06-04T03:03:12.381615Z",
     "iopub.status.idle": "2023-06-04T03:03:19.388472Z",
     "shell.execute_reply": "2023-06-04T03:03:19.387752Z"
    }
   },
   "outputs": [
    {
     "name": "stderr",
     "output_type": "stream",
     "text": [
      "No settle_time found in in meas_device, setting to zero\n"
     ]
    },
    {
     "name": "stdout",
     "output_type": "stream",
     "text": [
      "cannot connect to OTRS:IN20:541:RESOLUTION\n"
     ]
    }
   ],
   "source": [
    "try:\n",
    "    res = meas.measure_emittance()\n",
    "except:\n",
    "    pass # epics can't connect on my local pc"
   ]
  },
  {
   "cell_type": "markdown",
   "id": "c6b71629-2020-446c-86b6-26b749412fcd",
   "metadata": {},
   "source": [
    "## Example running with some random beamsize model \n",
    "### (can be any simulation, just need to pass pyemittance the beamsize fn)"
   ]
  },
  {
   "cell_type": "code",
   "execution_count": 13,
   "id": "d768660f-b07e-4087-acc0-d4e47e996169",
   "metadata": {
    "execution": {
     "iopub.execute_input": "2023-06-04T03:03:19.392228Z",
     "iopub.status.busy": "2023-06-04T03:03:19.391758Z",
     "iopub.status.idle": "2023-06-04T03:03:19.399406Z",
     "shell.execute_reply": "2023-06-04T03:03:19.398820Z"
    }
   },
   "outputs": [
    {
     "data": {
      "text/plain": [
       "(0.00012325106756494653, 2.809895943943908e-06, 0, 0)"
      ]
     },
     "execution_count": 13,
     "metadata": {},
     "output_type": "execute_result"
    }
   ],
   "source": [
    "def get_bs_model(*args):\n",
    "    return abs(np.random.normal(1e-6, 5e-5)), abs(np.random.normal(1e-6, 5e-6)), 0, 0\n",
    "\n",
    "get_bs_model()"
   ]
  },
  {
   "cell_type": "code",
   "execution_count": 14,
   "id": "481773b3-36e5-4ebc-9e9b-1493e01dc719",
   "metadata": {
    "execution": {
     "iopub.execute_input": "2023-06-04T03:03:19.402148Z",
     "iopub.status.busy": "2023-06-04T03:03:19.401704Z",
     "iopub.status.idle": "2023-06-04T03:03:19.406055Z",
     "shell.execute_reply": "2023-06-04T03:03:19.405497Z"
    }
   },
   "outputs": [],
   "source": [
    "meas.use_model=True\n",
    "meas.online = False # meaningless when running with a model\n",
    "meas.get_bs_model = get_bs_model"
   ]
  },
  {
   "cell_type": "code",
   "execution_count": 15,
   "id": "e2e3fc3f-bdee-4326-bace-af2afc76a0ed",
   "metadata": {
    "execution": {
     "iopub.execute_input": "2023-06-04T03:03:19.408887Z",
     "iopub.status.busy": "2023-06-04T03:03:19.408470Z",
     "iopub.status.idle": "2023-06-04T03:03:19.429839Z",
     "shell.execute_reply": "2023-06-04T03:03:19.429226Z"
    }
   },
   "outputs": [
    {
     "name": "stderr",
     "output_type": "stream",
     "text": [
      "No settle_time found in in meas_device, setting to zero\n",
      "No settle_time found in in meas_device, setting to zero\n",
      "No settle_time found in in meas_device, setting to zero\n",
      "No settle_time found in in meas_device, setting to zero\n",
      "No settle_time found in in meas_device, setting to zero\n",
      "No settle_time found in in meas_device, setting to zero\n",
      "No settle_time found in in meas_device, setting to zero\n",
      "No settle_time found in in meas_device, setting to zero\n",
      "No settle_time found in in meas_device, setting to zero\n",
      "No settle_time found in in meas_device, setting to zero\n",
      "No settle_time found in in meas_device, setting to zero\n",
      "No settle_time found in in meas_device, setting to zero\n"
     ]
    }
   ],
   "source": [
    "res = meas.measure_emittance()"
   ]
  },
  {
   "cell_type": "code",
   "execution_count": 16,
   "id": "f898623f-bda1-4f07-be4c-871c0b56cee9",
   "metadata": {
    "execution": {
     "iopub.execute_input": "2023-06-04T03:03:19.432789Z",
     "iopub.status.busy": "2023-06-04T03:03:19.432491Z",
     "iopub.status.idle": "2023-06-04T03:03:19.440355Z",
     "shell.execute_reply": "2023-06-04T03:03:19.439822Z"
    }
   },
   "outputs": [
    {
     "data": {
      "text/plain": [
       "{'quadvalsx': array([-6.        , -4.8207308 , -3.6414616 , -2.4621924 , -1.2829232 ,\n",
       "        -0.33950784]),\n",
       " 'beamsizesx': array([0.00025666, 0.00041176, 0.00024365, 0.00048221, 0.00013277,\n",
       "        0.00027465]),\n",
       " 'beamsizeserrx': array([3.84987598e-06, 6.17640751e-06, 3.65474459e-06, 7.23318149e-06,\n",
       "        1.99148994e-06, 4.11974788e-06]),\n",
       " 'error_x': False,\n",
       " 'emit_x': 3.191951508643275e-09,\n",
       " 'norm_emit_x': 8.432705520918957e-07,\n",
       " 'beta_x': 1.3215219174371604,\n",
       " 'alpha_x': 0.10185277684461981,\n",
       " 'emit_x_err': 1.1209224249067088e-09,\n",
       " 'norm_emit_x_err': 2.961325914706759e-07,\n",
       " 'beta_x_rel_err': 0.35117150804811303,\n",
       " 'alpha_x_rel_err': 4.383890316235122e-17,\n",
       " 'sigma_11': 4.218233878068698e-09,\n",
       " 'sigma_12': -3.2510912470869104e-10,\n",
       " 'sigma_22': 2.440417168431665e-09,\n",
       " 'screen_sigma_11': array([8.17205329e-08, 6.19476596e-08, 4.56568756e-08, 3.27571621e-08,\n",
       "        2.31588303e-08, 1.77977303e-08]),\n",
       " 'screen_sigma_12': array([2.79905356e-08, 2.05870593e-08, 1.46789862e-08, 1.02267852e-08,\n",
       "        7.19150575e-09, 5.75765828e-09]),\n",
       " 'screen_sigma_22': array([9.71186324e-09, 7.00616564e-09, 4.94254562e-09, 3.50383496e-09,\n",
       "        2.67311900e-09, 2.43509608e-09]),\n",
       " 'quadvalsy': array([-6. , -4.5, -3. , -1.5,  0. ]),\n",
       " 'beamsizesy': array([0.00041168, 0.00041702, 0.00021927, 0.00051342, 0.00039601]),\n",
       " 'beamsizeserry': array([6.17517820e-06, 6.25537213e-06, 3.28899977e-06, 7.70127930e-06,\n",
       "        5.94014597e-06]),\n",
       " 'error_y': False,\n",
       " 'emit_y': 2.4092136232678245e-08,\n",
       " 'norm_emit_y': 6.364817562857981e-06,\n",
       " 'beta_y': 2.218508227935401,\n",
       " 'alpha_y': -0.4176122727646676,\n",
       " 'emit_y_err': 3.60969533180313e-10,\n",
       " 'norm_emit_y_err': 9.536328378080471e-08,\n",
       " 'beta_y_rel_err': 0.014982877802703874,\n",
       " 'alpha_y_rel_err': -3.704475406710963e-17,\n",
       " 'sigma_33': 5.344860246073728e-08,\n",
       " 'sigma_34': 1.0061171767884759e-08,\n",
       " 'sigma_44': 1.2753527205833816e-08,\n",
       " 'screen_sigma_33': array([1.88871054e-07, 9.32583980e-08, 5.72080827e-08, 8.29140821e-08,\n",
       "        1.72612746e-07]),\n",
       " 'screen_sigma_34': array([1.18256967e-07, 5.95237240e-08, 2.63086951e-08, 1.95643172e-08,\n",
       "        4.02615242e-08]),\n",
       " 'screen_sigma_44': array([7.71168531e-08, 4.42159081e-08, 2.22447320e-08, 1.16167665e-08,\n",
       "        1.27535272e-08]),\n",
       " 'sqrt_norm_emit_4d': 2.3167354661668743e-06,\n",
       " 'sqrt_norm_emit_4d_err': 8.143116380919363e-07}"
      ]
     },
     "execution_count": 16,
     "metadata": {},
     "output_type": "execute_result"
    }
   ],
   "source": [
    "res"
   ]
  }
 ],
 "metadata": {
  "kernelspec": {
   "display_name": "Python 3 (ipykernel)",
   "language": "python",
   "name": "python3"
  },
  "language_info": {
   "codemirror_mode": {
    "name": "ipython",
    "version": 3
   },
   "file_extension": ".py",
   "mimetype": "text/x-python",
   "name": "python",
   "nbconvert_exporter": "python",
   "pygments_lexer": "ipython3",
   "version": "3.9.16"
  },
  "vscode": {
   "interpreter": {
    "hash": "a91e20ba2d53a502f7925f39cf39925e3f47f4d0539594422b17676132d3b721"
   }
  }
 },
 "nbformat": 4,
 "nbformat_minor": 5
}
