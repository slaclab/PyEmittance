{
 "cells": [
  {
   "cell_type": "markdown",
   "id": "843e466b",
   "metadata": {},
   "source": [
    "# PyEmittance Tutorial"
   ]
  },
  {
   "cell_type": "code",
   "execution_count": 1,
   "id": "340c0d38-a2ff-469c-8abe-d97b3fc7e3a0",
   "metadata": {
    "execution": {
     "iopub.execute_input": "2023-09-02T15:59:47.020610Z",
     "iopub.status.busy": "2023-09-02T15:59:47.020350Z",
     "iopub.status.idle": "2023-09-02T15:59:47.606227Z",
     "shell.execute_reply": "2023-09-02T15:59:47.605191Z"
    }
   },
   "outputs": [],
   "source": [
    "from pyemittance import PyEmittance\n",
    "import numpy as np"
   ]
  },
  {
   "cell_type": "code",
   "execution_count": 2,
   "id": "97b9eae3-b80c-46d5-8c6f-1df8923fb03c",
   "metadata": {
    "execution": {
     "iopub.execute_input": "2023-09-02T15:59:47.610433Z",
     "iopub.status.busy": "2023-09-02T15:59:47.610055Z",
     "iopub.status.idle": "2023-09-02T15:59:47.662562Z",
     "shell.execute_reply": "2023-09-02T15:59:47.661421Z"
    }
   },
   "outputs": [
    {
     "name": "stderr",
     "output_type": "stream",
     "text": [
      "No settle_time found in in meas_device, setting to zero\n"
     ]
    }
   ],
   "source": [
    "meas = PyEmittance()"
   ]
  },
  {
   "cell_type": "code",
   "execution_count": 3,
   "id": "f5389d1c-4e56-4484-84b0-a48ff3d0cff3",
   "metadata": {
    "execution": {
     "iopub.execute_input": "2023-09-02T15:59:47.667042Z",
     "iopub.status.busy": "2023-09-02T15:59:47.666334Z",
     "iopub.status.idle": "2023-09-02T15:59:47.678095Z",
     "shell.execute_reply": "2023-09-02T15:59:47.677313Z"
    }
   },
   "outputs": [
    {
     "data": {
      "text/plain": [
       "'LCLS_OTR2'"
      ]
     },
     "execution_count": 3,
     "metadata": {},
     "output_type": "execute_result"
    }
   ],
   "source": [
    "meas.config_name"
   ]
  },
  {
   "cell_type": "markdown",
   "id": "3af3b88e-992f-4379-91e0-8c1c0c7ca933",
   "metadata": {},
   "source": [
    "## Three options for setting configurations for measurements:\n",
    "1. Make directory under `configs/` with Machine_Device_Name with all needed jsons (see `configs/LCLS2_OTR3`), and pass dir name to `meas.config_name`\n",
    "2. Change params and configs through class attributes\n",
    "3. pass the dictionary to pyemittance (same keys and subkeys as `meas.config_dict` below)"
   ]
  },
  {
   "cell_type": "code",
   "execution_count": 4,
   "id": "156777c4-1f4d-4285-b8c5-99988c802d1f",
   "metadata": {
    "execution": {
     "iopub.execute_input": "2023-09-02T15:59:47.681703Z",
     "iopub.status.busy": "2023-09-02T15:59:47.681226Z",
     "iopub.status.idle": "2023-09-02T15:59:47.684939Z",
     "shell.execute_reply": "2023-09-02T15:59:47.684231Z"
    }
   },
   "outputs": [],
   "source": [
    "meas.num_points = 5"
   ]
  },
  {
   "cell_type": "code",
   "execution_count": 5,
   "id": "13efc521-380c-47c4-b5b5-55929df9f418",
   "metadata": {
    "execution": {
     "iopub.execute_input": "2023-09-02T15:59:47.690471Z",
     "iopub.status.busy": "2023-09-02T15:59:47.690055Z",
     "iopub.status.idle": "2023-09-02T15:59:47.695383Z",
     "shell.execute_reply": "2023-09-02T15:59:47.694595Z"
    }
   },
   "outputs": [
    {
     "data": {
      "text/plain": [
       "dict_keys(['beamline_info', 'img_proc', 'meas_pv_info', 'savepaths'])"
      ]
     },
     "execution_count": 5,
     "metadata": {},
     "output_type": "execute_result"
    }
   ],
   "source": [
    "# see all configs with command below\n",
    "meas.config_dict.keys()"
   ]
  },
  {
   "cell_type": "code",
   "execution_count": 6,
   "id": "61291621-7374-488d-870c-0c50e56d3c65",
   "metadata": {
    "execution": {
     "iopub.execute_input": "2023-09-02T15:59:47.698542Z",
     "iopub.status.busy": "2023-09-02T15:59:47.698115Z",
     "iopub.status.idle": "2023-09-02T15:59:47.704029Z",
     "shell.execute_reply": "2023-09-02T15:59:47.703317Z"
    }
   },
   "outputs": [
    {
     "data": {
      "text/plain": [
       "{'subtract_bg': False,\n",
       " 'use_roi': False,\n",
       " 'avg_ims': True,\n",
       " 'n_to_acquire': 5,\n",
       " 'background_im': None,\n",
       " 'amp_threshold': 1500,\n",
       " 'min_sigma': 1.0,\n",
       " 'max_sigma': 60,\n",
       " 'max_samples': 3,\n",
       " 'roi': {'xmin': 0, 'xmax': 100, 'ymin': 0, 'ymax': 100}}"
      ]
     },
     "execution_count": 6,
     "metadata": {},
     "output_type": "execute_result"
    }
   ],
   "source": [
    "meas.config_dict['img_proc']"
   ]
  },
  {
   "cell_type": "code",
   "execution_count": 7,
   "id": "f91e220b-2a96-4777-93a9-03c825ca5c95",
   "metadata": {
    "execution": {
     "iopub.execute_input": "2023-09-02T15:59:47.707301Z",
     "iopub.status.busy": "2023-09-02T15:59:47.706825Z",
     "iopub.status.idle": "2023-09-02T15:59:47.714501Z",
     "shell.execute_reply": "2023-09-02T15:59:47.713762Z"
    }
   },
   "outputs": [
    {
     "data": {
      "text/plain": [
       "[-6, -4, -2, 0]"
      ]
     },
     "execution_count": 7,
     "metadata": {},
     "output_type": "execute_result"
    }
   ],
   "source": [
    "meas.quad_init"
   ]
  },
  {
   "cell_type": "markdown",
   "id": "17abe0de-3282-412c-a1d7-b3c476596721",
   "metadata": {},
   "source": [
    "## Example running offline with random beam size numbers"
   ]
  },
  {
   "cell_type": "code",
   "execution_count": 8,
   "id": "3346bb1e-d4e9-456b-848d-a49dabe3837b",
   "metadata": {
    "execution": {
     "iopub.execute_input": "2023-09-02T15:59:47.717835Z",
     "iopub.status.busy": "2023-09-02T15:59:47.717374Z",
     "iopub.status.idle": "2023-09-02T15:59:47.728794Z",
     "shell.execute_reply": "2023-09-02T15:59:47.728070Z"
    }
   },
   "outputs": [
    {
     "name": "stderr",
     "output_type": "stream",
     "text": [
      "No settle_time found in in meas_device, setting to zero\n",
      "Emittance can't be computed. Returning error\n"
     ]
    },
    {
     "name": "stdout",
     "output_type": "stream",
     "text": [
      "[None]\n",
      "[None, None]\n",
      "[None, None, None]\n",
      "[None, None, None, None]\n"
     ]
    }
   ],
   "source": [
    "import matplotlib.pyplot as plt\n",
    "res = meas.measure_emittance()"
   ]
  },
  {
   "cell_type": "code",
   "execution_count": 9,
   "id": "17907721-184c-4490-b466-5e53b0d764ce",
   "metadata": {
    "execution": {
     "iopub.execute_input": "2023-09-02T15:59:47.732107Z",
     "iopub.status.busy": "2023-09-02T15:59:47.731622Z",
     "iopub.status.idle": "2023-09-02T15:59:47.737294Z",
     "shell.execute_reply": "2023-09-02T15:59:47.736576Z"
    }
   },
   "outputs": [
    {
     "data": {
      "text/plain": [
       "{'name': 'LCLS',\n",
       " 'Lquad': 0.108,\n",
       " 'energy': 135000000.0,\n",
       " 'Twiss0': [1e-06,\n",
       "  1e-06,\n",
       "  1.113081026,\n",
       "  1.113021659,\n",
       "  -0.0689403587,\n",
       "  -0.07029489754],\n",
       " 'rMatx': [1, 2.26, 0, 1],\n",
       " 'rMaty': [1, 2.26, 0, 1]}"
      ]
     },
     "execution_count": 9,
     "metadata": {},
     "output_type": "execute_result"
    }
   ],
   "source": [
    "meas.config_dict['beamline_info']"
   ]
  },
  {
   "cell_type": "markdown",
   "id": "34c987d4-b401-4ddb-bcf2-57e96c0b5466",
   "metadata": {},
   "source": [
    "The output is a large dict:"
   ]
  },
  {
   "cell_type": "code",
   "execution_count": 10,
   "id": "789a0a4e-3cf6-4df1-a0a2-7697558b2aec",
   "metadata": {
    "execution": {
     "iopub.execute_input": "2023-09-02T15:59:47.740583Z",
     "iopub.status.busy": "2023-09-02T15:59:47.740192Z",
     "iopub.status.idle": "2023-09-02T15:59:47.748194Z",
     "shell.execute_reply": "2023-09-02T15:59:47.747468Z"
    }
   },
   "outputs": [
    {
     "data": {
      "text/plain": [
       "{'quadvalsx': array([-5.6, -4.8, -4. , -3.5, -3. ]),\n",
       " 'beamsizesx': array([3.06341697e-04, 3.06273619e-04, 7.55905120e-05, 1.63444300e-04,\n",
       "        2.55702280e-04]),\n",
       " 'beamsizeserrx': array([4.59512546e-06, 4.59410428e-06, 1.13385768e-06, 2.45166450e-06,\n",
       "        3.83553420e-06]),\n",
       " 'error_x': False,\n",
       " 'emit_x': 1.3182016649832431e-08,\n",
       " 'norm_emit_x': 3.482511068194004e-06,\n",
       " 'beta_x': 15.02622785043927,\n",
       " 'alpha_x': 19.061745278330807,\n",
       " 'emit_x_err': 2.7117885883349793e-10,\n",
       " 'norm_emit_x_err': 7.164179824942649e-08,\n",
       " 'beta_x_rel_err': 0.020571879556718395,\n",
       " 'alpha_x_rel_err': 5.4078530536262715e-18,\n",
       " 'sigma_11': 1.9807598570866623e-07,\n",
       " 'sigma_12': -2.5127224363382145e-07,\n",
       " 'sigma_22': 3.19632416606275e-07,\n",
       " 'screen_sigma_11': array([1.14061440e-07, 2.84407799e-08, 6.02730207e-09, 2.35808867e-08,\n",
       "        6.50628711e-08]),\n",
       " 'screen_sigma_12': array([-9.81555058e-09, -1.49241525e-08,  7.07670009e-09,  3.43612956e-08,\n",
       "         7.19047215e-08]),\n",
       " 'screen_sigma_22': array([2.36811490e-09, 1.39411047e-08, 3.71385480e-08, 5.74390698e-08,\n",
       "        8.21367771e-08]),\n",
       " 'quadvalsy': array([0., 0., 0., 0., 0., 0., 0., 0., 0.]),\n",
       " 'beamsizesy': array([0.00030132, 0.00030132, 0.00030132, 0.00030132, 0.00030132,\n",
       "        0.00030132, 0.00030132, 0.00030132, 0.00030132]),\n",
       " 'beamsizeserry': array([4.51986378e-06, 4.51986378e-06, 4.51986378e-06, 4.51986378e-06,\n",
       "        4.51986378e-06, 4.51986378e-06, 4.51986378e-06, 4.51986378e-06,\n",
       "        4.51986378e-06]),\n",
       " 'error_y': True}"
      ]
     },
     "execution_count": 10,
     "metadata": {},
     "output_type": "execute_result"
    }
   ],
   "source": [
    "res"
   ]
  },
  {
   "cell_type": "markdown",
   "id": "f6e66c9e-8773-4b6c-b393-335a7b45e18e",
   "metadata": {},
   "source": [
    "## Example running online (do not run on machine!)"
   ]
  },
  {
   "cell_type": "code",
   "execution_count": 11,
   "id": "0bd09ce9-da64-4e6e-83b3-61a69a565b4b",
   "metadata": {
    "execution": {
     "iopub.execute_input": "2023-09-02T15:59:47.752540Z",
     "iopub.status.busy": "2023-09-02T15:59:47.751715Z",
     "iopub.status.idle": "2023-09-02T15:59:47.755521Z",
     "shell.execute_reply": "2023-09-02T15:59:47.754841Z"
    }
   },
   "outputs": [],
   "source": [
    "meas.online = True"
   ]
  },
  {
   "cell_type": "code",
   "execution_count": 12,
   "id": "1f892d9a-e1c8-4564-abba-6939a8a434e7",
   "metadata": {
    "execution": {
     "iopub.execute_input": "2023-09-02T15:59:47.759058Z",
     "iopub.status.busy": "2023-09-02T15:59:47.758568Z",
     "iopub.status.idle": "2023-09-02T15:59:54.766747Z",
     "shell.execute_reply": "2023-09-02T15:59:54.765848Z"
    }
   },
   "outputs": [
    {
     "name": "stderr",
     "output_type": "stream",
     "text": [
      "No settle_time found in in meas_device, setting to zero\n"
     ]
    },
    {
     "name": "stdout",
     "output_type": "stream",
     "text": [
      "cannot connect to OTRS:IN20:541:RESOLUTION\n"
     ]
    }
   ],
   "source": [
    "try:\n",
    "    res = meas.measure_emittance()\n",
    "except:\n",
    "    pass # epics can't connect on my local pc"
   ]
  },
  {
   "cell_type": "markdown",
   "id": "c6b71629-2020-446c-86b6-26b749412fcd",
   "metadata": {},
   "source": [
    "## Example running with some random beamsize model \n",
    "### (can be any simulation, just need to pass pyemittance the beamsize fn)"
   ]
  },
  {
   "cell_type": "code",
   "execution_count": 13,
   "id": "d768660f-b07e-4087-acc0-d4e47e996169",
   "metadata": {
    "execution": {
     "iopub.execute_input": "2023-09-02T15:59:54.770258Z",
     "iopub.status.busy": "2023-09-02T15:59:54.769996Z",
     "iopub.status.idle": "2023-09-02T15:59:54.777150Z",
     "shell.execute_reply": "2023-09-02T15:59:54.776320Z"
    }
   },
   "outputs": [
    {
     "data": {
      "text/plain": [
       "(4.626065606867356e-05, 2.9074184178285334e-06, 0, 0)"
      ]
     },
     "execution_count": 13,
     "metadata": {},
     "output_type": "execute_result"
    }
   ],
   "source": [
    "def get_bs_model(*args):\n",
    "    return abs(np.random.normal(1e-6, 5e-5)), abs(np.random.normal(1e-6, 5e-6)), 0, 0\n",
    "\n",
    "get_bs_model()"
   ]
  },
  {
   "cell_type": "code",
   "execution_count": 14,
   "id": "481773b3-36e5-4ebc-9e9b-1493e01dc719",
   "metadata": {
    "execution": {
     "iopub.execute_input": "2023-09-02T15:59:54.780324Z",
     "iopub.status.busy": "2023-09-02T15:59:54.780073Z",
     "iopub.status.idle": "2023-09-02T15:59:54.784070Z",
     "shell.execute_reply": "2023-09-02T15:59:54.783077Z"
    }
   },
   "outputs": [],
   "source": [
    "meas.use_model=True\n",
    "meas.online = False # meaningless when running with a model\n",
    "meas.get_bs_model = get_bs_model"
   ]
  },
  {
   "cell_type": "code",
   "execution_count": 15,
   "id": "e2e3fc3f-bdee-4326-bace-af2afc76a0ed",
   "metadata": {
    "execution": {
     "iopub.execute_input": "2023-09-02T15:59:54.787496Z",
     "iopub.status.busy": "2023-09-02T15:59:54.787243Z",
     "iopub.status.idle": "2023-09-02T15:59:54.797427Z",
     "shell.execute_reply": "2023-09-02T15:59:54.796608Z"
    }
   },
   "outputs": [
    {
     "name": "stderr",
     "output_type": "stream",
     "text": [
      "No settle_time found in in meas_device, setting to zero\n",
      "Emittance can't be computed. Returning error\n"
     ]
    },
    {
     "name": "stdout",
     "output_type": "stream",
     "text": [
      "[None]\n",
      "[None, None]\n",
      "[None, None, None]\n",
      "[None, None, None, None]\n"
     ]
    }
   ],
   "source": [
    "res = meas.measure_emittance()"
   ]
  },
  {
   "cell_type": "code",
   "execution_count": 16,
   "id": "f898623f-bda1-4f07-be4c-871c0b56cee9",
   "metadata": {
    "execution": {
     "iopub.execute_input": "2023-09-02T15:59:54.801325Z",
     "iopub.status.busy": "2023-09-02T15:59:54.801042Z",
     "iopub.status.idle": "2023-09-02T15:59:54.808452Z",
     "shell.execute_reply": "2023-09-02T15:59:54.807369Z"
    }
   },
   "outputs": [
    {
     "data": {
      "text/plain": [
       "{'quadvalsx': array([-3.48930477, -3.30405556, -3.21143095, -3.11880634, -2.88724483]),\n",
       " 'beamsizesx': array([0.00038239, 0.00015838, 0.00038971, 0.00017345, 0.0002698 ]),\n",
       " 'beamsizeserrx': array([5.73592306e-06, 2.37569589e-06, 5.84569223e-06, 2.60180711e-06,\n",
       "        4.04704389e-06]),\n",
       " 'error_x': False,\n",
       " 'emit_x': 1.004468402088881e-07,\n",
       " 'norm_emit_x': 2.6536700877025065e-05,\n",
       " 'beta_x': 25.950664792738966,\n",
       " 'alpha_x': 28.096185977648876,\n",
       " 'emit_x_err': 1.6077100516383735e-09,\n",
       " 'norm_emit_x_err': 4.2473531918566967e-07,\n",
       " 'beta_x_rel_err': 0.016005581144511442,\n",
       " 'alpha_x_rel_err': 5.323130046664583e-16,\n",
       " 'sigma_11': 2.606662279750669e-06,\n",
       " 'sigma_12': -2.822173103376099e-06,\n",
       " 'sigma_22': 3.059372384016785e-06,\n",
       " 'screen_sigma_11': array([8.16597358e-08, 3.19401106e-08, 2.36907653e-08, 2.64822055e-08,\n",
       "        8.16028235e-08]),\n",
       " 'screen_sigma_12': array([-1.23426475e-07, -4.71022034e-08, -1.81738048e-09,  4.82016338e-08,\n",
       "         1.93891175e-07]),\n",
       " 'screen_sigma_22': array([3.10111981e-07, 3.85351993e-07, 4.26025518e-07, 4.68728528e-07,\n",
       "        5.84334626e-07]),\n",
       " 'quadvalsy': array([-6., -6., -6., -6., -6., -6., -6., -6., -6.]),\n",
       " 'beamsizesy': array([0.000104, 0.000104, 0.000104, 0.000104, 0.000104, 0.000104,\n",
       "        0.000104, 0.000104, 0.000104]),\n",
       " 'beamsizeserry': array([1.5599743e-06, 1.5599743e-06, 1.5599743e-06, 1.5599743e-06,\n",
       "        1.5599743e-06, 1.5599743e-06, 1.5599743e-06, 1.5599743e-06,\n",
       "        1.5599743e-06]),\n",
       " 'error_y': True}"
      ]
     },
     "execution_count": 16,
     "metadata": {},
     "output_type": "execute_result"
    }
   ],
   "source": [
    "res"
   ]
  }
 ],
 "metadata": {
  "kernelspec": {
   "display_name": "Python 3 (ipykernel)",
   "language": "python",
   "name": "python3"
  },
  "language_info": {
   "codemirror_mode": {
    "name": "ipython",
    "version": 3
   },
   "file_extension": ".py",
   "mimetype": "text/x-python",
   "name": "python",
   "nbconvert_exporter": "python",
   "pygments_lexer": "ipython3",
   "version": "3.9.18"
  },
  "vscode": {
   "interpreter": {
    "hash": "a91e20ba2d53a502f7925f39cf39925e3f47f4d0539594422b17676132d3b721"
   }
  }
 },
 "nbformat": 4,
 "nbformat_minor": 5
}
