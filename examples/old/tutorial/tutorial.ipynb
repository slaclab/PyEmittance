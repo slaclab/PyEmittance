{
 "cells": [
  {
   "cell_type": "markdown",
   "id": "843e466b",
   "metadata": {},
   "source": [
    "# PyEmittance Tutorial"
   ]
  },
  {
   "cell_type": "code",
   "execution_count": 1,
   "id": "340c0d38-a2ff-469c-8abe-d97b3fc7e3a0",
   "metadata": {
    "execution": {
     "iopub.execute_input": "2023-01-05T23:23:53.412791Z",
     "iopub.status.busy": "2023-01-05T23:23:53.412542Z",
     "iopub.status.idle": "2023-01-05T23:23:53.904751Z",
     "shell.execute_reply": "2023-01-05T23:23:53.904058Z"
    }
   },
   "outputs": [],
   "source": [
    "from pyemittance import PyEmittance\n",
    "import numpy as np"
   ]
  },
  {
   "cell_type": "code",
   "execution_count": 2,
   "id": "97b9eae3-b80c-46d5-8c6f-1df8923fb03c",
   "metadata": {
    "execution": {
     "iopub.execute_input": "2023-01-05T23:23:53.908643Z",
     "iopub.status.busy": "2023-01-05T23:23:53.908319Z",
     "iopub.status.idle": "2023-01-05T23:23:53.912882Z",
     "shell.execute_reply": "2023-01-05T23:23:53.912328Z"
    }
   },
   "outputs": [],
   "source": [
    "meas = PyEmittance()"
   ]
  },
  {
   "cell_type": "code",
   "execution_count": 3,
   "id": "f5389d1c-4e56-4484-84b0-a48ff3d0cff3",
   "metadata": {
    "execution": {
     "iopub.execute_input": "2023-01-05T23:23:53.916008Z",
     "iopub.status.busy": "2023-01-05T23:23:53.915579Z",
     "iopub.status.idle": "2023-01-05T23:23:53.921686Z",
     "shell.execute_reply": "2023-01-05T23:23:53.921070Z"
    }
   },
   "outputs": [
    {
     "data": {
      "text/plain": [
       "'LCLS_OTR2'"
      ]
     },
     "execution_count": 3,
     "metadata": {},
     "output_type": "execute_result"
    }
   ],
   "source": [
    "meas.config_name"
   ]
  },
  {
   "cell_type": "markdown",
   "id": "3af3b88e-992f-4379-91e0-8c1c0c7ca933",
   "metadata": {},
   "source": [
    "## Three options for setting configurations for measurements:\n",
    "1. Make directory under `configs/` with Machine_Device_Name with all needed jsons (see `configs/LCLS2_OTR3`), and pass dir name to `meas.config_name`\n",
    "2. Change params and configs through class attributes\n",
    "3. pass the dictionary to pyemittance (same keys and subkeys as `meas.config_dict` below)"
   ]
  },
  {
   "cell_type": "code",
   "execution_count": 4,
   "id": "156777c4-1f4d-4285-b8c5-99988c802d1f",
   "metadata": {
    "execution": {
     "iopub.execute_input": "2023-01-05T23:23:53.926452Z",
     "iopub.status.busy": "2023-01-05T23:23:53.926235Z",
     "iopub.status.idle": "2023-01-05T23:23:53.929051Z",
     "shell.execute_reply": "2023-01-05T23:23:53.928438Z"
    }
   },
   "outputs": [],
   "source": [
    "meas.num_points = 5"
   ]
  },
  {
   "cell_type": "code",
   "execution_count": 5,
   "id": "13efc521-380c-47c4-b5b5-55929df9f418",
   "metadata": {
    "execution": {
     "iopub.execute_input": "2023-01-05T23:23:53.932031Z",
     "iopub.status.busy": "2023-01-05T23:23:53.931818Z",
     "iopub.status.idle": "2023-01-05T23:23:53.935672Z",
     "shell.execute_reply": "2023-01-05T23:23:53.935040Z"
    }
   },
   "outputs": [
    {
     "data": {
      "text/plain": [
       "dict_keys(['beamline_info', 'img_proc', 'meas_pv_info', 'opt_pv_info', 'save_scalar_pvs', 'savepaths'])"
      ]
     },
     "execution_count": 5,
     "metadata": {},
     "output_type": "execute_result"
    }
   ],
   "source": [
    "# see all configs with command below\n",
    "meas.config_dict.keys()"
   ]
  },
  {
   "cell_type": "code",
   "execution_count": 6,
   "id": "61291621-7374-488d-870c-0c50e56d3c65",
   "metadata": {
    "execution": {
     "iopub.execute_input": "2023-01-05T23:23:53.939180Z",
     "iopub.status.busy": "2023-01-05T23:23:53.938961Z",
     "iopub.status.idle": "2023-01-05T23:23:53.943498Z",
     "shell.execute_reply": "2023-01-05T23:23:53.942880Z"
    }
   },
   "outputs": [
    {
     "data": {
      "text/plain": [
       "{'subtract_bg': False,\n",
       " 'use_roi': False,\n",
       " 'avg_ims': True,\n",
       " 'n_to_acquire': 5,\n",
       " 'background_im': None,\n",
       " 'amp_threshold': 1500,\n",
       " 'min_sigma': 1.0,\n",
       " 'max_sigma': 60,\n",
       " 'max_samples': 3,\n",
       " 'roi': {'xmin': 0, 'xmax': 100, 'ymin': 0, 'ymax': 100}}"
      ]
     },
     "execution_count": 6,
     "metadata": {},
     "output_type": "execute_result"
    }
   ],
   "source": [
    "meas.config_dict['img_proc']"
   ]
  },
  {
   "cell_type": "code",
   "execution_count": 7,
   "id": "f91e220b-2a96-4777-93a9-03c825ca5c95",
   "metadata": {
    "execution": {
     "iopub.execute_input": "2023-01-05T23:23:53.947139Z",
     "iopub.status.busy": "2023-01-05T23:23:53.946928Z",
     "iopub.status.idle": "2023-01-05T23:23:53.950852Z",
     "shell.execute_reply": "2023-01-05T23:23:53.950244Z"
    }
   },
   "outputs": [
    {
     "data": {
      "text/plain": [
       "[-6, -4, -2, 0]"
      ]
     },
     "execution_count": 7,
     "metadata": {},
     "output_type": "execute_result"
    }
   ],
   "source": [
    "meas.quad_init"
   ]
  },
  {
   "cell_type": "markdown",
   "id": "17abe0de-3282-412c-a1d7-b3c476596721",
   "metadata": {},
   "source": [
    "## Example running offline with random beam size numbers"
   ]
  },
  {
   "cell_type": "code",
   "execution_count": 8,
   "id": "3346bb1e-d4e9-456b-848d-a49dabe3837b",
   "metadata": {
    "execution": {
     "iopub.execute_input": "2023-01-05T23:23:53.954412Z",
     "iopub.status.busy": "2023-01-05T23:23:53.954196Z",
     "iopub.status.idle": "2023-01-05T23:23:54.006896Z",
     "shell.execute_reply": "2023-01-05T23:23:54.006276Z"
    }
   },
   "outputs": [
    {
     "name": "stderr",
     "output_type": "stream",
     "text": [
      "Emittance can't be computed. Returning error\n"
     ]
    }
   ],
   "source": [
    "import matplotlib.pyplot as plt\n",
    "res = meas.measure_emittance()"
   ]
  },
  {
   "cell_type": "code",
   "execution_count": 9,
   "id": "17907721-184c-4490-b466-5e53b0d764ce",
   "metadata": {
    "execution": {
     "iopub.execute_input": "2023-01-05T23:23:54.010316Z",
     "iopub.status.busy": "2023-01-05T23:23:54.009882Z",
     "iopub.status.idle": "2023-01-05T23:23:54.014637Z",
     "shell.execute_reply": "2023-01-05T23:23:54.014147Z"
    }
   },
   "outputs": [
    {
     "data": {
      "text/plain": [
       "{'name': 'LCLS',\n",
       " 'Lquad': 0.108,\n",
       " 'energy': 135000000.0,\n",
       " 'Twiss0': [1e-06,\n",
       "  1e-06,\n",
       "  1.113081026,\n",
       "  1.113021659,\n",
       "  -0.0689403587,\n",
       "  -0.07029489754],\n",
       " 'rMatx': [1, 2.26, 0, 1],\n",
       " 'rMaty': [1, 2.26, 0, 1]}"
      ]
     },
     "execution_count": 9,
     "metadata": {},
     "output_type": "execute_result"
    }
   ],
   "source": [
    "meas.config_dict['beamline_info']"
   ]
  },
  {
   "cell_type": "markdown",
   "id": "34c987d4-b401-4ddb-bcf2-57e96c0b5466",
   "metadata": {},
   "source": [
    "The output is a large dict:"
   ]
  },
  {
   "cell_type": "code",
   "execution_count": 10,
   "id": "789a0a4e-3cf6-4df1-a0a2-7697558b2aec",
   "metadata": {
    "execution": {
     "iopub.execute_input": "2023-01-05T23:23:54.017548Z",
     "iopub.status.busy": "2023-01-05T23:23:54.017143Z",
     "iopub.status.idle": "2023-01-05T23:23:54.022655Z",
     "shell.execute_reply": "2023-01-05T23:23:54.022180Z"
    }
   },
   "outputs": [
    {
     "data": {
      "text/plain": [
       "{'quadvalsx': array([-7.98037273, -6.99018637, -6.        , -4.76226704, -3.52453409]),\n",
       " 'beamsizesx': array([4.54209081e-04, 2.88904636e-04, 1.81514845e-04, 7.93338075e-05,\n",
       "        1.72685799e-04]),\n",
       " 'beamsizeserrx': array([6.81313622e-06, 4.33356955e-06, 2.72272268e-06, 1.19000711e-06,\n",
       "        2.59028698e-06]),\n",
       " 'error_x': False,\n",
       " 'emit_x': 8.20114677930261e-09,\n",
       " 'norm_emit_x': 2.166632404546994e-06,\n",
       " 'beta_x': 8.191191522533098,\n",
       " 'alpha_x': 11.410273039260176,\n",
       " 'emit_x_err': 1.2923407600934332e-10,\n",
       " 'norm_emit_x_err': 3.4141900442530884e-08,\n",
       " 'beta_x_rel_err': 0.01575804939076489,\n",
       " 'alpha_x_rel_err': 2.004281998642111e-18,\n",
       " 'sigma_11': 6.717716397367315e-08,\n",
       " 'sigma_12': -9.3577323986892e-08,\n",
       " 'sigma_22': 1.3135377933640588e-07,\n",
       " 'screen_sigma_11': array([1.83422819e-07, 9.10898865e-08, 3.27051211e-08, 6.26682918e-09,\n",
       "        3.01306261e-08]),\n",
       " 'screen_sigma_12': array([ 3.56230197e-08,  9.16254765e-09, -2.73052976e-09,  2.36877699e-09,\n",
       "         2.90390697e-08]),\n",
       " 'screen_sigma_22': array([7.28512597e-09, 1.66002060e-09, 2.28449242e-09, 1.16278760e-08,\n",
       "        3.02192982e-08]),\n",
       " 'quadvalsy': array([-1.  , -0.75, -0.5 , -0.25,  0.  ]),\n",
       " 'beamsizesy': array([0.00048968, 0.00028332, 0.0003483 , 0.00036266, 0.00011572]),\n",
       " 'beamsizeserry': array([7.34523891e-06, 4.24975591e-06, 5.22446299e-06, 5.43996897e-06,\n",
       "        1.73584590e-06]),\n",
       " 'error_y': True}"
      ]
     },
     "execution_count": 10,
     "metadata": {},
     "output_type": "execute_result"
    }
   ],
   "source": [
    "res"
   ]
  },
  {
   "cell_type": "markdown",
   "id": "f6e66c9e-8773-4b6c-b393-335a7b45e18e",
   "metadata": {},
   "source": [
    "## Example running online (do not run on machine!)"
   ]
  },
  {
   "cell_type": "code",
   "execution_count": 11,
   "id": "0bd09ce9-da64-4e6e-83b3-61a69a565b4b",
   "metadata": {
    "execution": {
     "iopub.execute_input": "2023-01-05T23:23:54.025654Z",
     "iopub.status.busy": "2023-01-05T23:23:54.025255Z",
     "iopub.status.idle": "2023-01-05T23:23:54.027991Z",
     "shell.execute_reply": "2023-01-05T23:23:54.027508Z"
    }
   },
   "outputs": [],
   "source": [
    "meas.online = True"
   ]
  },
  {
   "cell_type": "code",
   "execution_count": 12,
   "id": "1f892d9a-e1c8-4564-abba-6939a8a434e7",
   "metadata": {
    "execution": {
     "iopub.execute_input": "2023-01-05T23:23:54.030825Z",
     "iopub.status.busy": "2023-01-05T23:23:54.030433Z",
     "iopub.status.idle": "2023-01-05T23:24:01.136974Z",
     "shell.execute_reply": "2023-01-05T23:24:01.136272Z"
    }
   },
   "outputs": [
    {
     "name": "stdout",
     "output_type": "stream",
     "text": [
      "cannot connect to OTRS:IN20:541:RESOLUTION\n"
     ]
    }
   ],
   "source": [
    "try:\n",
    "    res = meas.measure_emittance()\n",
    "except:\n",
    "    pass # epics can't connect on my local pc"
   ]
  },
  {
   "cell_type": "markdown",
   "id": "c6b71629-2020-446c-86b6-26b749412fcd",
   "metadata": {},
   "source": [
    "## Example running with some random beamsize model \n",
    "### (can be any simulation, just need to pass pyemittance the beamsize fn)"
   ]
  },
  {
   "cell_type": "code",
   "execution_count": 13,
   "id": "d768660f-b07e-4087-acc0-d4e47e996169",
   "metadata": {
    "execution": {
     "iopub.execute_input": "2023-01-05T23:24:01.140380Z",
     "iopub.status.busy": "2023-01-05T23:24:01.139920Z",
     "iopub.status.idle": "2023-01-05T23:24:01.146256Z",
     "shell.execute_reply": "2023-01-05T23:24:01.145636Z"
    }
   },
   "outputs": [
    {
     "data": {
      "text/plain": [
       "(1.6069333730981958e-05, 8.485010036089847e-08, 0, 0)"
      ]
     },
     "execution_count": 13,
     "metadata": {},
     "output_type": "execute_result"
    }
   ],
   "source": [
    "def get_bs_model(*args):\n",
    "    return abs(np.random.normal(1e-6, 5e-5)), abs(np.random.normal(1e-6, 5e-6)), 0, 0\n",
    "\n",
    "get_bs_model()"
   ]
  },
  {
   "cell_type": "code",
   "execution_count": 14,
   "id": "481773b3-36e5-4ebc-9e9b-1493e01dc719",
   "metadata": {
    "execution": {
     "iopub.execute_input": "2023-01-05T23:24:01.149130Z",
     "iopub.status.busy": "2023-01-05T23:24:01.148783Z",
     "iopub.status.idle": "2023-01-05T23:24:01.151951Z",
     "shell.execute_reply": "2023-01-05T23:24:01.151327Z"
    }
   },
   "outputs": [],
   "source": [
    "meas.use_model=True\n",
    "meas.online = False # meaningless when running with a model\n",
    "meas.get_bs_model = get_bs_model"
   ]
  },
  {
   "cell_type": "code",
   "execution_count": 15,
   "id": "e2e3fc3f-bdee-4326-bace-af2afc76a0ed",
   "metadata": {
    "execution": {
     "iopub.execute_input": "2023-01-05T23:24:01.154890Z",
     "iopub.status.busy": "2023-01-05T23:24:01.154559Z",
     "iopub.status.idle": "2023-01-05T23:24:01.161720Z",
     "shell.execute_reply": "2023-01-05T23:24:01.161127Z"
    }
   },
   "outputs": [
    {
     "name": "stderr",
     "output_type": "stream",
     "text": [
      "Emittance can't be computed. Returning error\n",
      "Emittance can't be computed. Returning error\n"
     ]
    }
   ],
   "source": [
    "res = meas.measure_emittance()"
   ]
  },
  {
   "cell_type": "code",
   "execution_count": 16,
   "id": "f898623f-bda1-4f07-be4c-871c0b56cee9",
   "metadata": {
    "execution": {
     "iopub.execute_input": "2023-01-05T23:24:01.165880Z",
     "iopub.status.busy": "2023-01-05T23:24:01.165546Z",
     "iopub.status.idle": "2023-01-05T23:24:01.170646Z",
     "shell.execute_reply": "2023-01-05T23:24:01.170051Z"
    }
   },
   "outputs": [
    {
     "data": {
      "text/plain": [
       "{'quadvalsx': array([0.    , 0.625 , 0.9375, 1.25  , 1.5625]),\n",
       " 'beamsizesx': array([1.71811008e-05, 1.33251085e-06, 4.07868101e-06, 3.67549997e-05,\n",
       "        8.43156731e-05]),\n",
       " 'beamsizeserrx': array([2.57716512e-07, 1.99876628e-08, 6.11802152e-08, 5.51324996e-07,\n",
       "        1.26473510e-06]),\n",
       " 'error_x': True,\n",
       " 'quadvalsy': array([-6.5   , -5.6875, -6.    , -6.3125, -6.625 ]),\n",
       " 'beamsizesy': array([2.94972340e-06, 2.51968913e-06, 4.36272571e-06, 6.33072286e-06,\n",
       "        4.04191303e-07]),\n",
       " 'beamsizeserry': array([4.42458510e-08, 3.77953370e-08, 6.54408856e-08, 9.49608428e-08,\n",
       "        6.06286954e-09]),\n",
       " 'error_y': True}"
      ]
     },
     "execution_count": 16,
     "metadata": {},
     "output_type": "execute_result"
    }
   ],
   "source": [
    "res"
   ]
  }
 ],
 "metadata": {
  "kernelspec": {
   "display_name": "Python 3 (ipykernel)",
   "language": "python",
   "name": "python3"
  },
  "language_info": {
   "codemirror_mode": {
    "name": "ipython",
    "version": 3
   },
   "file_extension": ".py",
   "mimetype": "text/x-python",
   "name": "python",
   "nbconvert_exporter": "python",
   "pygments_lexer": "ipython3",
   "version": "3.9.15"
  },
  "vscode": {
   "interpreter": {
    "hash": "a91e20ba2d53a502f7925f39cf39925e3f47f4d0539594422b17676132d3b721"
   }
  }
 },
 "nbformat": 4,
 "nbformat_minor": 5
}
