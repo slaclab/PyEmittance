{
 "cells": [
  {
   "cell_type": "markdown",
   "id": "843e466b",
   "metadata": {},
   "source": [
    "# PyEmittance Tutorial"
   ]
  },
  {
   "cell_type": "code",
   "execution_count": 1,
   "id": "340c0d38-a2ff-469c-8abe-d97b3fc7e3a0",
   "metadata": {
    "execution": {
     "iopub.execute_input": "2023-01-06T19:00:22.667707Z",
     "iopub.status.busy": "2023-01-06T19:00:22.667438Z",
     "iopub.status.idle": "2023-01-06T19:00:23.337689Z",
     "shell.execute_reply": "2023-01-06T19:00:23.336778Z"
    }
   },
   "outputs": [],
   "source": [
    "from pyemittance import PyEmittance\n",
    "import numpy as np"
   ]
  },
  {
   "cell_type": "code",
   "execution_count": 2,
   "id": "97b9eae3-b80c-46d5-8c6f-1df8923fb03c",
   "metadata": {
    "execution": {
     "iopub.execute_input": "2023-01-06T19:00:23.341825Z",
     "iopub.status.busy": "2023-01-06T19:00:23.341480Z",
     "iopub.status.idle": "2023-01-06T19:00:23.347035Z",
     "shell.execute_reply": "2023-01-06T19:00:23.346222Z"
    }
   },
   "outputs": [],
   "source": [
    "meas = PyEmittance()"
   ]
  },
  {
   "cell_type": "code",
   "execution_count": 3,
   "id": "f5389d1c-4e56-4484-84b0-a48ff3d0cff3",
   "metadata": {
    "execution": {
     "iopub.execute_input": "2023-01-06T19:00:23.350346Z",
     "iopub.status.busy": "2023-01-06T19:00:23.350089Z",
     "iopub.status.idle": "2023-01-06T19:00:23.357338Z",
     "shell.execute_reply": "2023-01-06T19:00:23.356548Z"
    }
   },
   "outputs": [
    {
     "data": {
      "text/plain": [
       "'LCLS_OTR2'"
      ]
     },
     "execution_count": 3,
     "metadata": {},
     "output_type": "execute_result"
    }
   ],
   "source": [
    "meas.config_name"
   ]
  },
  {
   "cell_type": "markdown",
   "id": "3af3b88e-992f-4379-91e0-8c1c0c7ca933",
   "metadata": {},
   "source": [
    "## Three options for setting configurations for measurements:\n",
    "1. Make directory under `configs/` with Machine_Device_Name with all needed jsons (see `configs/LCLS2_OTR3`), and pass dir name to `meas.config_name`\n",
    "2. Change params and configs through class attributes\n",
    "3. pass the dictionary to pyemittance (same keys and subkeys as `meas.config_dict` below)"
   ]
  },
  {
   "cell_type": "code",
   "execution_count": 4,
   "id": "156777c4-1f4d-4285-b8c5-99988c802d1f",
   "metadata": {
    "execution": {
     "iopub.execute_input": "2023-01-06T19:00:23.363339Z",
     "iopub.status.busy": "2023-01-06T19:00:23.363056Z",
     "iopub.status.idle": "2023-01-06T19:00:23.366669Z",
     "shell.execute_reply": "2023-01-06T19:00:23.365843Z"
    }
   },
   "outputs": [],
   "source": [
    "meas.num_points = 5"
   ]
  },
  {
   "cell_type": "code",
   "execution_count": 5,
   "id": "13efc521-380c-47c4-b5b5-55929df9f418",
   "metadata": {
    "execution": {
     "iopub.execute_input": "2023-01-06T19:00:23.370477Z",
     "iopub.status.busy": "2023-01-06T19:00:23.370190Z",
     "iopub.status.idle": "2023-01-06T19:00:23.375226Z",
     "shell.execute_reply": "2023-01-06T19:00:23.374397Z"
    }
   },
   "outputs": [
    {
     "data": {
      "text/plain": [
       "dict_keys(['beamline_info', 'img_proc', 'meas_pv_info', 'opt_pv_info', 'save_scalar_pvs', 'savepaths'])"
      ]
     },
     "execution_count": 5,
     "metadata": {},
     "output_type": "execute_result"
    }
   ],
   "source": [
    "# see all configs with command below\n",
    "meas.config_dict.keys()"
   ]
  },
  {
   "cell_type": "code",
   "execution_count": 6,
   "id": "61291621-7374-488d-870c-0c50e56d3c65",
   "metadata": {
    "execution": {
     "iopub.execute_input": "2023-01-06T19:00:23.379755Z",
     "iopub.status.busy": "2023-01-06T19:00:23.379463Z",
     "iopub.status.idle": "2023-01-06T19:00:23.387829Z",
     "shell.execute_reply": "2023-01-06T19:00:23.386999Z"
    }
   },
   "outputs": [
    {
     "data": {
      "text/plain": [
       "{'subtract_bg': False,\n",
       " 'use_roi': False,\n",
       " 'avg_ims': True,\n",
       " 'n_to_acquire': 5,\n",
       " 'background_im': None,\n",
       " 'amp_threshold': 1500,\n",
       " 'min_sigma': 1.0,\n",
       " 'max_sigma': 60,\n",
       " 'max_samples': 3,\n",
       " 'roi': {'xmin': 0, 'xmax': 100, 'ymin': 0, 'ymax': 100}}"
      ]
     },
     "execution_count": 6,
     "metadata": {},
     "output_type": "execute_result"
    }
   ],
   "source": [
    "meas.config_dict['img_proc']"
   ]
  },
  {
   "cell_type": "code",
   "execution_count": 7,
   "id": "f91e220b-2a96-4777-93a9-03c825ca5c95",
   "metadata": {
    "execution": {
     "iopub.execute_input": "2023-01-06T19:00:23.391320Z",
     "iopub.status.busy": "2023-01-06T19:00:23.391060Z",
     "iopub.status.idle": "2023-01-06T19:00:23.398529Z",
     "shell.execute_reply": "2023-01-06T19:00:23.397705Z"
    }
   },
   "outputs": [
    {
     "data": {
      "text/plain": [
       "[-6, -4, -2, 0]"
      ]
     },
     "execution_count": 7,
     "metadata": {},
     "output_type": "execute_result"
    }
   ],
   "source": [
    "meas.quad_init"
   ]
  },
  {
   "cell_type": "markdown",
   "id": "17abe0de-3282-412c-a1d7-b3c476596721",
   "metadata": {},
   "source": [
    "## Example running offline with random beam size numbers"
   ]
  },
  {
   "cell_type": "code",
   "execution_count": 8,
   "id": "3346bb1e-d4e9-456b-848d-a49dabe3837b",
   "metadata": {
    "execution": {
     "iopub.execute_input": "2023-01-06T19:00:23.402030Z",
     "iopub.status.busy": "2023-01-06T19:00:23.401770Z",
     "iopub.status.idle": "2023-01-06T19:00:23.460764Z",
     "shell.execute_reply": "2023-01-06T19:00:23.459735Z"
    }
   },
   "outputs": [],
   "source": [
    "import matplotlib.pyplot as plt\n",
    "res = meas.measure_emittance()"
   ]
  },
  {
   "cell_type": "code",
   "execution_count": 9,
   "id": "17907721-184c-4490-b466-5e53b0d764ce",
   "metadata": {
    "execution": {
     "iopub.execute_input": "2023-01-06T19:00:23.465383Z",
     "iopub.status.busy": "2023-01-06T19:00:23.465104Z",
     "iopub.status.idle": "2023-01-06T19:00:23.472331Z",
     "shell.execute_reply": "2023-01-06T19:00:23.471557Z"
    }
   },
   "outputs": [
    {
     "data": {
      "text/plain": [
       "{'name': 'LCLS',\n",
       " 'Lquad': 0.108,\n",
       " 'energy': 135000000.0,\n",
       " 'Twiss0': [1e-06,\n",
       "  1e-06,\n",
       "  1.113081026,\n",
       "  1.113021659,\n",
       "  -0.0689403587,\n",
       "  -0.07029489754],\n",
       " 'rMatx': [1, 2.26, 0, 1],\n",
       " 'rMaty': [1, 2.26, 0, 1]}"
      ]
     },
     "execution_count": 9,
     "metadata": {},
     "output_type": "execute_result"
    }
   ],
   "source": [
    "meas.config_dict['beamline_info']"
   ]
  },
  {
   "cell_type": "markdown",
   "id": "34c987d4-b401-4ddb-bcf2-57e96c0b5466",
   "metadata": {},
   "source": [
    "The output is a large dict:"
   ]
  },
  {
   "cell_type": "code",
   "execution_count": 10,
   "id": "789a0a4e-3cf6-4df1-a0a2-7697558b2aec",
   "metadata": {
    "execution": {
     "iopub.execute_input": "2023-01-06T19:00:23.475949Z",
     "iopub.status.busy": "2023-01-06T19:00:23.475555Z",
     "iopub.status.idle": "2023-01-06T19:00:23.483581Z",
     "shell.execute_reply": "2023-01-06T19:00:23.482900Z"
    }
   },
   "outputs": [
    {
     "data": {
      "text/plain": [
       "{'quadvalsx': array([-2.   , -1.5  , -1.   , -0.5  ,  0.   ,  0.625,  1.25 ,  1.875,\n",
       "         2.5  ]),\n",
       " 'beamsizesx': array([0.00033197, 0.00041371, 0.00045471, 0.00022382, 0.00013322,\n",
       "        0.00042382, 0.0003325 , 0.00042377, 0.00023677]),\n",
       " 'beamsizeserrx': array([4.97955039e-06, 6.20567084e-06, 6.82062088e-06, 3.35735990e-06,\n",
       "        1.99828076e-06, 6.35735853e-06, 4.98745382e-06, 6.35651749e-06,\n",
       "        3.55152640e-06]),\n",
       " 'error_x': False,\n",
       " 'emit_x': 1.4233571495056196e-08,\n",
       " 'norm_emit_x': 3.7603176803826895e-06,\n",
       " 'beta_x': 4.377529788951895,\n",
       " 'alpha_x': 1.2770026437907123,\n",
       " 'emit_x_err': 2.1744886421916965e-10,\n",
       " 'norm_emit_x_err': 5.744705810389792e-08,\n",
       " 'beta_x_rel_err': 0.01527718213905041,\n",
       " 'alpha_x_rel_err': 6.879392866968094e-18,\n",
       " 'sigma_11': 6.230788322278506e-08,\n",
       " 'sigma_12': -1.817630842977088e-08,\n",
       " 'sigma_22': 8.553857362372023e-09,\n",
       " 'screen_sigma_11': array([1.29138824e-07, 9.05474093e-08, 6.02565815e-08, 3.81695136e-08,\n",
       "        2.41899916e-08, 1.79712362e-08, 2.40857910e-08, 4.23497378e-08,\n",
       "        7.25806253e-08]),\n",
       " 'screen_sigma_12': array([2.04034708e-08, 1.05233525e-08, 4.20392288e-09, 1.40313912e-09,\n",
       "        2.07922580e-09, 7.75047189e-09, 1.87089991e-08, 3.48749608e-08,\n",
       "        5.61691508e-08]),\n",
       " 'screen_sigma_22': array([4.79248734e-09, 3.46045798e-09, 3.65549322e-09, 5.35933884e-09,\n",
       "        8.55385736e-09, 1.46158210e-08, 2.29438677e-08, 3.35033348e-08,\n",
       "        4.62598392e-08]),\n",
       " 'quadvalsy': array([-7.    , -6.5   , -6.    , -6.3125, -6.625 ]),\n",
       " 'beamsizesy': array([0.0005991 , 0.00046704, 0.0002532 , 0.00022579, 0.00031557]),\n",
       " 'beamsizeserry': array([8.98651011e-06, 7.00565856e-06, 3.79804767e-06, 3.38686572e-06,\n",
       "        4.73355052e-06]),\n",
       " 'error_y': False,\n",
       " 'emit_y': 1.2542460834977398e-07,\n",
       " 'norm_emit_y': 3.313549044922034e-05,\n",
       " 'beta_y': 12.86220636115377,\n",
       " 'alpha_y': -12.329264236439805,\n",
       " 'emit_y_err': 2.2346310013928237e-09,\n",
       " 'norm_emit_y_err': 5.903593814516146e-07,\n",
       " 'beta_y_rel_err': 0.01781652763997596,\n",
       " 'alpha_y_rel_err': -8.705909385686854e-16,\n",
       " 'sigma_33': 1.613237195361683e-06,\n",
       " 'sigma_34': 1.5463931380963375e-06,\n",
       " 'sigma_44': 1.4920701536338408e-06,\n",
       " 'screen_sigma_33': array([3.18437970e-07, 8.53399283e-08, 6.44323368e-08, 5.24976763e-08,\n",
       "        1.23820276e-07]),\n",
       " 'screen_sigma_34': array([ 4.38361892e-07,  1.49697968e-07, -4.80344866e-08,  6.48332965e-08,\n",
       "         2.13381968e-07]),\n",
       " 'screen_sigma_44': array([6.52850790e-07, 4.46928124e-07, 2.79962596e-07, 3.79725163e-07,\n",
       "        4.94775157e-07]),\n",
       " 'sqrt_norm_emit_4d': 1.1162435692283068e-05,\n",
       " 'sqrt_norm_emit_4d_err': 2.619776217992065e-07}"
      ]
     },
     "execution_count": 10,
     "metadata": {},
     "output_type": "execute_result"
    }
   ],
   "source": [
    "res"
   ]
  },
  {
   "cell_type": "markdown",
   "id": "f6e66c9e-8773-4b6c-b393-335a7b45e18e",
   "metadata": {},
   "source": [
    "## Example running online (do not run on machine!)"
   ]
  },
  {
   "cell_type": "code",
   "execution_count": 11,
   "id": "0bd09ce9-da64-4e6e-83b3-61a69a565b4b",
   "metadata": {
    "execution": {
     "iopub.execute_input": "2023-01-06T19:00:23.487350Z",
     "iopub.status.busy": "2023-01-06T19:00:23.486605Z",
     "iopub.status.idle": "2023-01-06T19:00:23.490385Z",
     "shell.execute_reply": "2023-01-06T19:00:23.489716Z"
    }
   },
   "outputs": [],
   "source": [
    "meas.online = True"
   ]
  },
  {
   "cell_type": "code",
   "execution_count": 12,
   "id": "1f892d9a-e1c8-4564-abba-6939a8a434e7",
   "metadata": {
    "execution": {
     "iopub.execute_input": "2023-01-06T19:00:23.493684Z",
     "iopub.status.busy": "2023-01-06T19:00:23.493201Z",
     "iopub.status.idle": "2023-01-06T19:00:30.600426Z",
     "shell.execute_reply": "2023-01-06T19:00:30.599401Z"
    }
   },
   "outputs": [
    {
     "name": "stdout",
     "output_type": "stream",
     "text": [
      "cannot connect to OTRS:IN20:541:RESOLUTION\n"
     ]
    }
   ],
   "source": [
    "try:\n",
    "    res = meas.measure_emittance()\n",
    "except:\n",
    "    pass # epics can't connect on my local pc"
   ]
  },
  {
   "cell_type": "markdown",
   "id": "c6b71629-2020-446c-86b6-26b749412fcd",
   "metadata": {},
   "source": [
    "## Example running with some random beamsize model \n",
    "### (can be any simulation, just need to pass pyemittance the beamsize fn)"
   ]
  },
  {
   "cell_type": "code",
   "execution_count": 13,
   "id": "d768660f-b07e-4087-acc0-d4e47e996169",
   "metadata": {
    "execution": {
     "iopub.execute_input": "2023-01-06T19:00:30.604705Z",
     "iopub.status.busy": "2023-01-06T19:00:30.604027Z",
     "iopub.status.idle": "2023-01-06T19:00:30.614209Z",
     "shell.execute_reply": "2023-01-06T19:00:30.613351Z"
    }
   },
   "outputs": [
    {
     "data": {
      "text/plain": [
       "(4.714274087487851e-05, 1.840797630546966e-06, 0, 0)"
      ]
     },
     "execution_count": 13,
     "metadata": {},
     "output_type": "execute_result"
    }
   ],
   "source": [
    "def get_bs_model(*args):\n",
    "    return abs(np.random.normal(1e-6, 5e-5)), abs(np.random.normal(1e-6, 5e-6)), 0, 0\n",
    "\n",
    "get_bs_model()"
   ]
  },
  {
   "cell_type": "code",
   "execution_count": 14,
   "id": "481773b3-36e5-4ebc-9e9b-1493e01dc719",
   "metadata": {
    "execution": {
     "iopub.execute_input": "2023-01-06T19:00:30.628844Z",
     "iopub.status.busy": "2023-01-06T19:00:30.628490Z",
     "iopub.status.idle": "2023-01-06T19:00:30.632703Z",
     "shell.execute_reply": "2023-01-06T19:00:30.631788Z"
    }
   },
   "outputs": [],
   "source": [
    "meas.use_model=True\n",
    "meas.online = False # meaningless when running with a model\n",
    "meas.get_bs_model = get_bs_model"
   ]
  },
  {
   "cell_type": "code",
   "execution_count": 15,
   "id": "e2e3fc3f-bdee-4326-bace-af2afc76a0ed",
   "metadata": {
    "execution": {
     "iopub.execute_input": "2023-01-06T19:00:30.636389Z",
     "iopub.status.busy": "2023-01-06T19:00:30.635644Z",
     "iopub.status.idle": "2023-01-06T19:00:30.647247Z",
     "shell.execute_reply": "2023-01-06T19:00:30.646563Z"
    }
   },
   "outputs": [
    {
     "name": "stderr",
     "output_type": "stream",
     "text": [
      "Emittance can't be computed. Returning error\n",
      "Emittance can't be computed. Returning error\n"
     ]
    }
   ],
   "source": [
    "res = meas.measure_emittance()"
   ]
  },
  {
   "cell_type": "code",
   "execution_count": 16,
   "id": "f898623f-bda1-4f07-be4c-871c0b56cee9",
   "metadata": {
    "execution": {
     "iopub.execute_input": "2023-01-06T19:00:30.651153Z",
     "iopub.status.busy": "2023-01-06T19:00:30.650505Z",
     "iopub.status.idle": "2023-01-06T19:00:30.658613Z",
     "shell.execute_reply": "2023-01-06T19:00:30.657704Z"
    }
   },
   "outputs": [
    {
     "data": {
      "text/plain": [
       "{'quadvalsx': array([-8. , -7.5, -7. , -6.5, -6. ]),\n",
       " 'beamsizesx': array([7.30168061e-05, 1.40143804e-05, 3.11526219e-05, 2.25980248e-05,\n",
       "        7.43855921e-06]),\n",
       " 'beamsizeserrx': array([1.09525209e-06, 2.10215706e-07, 4.67289329e-07, 3.38970372e-07,\n",
       "        1.11578388e-07]),\n",
       " 'error_x': True,\n",
       " 'quadvalsy': array([-1.72469712, -1.25194693, -1.01557183, -0.77919674, -0.54282164]),\n",
       " 'beamsizesy': array([7.72729050e-06, 2.88292866e-07, 5.25790055e-06, 9.75217216e-07,\n",
       "        5.74016688e-06]),\n",
       " 'beamsizeserry': array([1.15909357e-07, 4.32439299e-09, 7.88685083e-08, 1.46282582e-08,\n",
       "        8.61025031e-08]),\n",
       " 'error_y': True}"
      ]
     },
     "execution_count": 16,
     "metadata": {},
     "output_type": "execute_result"
    }
   ],
   "source": [
    "res"
   ]
  }
 ],
 "metadata": {
  "kernelspec": {
   "display_name": "Python 3 (ipykernel)",
   "language": "python",
   "name": "python3"
  },
  "language_info": {
   "codemirror_mode": {
    "name": "ipython",
    "version": 3
   },
   "file_extension": ".py",
   "mimetype": "text/x-python",
   "name": "python",
   "nbconvert_exporter": "python",
   "pygments_lexer": "ipython3",
   "version": "3.9.15"
  },
  "vscode": {
   "interpreter": {
    "hash": "a91e20ba2d53a502f7925f39cf39925e3f47f4d0539594422b17676132d3b721"
   }
  }
 },
 "nbformat": 4,
 "nbformat_minor": 5
}
