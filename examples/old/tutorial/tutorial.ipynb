{
 "cells": [
  {
   "cell_type": "markdown",
   "id": "843e466b",
   "metadata": {},
   "source": [
    "# PyEmittance Tutorial"
   ]
  },
  {
   "cell_type": "code",
   "execution_count": 1,
   "id": "340c0d38-a2ff-469c-8abe-d97b3fc7e3a0",
   "metadata": {
    "execution": {
     "iopub.execute_input": "2023-01-05T22:59:52.035540Z",
     "iopub.status.busy": "2023-01-05T22:59:52.035222Z",
     "iopub.status.idle": "2023-01-05T22:59:52.478119Z",
     "shell.execute_reply": "2023-01-05T22:59:52.477531Z"
    }
   },
   "outputs": [],
   "source": [
    "from pyemittance import PyEmittance\n",
    "import numpy as np"
   ]
  },
  {
   "cell_type": "code",
   "execution_count": 2,
   "id": "97b9eae3-b80c-46d5-8c6f-1df8923fb03c",
   "metadata": {
    "execution": {
     "iopub.execute_input": "2023-01-05T22:59:52.481775Z",
     "iopub.status.busy": "2023-01-05T22:59:52.481379Z",
     "iopub.status.idle": "2023-01-05T22:59:52.486011Z",
     "shell.execute_reply": "2023-01-05T22:59:52.485507Z"
    }
   },
   "outputs": [],
   "source": [
    "meas = PyEmittance()"
   ]
  },
  {
   "cell_type": "code",
   "execution_count": 3,
   "id": "f5389d1c-4e56-4484-84b0-a48ff3d0cff3",
   "metadata": {
    "execution": {
     "iopub.execute_input": "2023-01-05T22:59:52.488756Z",
     "iopub.status.busy": "2023-01-05T22:59:52.488301Z",
     "iopub.status.idle": "2023-01-05T22:59:52.494643Z",
     "shell.execute_reply": "2023-01-05T22:59:52.494229Z"
    }
   },
   "outputs": [
    {
     "data": {
      "text/plain": [
       "'LCLS_OTR2'"
      ]
     },
     "execution_count": 3,
     "metadata": {},
     "output_type": "execute_result"
    }
   ],
   "source": [
    "meas.config_name"
   ]
  },
  {
   "cell_type": "markdown",
   "id": "3af3b88e-992f-4379-91e0-8c1c0c7ca933",
   "metadata": {},
   "source": [
    "## Three options for setting configurations for measurements:\n",
    "1. Make directory under `configs/` with Machine_Device_Name with all needed jsons (see `configs/LCLS2_OTR3`), and pass dir name to `meas.config_name`\n",
    "2. Change params and configs through class attributes\n",
    "3. pass the dictionary to pyemittance (same keys and subkeys as `meas.config_dict` below)"
   ]
  },
  {
   "cell_type": "code",
   "execution_count": 4,
   "id": "156777c4-1f4d-4285-b8c5-99988c802d1f",
   "metadata": {
    "execution": {
     "iopub.execute_input": "2023-01-05T22:59:52.497519Z",
     "iopub.status.busy": "2023-01-05T22:59:52.497208Z",
     "iopub.status.idle": "2023-01-05T22:59:52.500058Z",
     "shell.execute_reply": "2023-01-05T22:59:52.499504Z"
    }
   },
   "outputs": [],
   "source": [
    "meas.num_points = 5"
   ]
  },
  {
   "cell_type": "code",
   "execution_count": 5,
   "id": "13efc521-380c-47c4-b5b5-55929df9f418",
   "metadata": {
    "execution": {
     "iopub.execute_input": "2023-01-05T22:59:52.502474Z",
     "iopub.status.busy": "2023-01-05T22:59:52.502279Z",
     "iopub.status.idle": "2023-01-05T22:59:52.505834Z",
     "shell.execute_reply": "2023-01-05T22:59:52.505312Z"
    }
   },
   "outputs": [
    {
     "data": {
      "text/plain": [
       "dict_keys(['beamline_info', 'img_proc', 'meas_pv_info', 'opt_pv_info', 'save_scalar_pvs', 'savepaths'])"
      ]
     },
     "execution_count": 5,
     "metadata": {},
     "output_type": "execute_result"
    }
   ],
   "source": [
    "# see all configs with command below\n",
    "meas.config_dict.keys()"
   ]
  },
  {
   "cell_type": "code",
   "execution_count": 6,
   "id": "61291621-7374-488d-870c-0c50e56d3c65",
   "metadata": {
    "execution": {
     "iopub.execute_input": "2023-01-05T22:59:52.508834Z",
     "iopub.status.busy": "2023-01-05T22:59:52.508635Z",
     "iopub.status.idle": "2023-01-05T22:59:52.512725Z",
     "shell.execute_reply": "2023-01-05T22:59:52.512211Z"
    }
   },
   "outputs": [
    {
     "data": {
      "text/plain": [
       "{'subtract_bg': False,\n",
       " 'use_roi': False,\n",
       " 'avg_ims': True,\n",
       " 'n_to_acquire': 5,\n",
       " 'background_im': None,\n",
       " 'amp_threshold': 1500,\n",
       " 'min_sigma': 1.0,\n",
       " 'max_sigma': 60,\n",
       " 'max_samples': 3,\n",
       " 'roi': {'xmin': 0, 'xmax': 100, 'ymin': 0, 'ymax': 100}}"
      ]
     },
     "execution_count": 6,
     "metadata": {},
     "output_type": "execute_result"
    }
   ],
   "source": [
    "meas.config_dict['img_proc']"
   ]
  },
  {
   "cell_type": "code",
   "execution_count": 7,
   "id": "f91e220b-2a96-4777-93a9-03c825ca5c95",
   "metadata": {
    "execution": {
     "iopub.execute_input": "2023-01-05T22:59:52.515660Z",
     "iopub.status.busy": "2023-01-05T22:59:52.515470Z",
     "iopub.status.idle": "2023-01-05T22:59:52.519269Z",
     "shell.execute_reply": "2023-01-05T22:59:52.518732Z"
    }
   },
   "outputs": [
    {
     "data": {
      "text/plain": [
       "[-6, -4, -2, 0]"
      ]
     },
     "execution_count": 7,
     "metadata": {},
     "output_type": "execute_result"
    }
   ],
   "source": [
    "meas.quad_init"
   ]
  },
  {
   "cell_type": "markdown",
   "id": "17abe0de-3282-412c-a1d7-b3c476596721",
   "metadata": {},
   "source": [
    "## Example running offline with random beam size numbers"
   ]
  },
  {
   "cell_type": "code",
   "execution_count": 8,
   "id": "3346bb1e-d4e9-456b-848d-a49dabe3837b",
   "metadata": {
    "execution": {
     "iopub.execute_input": "2023-01-05T22:59:52.522311Z",
     "iopub.status.busy": "2023-01-05T22:59:52.522114Z",
     "iopub.status.idle": "2023-01-05T22:59:52.576084Z",
     "shell.execute_reply": "2023-01-05T22:59:52.575465Z"
    }
   },
   "outputs": [
    {
     "name": "stderr",
     "output_type": "stream",
     "text": [
      "Emittance can't be computed. Returning error\n"
     ]
    }
   ],
   "source": [
    "import matplotlib.pyplot as plt\n",
    "res = meas.measure_emittance()"
   ]
  },
  {
   "cell_type": "code",
   "execution_count": 9,
   "id": "17907721-184c-4490-b466-5e53b0d764ce",
   "metadata": {
    "execution": {
     "iopub.execute_input": "2023-01-05T22:59:52.579048Z",
     "iopub.status.busy": "2023-01-05T22:59:52.578614Z",
     "iopub.status.idle": "2023-01-05T22:59:52.583211Z",
     "shell.execute_reply": "2023-01-05T22:59:52.582758Z"
    }
   },
   "outputs": [
    {
     "data": {
      "text/plain": [
       "{'name': 'LCLS',\n",
       " 'Lquad': 0.108,\n",
       " 'energy': 135000000.0,\n",
       " 'Twiss0': [1e-06,\n",
       "  1e-06,\n",
       "  1.113081026,\n",
       "  1.113021659,\n",
       "  -0.0689403587,\n",
       "  -0.07029489754],\n",
       " 'rMatx': [1, 2.26, 0, 1],\n",
       " 'rMaty': [1, 2.26, 0, 1]}"
      ]
     },
     "execution_count": 9,
     "metadata": {},
     "output_type": "execute_result"
    }
   ],
   "source": [
    "meas.config_dict['beamline_info']"
   ]
  },
  {
   "cell_type": "markdown",
   "id": "34c987d4-b401-4ddb-bcf2-57e96c0b5466",
   "metadata": {},
   "source": [
    "The output is a large dict:"
   ]
  },
  {
   "cell_type": "code",
   "execution_count": 10,
   "id": "789a0a4e-3cf6-4df1-a0a2-7697558b2aec",
   "metadata": {
    "execution": {
     "iopub.execute_input": "2023-01-05T22:59:52.585934Z",
     "iopub.status.busy": "2023-01-05T22:59:52.585431Z",
     "iopub.status.idle": "2023-01-05T22:59:52.590835Z",
     "shell.execute_reply": "2023-01-05T22:59:52.590297Z"
    }
   },
   "outputs": [
    {
     "data": {
      "text/plain": [
       "{'quadvalsx': array([-2.   , -1.5  , -1.   , -0.5  ,  0.   ,  0.625,  1.25 ,  1.875,\n",
       "         2.5  ]),\n",
       " 'beamsizesx': array([2.51607626e-04, 4.68250792e-04, 3.26347291e-04, 2.09998387e-04,\n",
       "        5.79232638e-05, 3.35476092e-04, 4.65824929e-04, 3.26477949e-04,\n",
       "        1.52313722e-04]),\n",
       " 'beamsizeserrx': array([3.77411440e-06, 7.02376187e-06, 4.89520936e-06, 3.14997581e-06,\n",
       "        8.68848958e-07, 5.03214138e-06, 6.98737393e-06, 4.89716924e-06,\n",
       "        2.28470583e-06]),\n",
       " 'error_x': True,\n",
       " 'quadvalsy': array([-7.10735247, -6.80367623, -6.5       , -6.31020235, -6.12040471]),\n",
       " 'beamsizesy': array([0.00058134, 0.00050725, 0.00023545, 0.00019082, 0.00035401]),\n",
       " 'beamsizeserry': array([8.72006416e-06, 7.60875194e-06, 3.53169402e-06, 2.86235034e-06,\n",
       "        5.31017068e-06]),\n",
       " 'error_y': False,\n",
       " 'emit_y': 1.4996019754918652e-07,\n",
       " 'norm_emit_y': 3.961746230689521e-05,\n",
       " 'beta_y': 18.491853092909704,\n",
       " 'alpha_y': -18.513832830357146,\n",
       " 'emit_y_err': 2.129316365049752e-09,\n",
       " 'norm_emit_y_err': 5.62536674467533e-07,\n",
       " 'beta_y_rel_err': 0.014199210189462205,\n",
       " 'alpha_y_rel_err': -8.69598404338899e-16,\n",
       " 'sigma_33': 2.7730419428632747e-06,\n",
       " 'sigma_34': 2.7763380286329724e-06,\n",
       " 'sigma_44': 2.7877475600316826e-06,\n",
       " 'screen_sigma_33': array([4.24029744e-07, 1.69481970e-07, 4.92971484e-08, 4.28458751e-08,\n",
       "        8.94996736e-08]),\n",
       " 'screen_sigma_34': array([ 6.54027824e-07,  3.47274286e-07,  9.80975373e-08, -2.82117195e-08,\n",
       "        -1.31761084e-07]),\n",
       " 'screen_sigma_44': array([1.06181338e-06, 8.44263790e-07, 6.51380226e-07, 5.43435323e-07,\n",
       "        4.45242341e-07])}"
      ]
     },
     "execution_count": 10,
     "metadata": {},
     "output_type": "execute_result"
    }
   ],
   "source": [
    "res"
   ]
  },
  {
   "cell_type": "markdown",
   "id": "f6e66c9e-8773-4b6c-b393-335a7b45e18e",
   "metadata": {},
   "source": [
    "## Example running online (do not run on machine!)"
   ]
  },
  {
   "cell_type": "code",
   "execution_count": 11,
   "id": "0bd09ce9-da64-4e6e-83b3-61a69a565b4b",
   "metadata": {
    "execution": {
     "iopub.execute_input": "2023-01-05T22:59:52.594326Z",
     "iopub.status.busy": "2023-01-05T22:59:52.594131Z",
     "iopub.status.idle": "2023-01-05T22:59:52.596936Z",
     "shell.execute_reply": "2023-01-05T22:59:52.596383Z"
    }
   },
   "outputs": [],
   "source": [
    "meas.online = True"
   ]
  },
  {
   "cell_type": "code",
   "execution_count": 12,
   "id": "1f892d9a-e1c8-4564-abba-6939a8a434e7",
   "metadata": {
    "execution": {
     "iopub.execute_input": "2023-01-05T22:59:52.599427Z",
     "iopub.status.busy": "2023-01-05T22:59:52.599237Z",
     "iopub.status.idle": "2023-01-05T22:59:59.705348Z",
     "shell.execute_reply": "2023-01-05T22:59:59.704290Z"
    }
   },
   "outputs": [
    {
     "name": "stdout",
     "output_type": "stream",
     "text": [
      "cannot connect to OTRS:IN20:541:RESOLUTION\n"
     ]
    }
   ],
   "source": [
    "try:\n",
    "    res = meas.measure_emittance()\n",
    "except:\n",
    "    pass # epics can't connect on my local pc"
   ]
  },
  {
   "cell_type": "markdown",
   "id": "c6b71629-2020-446c-86b6-26b749412fcd",
   "metadata": {},
   "source": [
    "## Example running with some random beamsize model \n",
    "### (can be any simulation, just need to pass pyemittance the beamsize fn)"
   ]
  },
  {
   "cell_type": "code",
   "execution_count": 13,
   "id": "d768660f-b07e-4087-acc0-d4e47e996169",
   "metadata": {
    "execution": {
     "iopub.execute_input": "2023-01-05T22:59:59.708025Z",
     "iopub.status.busy": "2023-01-05T22:59:59.707798Z",
     "iopub.status.idle": "2023-01-05T22:59:59.713609Z",
     "shell.execute_reply": "2023-01-05T22:59:59.713037Z"
    }
   },
   "outputs": [
    {
     "data": {
      "text/plain": [
       "(5.9288767045154036e-05, 3.2701819584115212e-06, 0, 0)"
      ]
     },
     "execution_count": 13,
     "metadata": {},
     "output_type": "execute_result"
    }
   ],
   "source": [
    "def get_bs_model(*args):\n",
    "    return abs(np.random.normal(1e-6, 5e-5)), abs(np.random.normal(1e-6, 5e-6)), 0, 0\n",
    "\n",
    "get_bs_model()"
   ]
  },
  {
   "cell_type": "code",
   "execution_count": 14,
   "id": "481773b3-36e5-4ebc-9e9b-1493e01dc719",
   "metadata": {
    "execution": {
     "iopub.execute_input": "2023-01-05T22:59:59.716011Z",
     "iopub.status.busy": "2023-01-05T22:59:59.715813Z",
     "iopub.status.idle": "2023-01-05T22:59:59.718739Z",
     "shell.execute_reply": "2023-01-05T22:59:59.718195Z"
    }
   },
   "outputs": [],
   "source": [
    "meas.use_model=True\n",
    "meas.online = False # meaningless when running with a model\n",
    "meas.get_bs_model = get_bs_model"
   ]
  },
  {
   "cell_type": "code",
   "execution_count": 15,
   "id": "e2e3fc3f-bdee-4326-bace-af2afc76a0ed",
   "metadata": {
    "execution": {
     "iopub.execute_input": "2023-01-05T22:59:59.721139Z",
     "iopub.status.busy": "2023-01-05T22:59:59.720933Z",
     "iopub.status.idle": "2023-01-05T22:59:59.728090Z",
     "shell.execute_reply": "2023-01-05T22:59:59.726976Z"
    }
   },
   "outputs": [
    {
     "name": "stderr",
     "output_type": "stream",
     "text": [
      "/usr/share/miniconda/envs/pyemittance-dev/lib/python3.9/site-packages/scipy/optimize/_minpack_py.py:906: OptimizeWarning: Covariance of the parameters could not be estimated\n",
      "  warnings.warn('Covariance of the parameters could not be estimated',\n",
      "Emittance can't be computed. Returning error\n"
     ]
    }
   ],
   "source": [
    "res = meas.measure_emittance()"
   ]
  },
  {
   "cell_type": "code",
   "execution_count": 16,
   "id": "f898623f-bda1-4f07-be4c-871c0b56cee9",
   "metadata": {
    "execution": {
     "iopub.execute_input": "2023-01-05T22:59:59.730567Z",
     "iopub.status.busy": "2023-01-05T22:59:59.730366Z",
     "iopub.status.idle": "2023-01-05T22:59:59.735362Z",
     "shell.execute_reply": "2023-01-05T22:59:59.734829Z"
    }
   },
   "outputs": [
    {
     "data": {
      "text/plain": [
       "{'quadvalsx': array([-5.61385945, -4.58539459, -3.55692972, -3.04269729, -2.52846486]),\n",
       " 'beamsizesx': array([7.47395849e-05, 2.95008072e-05, 9.15629427e-05, 2.88557909e-05,\n",
       "        1.93705136e-05]),\n",
       " 'beamsizeserrx': array([1.12109377e-06, 4.42512107e-07, 1.37344414e-06, 4.32836863e-07,\n",
       "        2.90557703e-07]),\n",
       " 'error_x': True,\n",
       " 'quadvalsy': array([-0.5   ,  0.    ,  0.3125,  0.625 ,  0.9375]),\n",
       " 'beamsizesy': array([7.47555305e-06, 1.36952187e-06, 3.87029217e-06, 3.55155726e-06,\n",
       "        1.14838704e-05]),\n",
       " 'beamsizeserry': array([1.12133296e-07, 2.05428280e-08, 5.80543825e-08, 5.32733590e-08,\n",
       "        1.72258057e-07]),\n",
       " 'error_y': False,\n",
       " 'emit_y': 3.4864992826979432e-12,\n",
       " 'norm_emit_y': 9.210861026639948e-10,\n",
       " 'beta_y': 87.20961089762335,\n",
       " 'alpha_y': 39.65429802795337,\n",
       " 'emit_y_err': 1.3892096410694728e-12,\n",
       " 'norm_emit_y_err': 3.670104567139777e-10,\n",
       " 'beta_y_rel_err': 0.39845401602779074,\n",
       " 'alpha_y_rel_err': 4.4662231396548935e-24,\n",
       " 'sigma_33': 3.0405624583893056e-10,\n",
       " 'sigma_34': -1.3825468163034988e-10,\n",
       " 'sigma_44': 6.290452155384978e-11,\n",
       " 'screen_sigma_33': array([3.27153970e-11, 2.01439751e-12, 2.17839260e-12, 1.73631280e-11,\n",
       "        4.76811983e-11]),\n",
       " 'screen_sigma_34': array([ 5.60337799e-11,  1.07032254e-11, -9.33232944e-12, -2.29279226e-11,\n",
       "        -3.00346696e-11]),\n",
       " 'screen_sigma_44': array([9.63442431e-11, 6.29045216e-11, 4.55602218e-11, 3.09762914e-11,\n",
       "        1.91739530e-11])}"
      ]
     },
     "execution_count": 16,
     "metadata": {},
     "output_type": "execute_result"
    }
   ],
   "source": [
    "res"
   ]
  }
 ],
 "metadata": {
  "kernelspec": {
   "display_name": "Python 3 (ipykernel)",
   "language": "python",
   "name": "python3"
  },
  "language_info": {
   "codemirror_mode": {
    "name": "ipython",
    "version": 3
   },
   "file_extension": ".py",
   "mimetype": "text/x-python",
   "name": "python",
   "nbconvert_exporter": "python",
   "pygments_lexer": "ipython3",
   "version": "3.9.15"
  },
  "vscode": {
   "interpreter": {
    "hash": "a91e20ba2d53a502f7925f39cf39925e3f47f4d0539594422b17676132d3b721"
   }
  }
 },
 "nbformat": 4,
 "nbformat_minor": 5
}
