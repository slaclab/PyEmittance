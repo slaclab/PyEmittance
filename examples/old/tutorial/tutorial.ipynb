{
 "cells": [
  {
   "cell_type": "markdown",
   "id": "843e466b",
   "metadata": {},
   "source": [
    "# PyEmittance Tutorial"
   ]
  },
  {
   "cell_type": "code",
   "execution_count": 1,
   "id": "340c0d38-a2ff-469c-8abe-d97b3fc7e3a0",
   "metadata": {
    "execution": {
     "iopub.execute_input": "2023-08-28T01:36:11.446189Z",
     "iopub.status.busy": "2023-08-28T01:36:11.445784Z",
     "iopub.status.idle": "2023-08-28T01:36:12.025361Z",
     "shell.execute_reply": "2023-08-28T01:36:12.024302Z"
    }
   },
   "outputs": [],
   "source": [
    "from pyemittance import PyEmittance\n",
    "import numpy as np"
   ]
  },
  {
   "cell_type": "code",
   "execution_count": 2,
   "id": "97b9eae3-b80c-46d5-8c6f-1df8923fb03c",
   "metadata": {
    "execution": {
     "iopub.execute_input": "2023-08-28T01:36:12.029689Z",
     "iopub.status.busy": "2023-08-28T01:36:12.029156Z",
     "iopub.status.idle": "2023-08-28T01:36:12.034926Z",
     "shell.execute_reply": "2023-08-28T01:36:12.034312Z"
    }
   },
   "outputs": [],
   "source": [
    "meas = PyEmittance()"
   ]
  },
  {
   "cell_type": "code",
   "execution_count": 3,
   "id": "f5389d1c-4e56-4484-84b0-a48ff3d0cff3",
   "metadata": {
    "execution": {
     "iopub.execute_input": "2023-08-28T01:36:12.038048Z",
     "iopub.status.busy": "2023-08-28T01:36:12.037597Z",
     "iopub.status.idle": "2023-08-28T01:36:12.044576Z",
     "shell.execute_reply": "2023-08-28T01:36:12.043855Z"
    }
   },
   "outputs": [
    {
     "data": {
      "text/plain": [
       "'LCLS_OTR2'"
      ]
     },
     "execution_count": 3,
     "metadata": {},
     "output_type": "execute_result"
    }
   ],
   "source": [
    "meas.config_name"
   ]
  },
  {
   "cell_type": "markdown",
   "id": "3af3b88e-992f-4379-91e0-8c1c0c7ca933",
   "metadata": {},
   "source": [
    "## Three options for setting configurations for measurements:\n",
    "1. Make directory under `configs/` with Machine_Device_Name with all needed jsons (see `configs/LCLS2_OTR3`), and pass dir name to `meas.config_name`\n",
    "2. Change params and configs through class attributes\n",
    "3. pass the dictionary to pyemittance (same keys and subkeys as `meas.config_dict` below)"
   ]
  },
  {
   "cell_type": "code",
   "execution_count": 4,
   "id": "156777c4-1f4d-4285-b8c5-99988c802d1f",
   "metadata": {
    "execution": {
     "iopub.execute_input": "2023-08-28T01:36:12.049130Z",
     "iopub.status.busy": "2023-08-28T01:36:12.048886Z",
     "iopub.status.idle": "2023-08-28T01:36:12.052122Z",
     "shell.execute_reply": "2023-08-28T01:36:12.051429Z"
    }
   },
   "outputs": [],
   "source": [
    "meas.num_points = 5"
   ]
  },
  {
   "cell_type": "code",
   "execution_count": 5,
   "id": "13efc521-380c-47c4-b5b5-55929df9f418",
   "metadata": {
    "execution": {
     "iopub.execute_input": "2023-08-28T01:36:12.055286Z",
     "iopub.status.busy": "2023-08-28T01:36:12.055041Z",
     "iopub.status.idle": "2023-08-28T01:36:12.059594Z",
     "shell.execute_reply": "2023-08-28T01:36:12.058895Z"
    }
   },
   "outputs": [
    {
     "data": {
      "text/plain": [
       "dict_keys(['beamline_info', 'img_proc', 'meas_pv_info', 'savepaths'])"
      ]
     },
     "execution_count": 5,
     "metadata": {},
     "output_type": "execute_result"
    }
   ],
   "source": [
    "# see all configs with command below\n",
    "meas.config_dict.keys()"
   ]
  },
  {
   "cell_type": "code",
   "execution_count": 6,
   "id": "61291621-7374-488d-870c-0c50e56d3c65",
   "metadata": {
    "execution": {
     "iopub.execute_input": "2023-08-28T01:36:12.063443Z",
     "iopub.status.busy": "2023-08-28T01:36:12.063067Z",
     "iopub.status.idle": "2023-08-28T01:36:12.068076Z",
     "shell.execute_reply": "2023-08-28T01:36:12.067356Z"
    }
   },
   "outputs": [
    {
     "data": {
      "text/plain": [
       "{'subtract_bg': False,\n",
       " 'use_roi': False,\n",
       " 'avg_ims': True,\n",
       " 'n_to_acquire': 5,\n",
       " 'background_im': None,\n",
       " 'amp_threshold': 1500,\n",
       " 'min_sigma': 1.0,\n",
       " 'max_sigma': 60,\n",
       " 'max_samples': 3,\n",
       " 'roi': {'xmin': 0, 'xmax': 100, 'ymin': 0, 'ymax': 100}}"
      ]
     },
     "execution_count": 6,
     "metadata": {},
     "output_type": "execute_result"
    }
   ],
   "source": [
    "meas.config_dict['img_proc']"
   ]
  },
  {
   "cell_type": "code",
   "execution_count": 7,
   "id": "f91e220b-2a96-4777-93a9-03c825ca5c95",
   "metadata": {
    "execution": {
     "iopub.execute_input": "2023-08-28T01:36:12.071985Z",
     "iopub.status.busy": "2023-08-28T01:36:12.071600Z",
     "iopub.status.idle": "2023-08-28T01:36:12.076095Z",
     "shell.execute_reply": "2023-08-28T01:36:12.075539Z"
    }
   },
   "outputs": [
    {
     "data": {
      "text/plain": [
       "[-6, -4, -2, 0]"
      ]
     },
     "execution_count": 7,
     "metadata": {},
     "output_type": "execute_result"
    }
   ],
   "source": [
    "meas.quad_init"
   ]
  },
  {
   "cell_type": "markdown",
   "id": "17abe0de-3282-412c-a1d7-b3c476596721",
   "metadata": {},
   "source": [
    "## Example running offline with random beam size numbers"
   ]
  },
  {
   "cell_type": "code",
   "execution_count": 8,
   "id": "3346bb1e-d4e9-456b-848d-a49dabe3837b",
   "metadata": {
    "execution": {
     "iopub.execute_input": "2023-08-28T01:36:12.079266Z",
     "iopub.status.busy": "2023-08-28T01:36:12.078890Z",
     "iopub.status.idle": "2023-08-28T01:36:12.144947Z",
     "shell.execute_reply": "2023-08-28T01:36:12.144230Z"
    }
   },
   "outputs": [
    {
     "name": "stderr",
     "output_type": "stream",
     "text": [
      "No settle_time found in in meas_device, setting to zero\n",
      "No settle_time found in in meas_device, setting to zero\n",
      "No settle_time found in in meas_device, setting to zero\n",
      "No settle_time found in in meas_device, setting to zero\n",
      "No settle_time found in in meas_device, setting to zero\n",
      "No settle_time found in in meas_device, setting to zero\n",
      "No settle_time found in in meas_device, setting to zero\n",
      "Emittance can't be computed. Returning error\n"
     ]
    }
   ],
   "source": [
    "import matplotlib.pyplot as plt\n",
    "res = meas.measure_emittance()"
   ]
  },
  {
   "cell_type": "code",
   "execution_count": 9,
   "id": "17907721-184c-4490-b466-5e53b0d764ce",
   "metadata": {
    "execution": {
     "iopub.execute_input": "2023-08-28T01:36:12.148735Z",
     "iopub.status.busy": "2023-08-28T01:36:12.148362Z",
     "iopub.status.idle": "2023-08-28T01:36:12.153987Z",
     "shell.execute_reply": "2023-08-28T01:36:12.153391Z"
    }
   },
   "outputs": [
    {
     "data": {
      "text/plain": [
       "{'name': 'LCLS',\n",
       " 'Lquad': 0.108,\n",
       " 'energy': 135000000.0,\n",
       " 'Twiss0': [1e-06,\n",
       "  1e-06,\n",
       "  1.113081026,\n",
       "  1.113021659,\n",
       "  -0.0689403587,\n",
       "  -0.07029489754],\n",
       " 'rMatx': [1, 2.26, 0, 1],\n",
       " 'rMaty': [1, 2.26, 0, 1]}"
      ]
     },
     "execution_count": 9,
     "metadata": {},
     "output_type": "execute_result"
    }
   ],
   "source": [
    "meas.config_dict['beamline_info']"
   ]
  },
  {
   "cell_type": "markdown",
   "id": "34c987d4-b401-4ddb-bcf2-57e96c0b5466",
   "metadata": {},
   "source": [
    "The output is a large dict:"
   ]
  },
  {
   "cell_type": "code",
   "execution_count": 10,
   "id": "789a0a4e-3cf6-4df1-a0a2-7697558b2aec",
   "metadata": {
    "execution": {
     "iopub.execute_input": "2023-08-28T01:36:12.156957Z",
     "iopub.status.busy": "2023-08-28T01:36:12.156488Z",
     "iopub.status.idle": "2023-08-28T01:36:12.162909Z",
     "shell.execute_reply": "2023-08-28T01:36:12.162351Z"
    }
   },
   "outputs": [
    {
     "data": {
      "text/plain": [
       "{'quadvalsx': array([0., 0., 0., 0., 0., 0., 0., 0., 0.]),\n",
       " 'beamsizesx': array([6.30702269e-05, 6.30702269e-05, 6.30702269e-05, 6.30702269e-05,\n",
       "        6.30702269e-05, 6.30702269e-05, 6.30702269e-05, 6.30702269e-05,\n",
       "        6.30702269e-05]),\n",
       " 'beamsizeserrx': array([9.46053404e-07, 9.46053404e-07, 9.46053404e-07, 9.46053404e-07,\n",
       "        9.46053404e-07, 9.46053404e-07, 9.46053404e-07, 9.46053404e-07,\n",
       "        9.46053404e-07]),\n",
       " 'error_x': True,\n",
       " 'quadvalsy': array([-6. , -4.5, -3. , -1.5,  0. ,  0. ,  0. ]),\n",
       " 'beamsizesy': array([0.00053606, 0.00050883, 0.0005119 , 0.00035266, 0.00052127,\n",
       "        0.00052127, 0.00052127]),\n",
       " 'beamsizeserry': array([8.04083842e-06, 7.63244809e-06, 7.67855187e-06, 5.28993508e-06,\n",
       "        7.81907541e-06, 7.81907541e-06, 7.81907541e-06]),\n",
       " 'error_y': False,\n",
       " 'emit_y': 4.117030969316072e-08,\n",
       " 'norm_emit_y': 1.0876640729264264e-05,\n",
       " 'beta_y': 1.4372617697654138,\n",
       " 'alpha_y': -0.11903992810633181,\n",
       " 'emit_y_err': 7.079597148831201e-10,\n",
       " 'norm_emit_y_err': 1.8703341138226206e-07,\n",
       " 'beta_y_rel_err': 0.017195880238926764,\n",
       " 'alpha_y_rel_err': -2.843170842195371e-16,\n",
       " 'sigma_33': 5.917251217138234e-08,\n",
       " 'sigma_34': 4.900910705989267e-09,\n",
       " 'sigma_44': 2.9050876207520756e-08,\n",
       " 'screen_sigma_33': array([3.36983386e-07, 2.14130097e-07, 1.56282661e-07, 1.65849037e-07,\n",
       "        2.45283806e-07, 2.45283806e-07, 2.45283806e-07]),\n",
       " 'screen_sigma_34': array([1.91039796e-07, 1.18882017e-07, 7.45714281e-08, 5.91533334e-08,\n",
       "        7.36933856e-08, 7.36933856e-08, 7.36933856e-08]),\n",
       " 'screen_sigma_44': array([1.13332585e-07, 7.39173452e-08, 4.64280059e-08, 3.13183083e-08,\n",
       "        2.90508762e-08, 2.90508762e-08, 2.90508762e-08])}"
      ]
     },
     "execution_count": 10,
     "metadata": {},
     "output_type": "execute_result"
    }
   ],
   "source": [
    "res"
   ]
  },
  {
   "cell_type": "markdown",
   "id": "f6e66c9e-8773-4b6c-b393-335a7b45e18e",
   "metadata": {},
   "source": [
    "## Example running online (do not run on machine!)"
   ]
  },
  {
   "cell_type": "code",
   "execution_count": 11,
   "id": "0bd09ce9-da64-4e6e-83b3-61a69a565b4b",
   "metadata": {
    "execution": {
     "iopub.execute_input": "2023-08-28T01:36:12.166108Z",
     "iopub.status.busy": "2023-08-28T01:36:12.165407Z",
     "iopub.status.idle": "2023-08-28T01:36:12.168739Z",
     "shell.execute_reply": "2023-08-28T01:36:12.168166Z"
    }
   },
   "outputs": [],
   "source": [
    "meas.online = True"
   ]
  },
  {
   "cell_type": "code",
   "execution_count": 12,
   "id": "1f892d9a-e1c8-4564-abba-6939a8a434e7",
   "metadata": {
    "execution": {
     "iopub.execute_input": "2023-08-28T01:36:12.172020Z",
     "iopub.status.busy": "2023-08-28T01:36:12.171329Z",
     "iopub.status.idle": "2023-08-28T01:36:19.179316Z",
     "shell.execute_reply": "2023-08-28T01:36:19.178526Z"
    }
   },
   "outputs": [
    {
     "name": "stderr",
     "output_type": "stream",
     "text": [
      "No settle_time found in in meas_device, setting to zero\n"
     ]
    },
    {
     "name": "stdout",
     "output_type": "stream",
     "text": [
      "cannot connect to OTRS:IN20:541:RESOLUTION\n"
     ]
    }
   ],
   "source": [
    "try:\n",
    "    res = meas.measure_emittance()\n",
    "except:\n",
    "    pass # epics can't connect on my local pc"
   ]
  },
  {
   "cell_type": "markdown",
   "id": "c6b71629-2020-446c-86b6-26b749412fcd",
   "metadata": {},
   "source": [
    "## Example running with some random beamsize model \n",
    "### (can be any simulation, just need to pass pyemittance the beamsize fn)"
   ]
  },
  {
   "cell_type": "code",
   "execution_count": 13,
   "id": "d768660f-b07e-4087-acc0-d4e47e996169",
   "metadata": {
    "execution": {
     "iopub.execute_input": "2023-08-28T01:36:19.183404Z",
     "iopub.status.busy": "2023-08-28T01:36:19.182900Z",
     "iopub.status.idle": "2023-08-28T01:36:19.190385Z",
     "shell.execute_reply": "2023-08-28T01:36:19.189656Z"
    }
   },
   "outputs": [
    {
     "data": {
      "text/plain": [
       "(3.09089271261053e-05, 1.4706189223551029e-06, 0, 0)"
      ]
     },
     "execution_count": 13,
     "metadata": {},
     "output_type": "execute_result"
    }
   ],
   "source": [
    "def get_bs_model(*args):\n",
    "    return abs(np.random.normal(1e-6, 5e-5)), abs(np.random.normal(1e-6, 5e-6)), 0, 0\n",
    "\n",
    "get_bs_model()"
   ]
  },
  {
   "cell_type": "code",
   "execution_count": 14,
   "id": "481773b3-36e5-4ebc-9e9b-1493e01dc719",
   "metadata": {
    "execution": {
     "iopub.execute_input": "2023-08-28T01:36:19.193620Z",
     "iopub.status.busy": "2023-08-28T01:36:19.193367Z",
     "iopub.status.idle": "2023-08-28T01:36:19.196860Z",
     "shell.execute_reply": "2023-08-28T01:36:19.196092Z"
    }
   },
   "outputs": [],
   "source": [
    "meas.use_model=True\n",
    "meas.online = False # meaningless when running with a model\n",
    "meas.get_bs_model = get_bs_model"
   ]
  },
  {
   "cell_type": "code",
   "execution_count": 15,
   "id": "e2e3fc3f-bdee-4326-bace-af2afc76a0ed",
   "metadata": {
    "execution": {
     "iopub.execute_input": "2023-08-28T01:36:19.200303Z",
     "iopub.status.busy": "2023-08-28T01:36:19.199920Z",
     "iopub.status.idle": "2023-08-28T01:36:19.216760Z",
     "shell.execute_reply": "2023-08-28T01:36:19.215983Z"
    }
   },
   "outputs": [
    {
     "name": "stderr",
     "output_type": "stream",
     "text": [
      "No settle_time found in in meas_device, setting to zero\n",
      "No settle_time found in in meas_device, setting to zero\n",
      "No settle_time found in in meas_device, setting to zero\n",
      "No settle_time found in in meas_device, setting to zero\n",
      "No settle_time found in in meas_device, setting to zero\n",
      "No settle_time found in in meas_device, setting to zero\n",
      "No settle_time found in in meas_device, setting to zero\n",
      "No settle_time found in in meas_device, setting to zero\n",
      "No settle_time found in in meas_device, setting to zero\n",
      "Emittance can't be computed. Returning error\n"
     ]
    }
   ],
   "source": [
    "res = meas.measure_emittance()"
   ]
  },
  {
   "cell_type": "code",
   "execution_count": 16,
   "id": "f898623f-bda1-4f07-be4c-871c0b56cee9",
   "metadata": {
    "execution": {
     "iopub.execute_input": "2023-08-28T01:36:19.224784Z",
     "iopub.status.busy": "2023-08-28T01:36:19.224527Z",
     "iopub.status.idle": "2023-08-28T01:36:19.230703Z",
     "shell.execute_reply": "2023-08-28T01:36:19.230152Z"
    }
   },
   "outputs": [
    {
     "data": {
      "text/plain": [
       "{'quadvalsx': array([-6., -6., -6., -6., -6., -6., -6., -6., -6.]),\n",
       " 'beamsizesx': array([0.00022303, 0.00022303, 0.00022303, 0.00022303, 0.00022303,\n",
       "        0.00022303, 0.00022303, 0.00022303, 0.00022303]),\n",
       " 'beamsizeserrx': array([3.3454482e-06, 3.3454482e-06, 3.3454482e-06, 3.3454482e-06,\n",
       "        3.3454482e-06, 3.3454482e-06, 3.3454482e-06, 3.3454482e-06,\n",
       "        3.3454482e-06]),\n",
       " 'error_x': True,\n",
       " 'quadvalsy': array([-2.94771357, -1.96514238, -1.47385678, -0.98257119, -0.49128559]),\n",
       " 'beamsizesy': array([0.00042516, 0.00024014, 0.00032786, 0.00034117, 0.00020903]),\n",
       " 'beamsizeserry': array([6.37744251e-06, 3.60215292e-06, 4.91793777e-06, 5.11754753e-06,\n",
       "        3.13540561e-06]),\n",
       " 'error_y': False,\n",
       " 'emit_y': 1.9617471619428e-08,\n",
       " 'norm_emit_y': 5.182671503112402e-06,\n",
       " 'beta_y': 2.222563318025903,\n",
       " 'alpha_y': 0.8324981174439505,\n",
       " 'emit_y_err': 2.273739541049526e-09,\n",
       " 'norm_emit_y_err': 6.006913303357105e-07,\n",
       " 'beta_y_rel_err': 0.11590380173139872,\n",
       " 'alpha_y_rel_err': 7.227102111144115e-17,\n",
       " 'sigma_33': 4.360107281375487e-08,\n",
       " 'sigma_34': -1.6331508192183936e-08,\n",
       " 'sigma_44': 1.494374588794257e-08,\n",
       " 'screen_sigma_33': array([1.26103213e-07, 8.01767804e-08, 6.48371224e-08, 5.46616425e-08,\n",
       "        4.97121811e-08]),\n",
       " 'screen_sigma_34': array([7.90027290e-08, 5.02030442e-08, 3.90695741e-08, 3.01491977e-08,\n",
       "        2.34687614e-08]),\n",
       " 'screen_sigma_44': array([5.25464514e-08, 3.62348155e-08, 2.94781252e-08, 2.36696018e-08,\n",
       "        1.88208993e-08])}"
      ]
     },
     "execution_count": 16,
     "metadata": {},
     "output_type": "execute_result"
    }
   ],
   "source": [
    "res"
   ]
  }
 ],
 "metadata": {
  "kernelspec": {
   "display_name": "Python 3 (ipykernel)",
   "language": "python",
   "name": "python3"
  },
  "language_info": {
   "codemirror_mode": {
    "name": "ipython",
    "version": 3
   },
   "file_extension": ".py",
   "mimetype": "text/x-python",
   "name": "python",
   "nbconvert_exporter": "python",
   "pygments_lexer": "ipython3",
   "version": "3.9.17"
  },
  "vscode": {
   "interpreter": {
    "hash": "a91e20ba2d53a502f7925f39cf39925e3f47f4d0539594422b17676132d3b721"
   }
  }
 },
 "nbformat": 4,
 "nbformat_minor": 5
}
