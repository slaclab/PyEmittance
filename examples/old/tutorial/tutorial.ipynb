{
 "cells": [
  {
   "cell_type": "markdown",
   "id": "843e466b",
   "metadata": {},
   "source": [
    "# PyEmittance Tutorial"
   ]
  },
  {
   "cell_type": "code",
   "execution_count": 1,
   "id": "340c0d38-a2ff-469c-8abe-d97b3fc7e3a0",
   "metadata": {
    "execution": {
     "iopub.execute_input": "2023-01-06T19:03:29.736700Z",
     "iopub.status.busy": "2023-01-06T19:03:29.736325Z",
     "iopub.status.idle": "2023-01-06T19:03:30.313414Z",
     "shell.execute_reply": "2023-01-06T19:03:30.312550Z"
    }
   },
   "outputs": [],
   "source": [
    "from pyemittance import PyEmittance\n",
    "import numpy as np"
   ]
  },
  {
   "cell_type": "code",
   "execution_count": 2,
   "id": "97b9eae3-b80c-46d5-8c6f-1df8923fb03c",
   "metadata": {
    "execution": {
     "iopub.execute_input": "2023-01-06T19:03:30.317538Z",
     "iopub.status.busy": "2023-01-06T19:03:30.317229Z",
     "iopub.status.idle": "2023-01-06T19:03:30.322656Z",
     "shell.execute_reply": "2023-01-06T19:03:30.321892Z"
    }
   },
   "outputs": [],
   "source": [
    "meas = PyEmittance()"
   ]
  },
  {
   "cell_type": "code",
   "execution_count": 3,
   "id": "f5389d1c-4e56-4484-84b0-a48ff3d0cff3",
   "metadata": {
    "execution": {
     "iopub.execute_input": "2023-01-06T19:03:30.325612Z",
     "iopub.status.busy": "2023-01-06T19:03:30.325259Z",
     "iopub.status.idle": "2023-01-06T19:03:30.332526Z",
     "shell.execute_reply": "2023-01-06T19:03:30.331500Z"
    }
   },
   "outputs": [
    {
     "data": {
      "text/plain": [
       "'LCLS_OTR2'"
      ]
     },
     "execution_count": 3,
     "metadata": {},
     "output_type": "execute_result"
    }
   ],
   "source": [
    "meas.config_name"
   ]
  },
  {
   "cell_type": "markdown",
   "id": "3af3b88e-992f-4379-91e0-8c1c0c7ca933",
   "metadata": {},
   "source": [
    "## Three options for setting configurations for measurements:\n",
    "1. Make directory under `configs/` with Machine_Device_Name with all needed jsons (see `configs/LCLS2_OTR3`), and pass dir name to `meas.config_name`\n",
    "2. Change params and configs through class attributes\n",
    "3. pass the dictionary to pyemittance (same keys and subkeys as `meas.config_dict` below)"
   ]
  },
  {
   "cell_type": "code",
   "execution_count": 4,
   "id": "156777c4-1f4d-4285-b8c5-99988c802d1f",
   "metadata": {
    "execution": {
     "iopub.execute_input": "2023-01-06T19:03:30.337874Z",
     "iopub.status.busy": "2023-01-06T19:03:30.337548Z",
     "iopub.status.idle": "2023-01-06T19:03:30.341250Z",
     "shell.execute_reply": "2023-01-06T19:03:30.340543Z"
    }
   },
   "outputs": [],
   "source": [
    "meas.num_points = 5"
   ]
  },
  {
   "cell_type": "code",
   "execution_count": 5,
   "id": "13efc521-380c-47c4-b5b5-55929df9f418",
   "metadata": {
    "execution": {
     "iopub.execute_input": "2023-01-06T19:03:30.344438Z",
     "iopub.status.busy": "2023-01-06T19:03:30.344116Z",
     "iopub.status.idle": "2023-01-06T19:03:30.349080Z",
     "shell.execute_reply": "2023-01-06T19:03:30.348308Z"
    }
   },
   "outputs": [
    {
     "data": {
      "text/plain": [
       "dict_keys(['beamline_info', 'img_proc', 'meas_pv_info', 'opt_pv_info', 'save_scalar_pvs', 'savepaths'])"
      ]
     },
     "execution_count": 5,
     "metadata": {},
     "output_type": "execute_result"
    }
   ],
   "source": [
    "# see all configs with command below\n",
    "meas.config_dict.keys()"
   ]
  },
  {
   "cell_type": "code",
   "execution_count": 6,
   "id": "61291621-7374-488d-870c-0c50e56d3c65",
   "metadata": {
    "execution": {
     "iopub.execute_input": "2023-01-06T19:03:30.353622Z",
     "iopub.status.busy": "2023-01-06T19:03:30.353328Z",
     "iopub.status.idle": "2023-01-06T19:03:30.358553Z",
     "shell.execute_reply": "2023-01-06T19:03:30.357864Z"
    }
   },
   "outputs": [
    {
     "data": {
      "text/plain": [
       "{'subtract_bg': False,\n",
       " 'use_roi': False,\n",
       " 'avg_ims': True,\n",
       " 'n_to_acquire': 5,\n",
       " 'background_im': None,\n",
       " 'amp_threshold': 1500,\n",
       " 'min_sigma': 1.0,\n",
       " 'max_sigma': 60,\n",
       " 'max_samples': 3,\n",
       " 'roi': {'xmin': 0, 'xmax': 100, 'ymin': 0, 'ymax': 100}}"
      ]
     },
     "execution_count": 6,
     "metadata": {},
     "output_type": "execute_result"
    }
   ],
   "source": [
    "meas.config_dict['img_proc']"
   ]
  },
  {
   "cell_type": "code",
   "execution_count": 7,
   "id": "f91e220b-2a96-4777-93a9-03c825ca5c95",
   "metadata": {
    "execution": {
     "iopub.execute_input": "2023-01-06T19:03:30.362343Z",
     "iopub.status.busy": "2023-01-06T19:03:30.362130Z",
     "iopub.status.idle": "2023-01-06T19:03:30.366610Z",
     "shell.execute_reply": "2023-01-06T19:03:30.365635Z"
    }
   },
   "outputs": [
    {
     "data": {
      "text/plain": [
       "[-6, -4, -2, 0]"
      ]
     },
     "execution_count": 7,
     "metadata": {},
     "output_type": "execute_result"
    }
   ],
   "source": [
    "meas.quad_init"
   ]
  },
  {
   "cell_type": "markdown",
   "id": "17abe0de-3282-412c-a1d7-b3c476596721",
   "metadata": {},
   "source": [
    "## Example running offline with random beam size numbers"
   ]
  },
  {
   "cell_type": "code",
   "execution_count": 8,
   "id": "3346bb1e-d4e9-456b-848d-a49dabe3837b",
   "metadata": {
    "execution": {
     "iopub.execute_input": "2023-01-06T19:03:30.370730Z",
     "iopub.status.busy": "2023-01-06T19:03:30.370483Z",
     "iopub.status.idle": "2023-01-06T19:03:30.432480Z",
     "shell.execute_reply": "2023-01-06T19:03:30.431352Z"
    }
   },
   "outputs": [],
   "source": [
    "import matplotlib.pyplot as plt\n",
    "res = meas.measure_emittance()"
   ]
  },
  {
   "cell_type": "code",
   "execution_count": 9,
   "id": "17907721-184c-4490-b466-5e53b0d764ce",
   "metadata": {
    "execution": {
     "iopub.execute_input": "2023-01-06T19:03:30.437009Z",
     "iopub.status.busy": "2023-01-06T19:03:30.436637Z",
     "iopub.status.idle": "2023-01-06T19:03:30.442495Z",
     "shell.execute_reply": "2023-01-06T19:03:30.441893Z"
    }
   },
   "outputs": [
    {
     "data": {
      "text/plain": [
       "{'name': 'LCLS',\n",
       " 'Lquad': 0.108,\n",
       " 'energy': 135000000.0,\n",
       " 'Twiss0': [1e-06,\n",
       "  1e-06,\n",
       "  1.113081026,\n",
       "  1.113021659,\n",
       "  -0.0689403587,\n",
       "  -0.07029489754],\n",
       " 'rMatx': [1, 2.26, 0, 1],\n",
       " 'rMaty': [1, 2.26, 0, 1]}"
      ]
     },
     "execution_count": 9,
     "metadata": {},
     "output_type": "execute_result"
    }
   ],
   "source": [
    "meas.config_dict['beamline_info']"
   ]
  },
  {
   "cell_type": "markdown",
   "id": "34c987d4-b401-4ddb-bcf2-57e96c0b5466",
   "metadata": {},
   "source": [
    "The output is a large dict:"
   ]
  },
  {
   "cell_type": "code",
   "execution_count": 10,
   "id": "789a0a4e-3cf6-4df1-a0a2-7697558b2aec",
   "metadata": {
    "execution": {
     "iopub.execute_input": "2023-01-06T19:03:30.445882Z",
     "iopub.status.busy": "2023-01-06T19:03:30.445401Z",
     "iopub.status.idle": "2023-01-06T19:03:30.453743Z",
     "shell.execute_reply": "2023-01-06T19:03:30.452639Z"
    }
   },
   "outputs": [
    {
     "data": {
      "text/plain": [
       "{'quadvalsx': array([1.8       , 3.53333333, 4.4       , 5.26666667, 7.        ]),\n",
       " 'beamsizesx': array([0.00049033, 0.00013134, 0.00035374, 0.00029797, 0.00049725]),\n",
       " 'beamsizeserrx': array([7.35495903e-06, 1.97008941e-06, 5.30612228e-06, 4.46950393e-06,\n",
       "        7.45873375e-06]),\n",
       " 'error_x': False,\n",
       " 'emit_x': 1.9781493087600917e-08,\n",
       " 'norm_emit_x': 5.226003763532577e-06,\n",
       " 'beta_x': 5.740824260534885,\n",
       " 'alpha_x': -2.315217252278386,\n",
       " 'emit_x_err': 3.1183927062033276e-10,\n",
       " 'norm_emit_x_err': 8.238373082669859e-08,\n",
       " 'beta_x_rel_err': 0.015764192785619136,\n",
       " 'alpha_x_rel_err': -1.81543769059815e-17,\n",
       " 'sigma_11': 1.1356207542690248e-07,\n",
       " 'sigma_12': 4.5798454072239274e-08,\n",
       " 'sigma_22': 2.191581876983047e-08,\n",
       " 'screen_sigma_11': array([1.35904692e-07, 1.95688560e-08, 2.87066105e-08, 8.14940344e-08,\n",
       "        3.14415821e-07]),\n",
       " 'screen_sigma_12': array([7.55893301e-09, 1.97353817e-09, 2.80347493e-08, 7.28019112e-08,\n",
       "        2.16890428e-07]),\n",
       " 'screen_sigma_22': array([3.29970166e-09, 2.01954739e-08, 4.10098796e-08, 6.98385568e-08,\n",
       "        1.50859983e-07]),\n",
       " 'quadvalsy': array([-4.73938044, -4.10404805, -3.46871566, -2.83338328, -2.19805089,\n",
       "        -1.68978498, -0.67325316]),\n",
       " 'beamsizesy': array([0.00054983, 0.00056985, 0.00040823, 0.00016723, 0.00017291,\n",
       "        0.00024673, 0.00057367]),\n",
       " 'beamsizeserry': array([8.24740488e-06, 8.54775924e-06, 6.12337794e-06, 2.50841878e-06,\n",
       "        2.59368617e-06, 3.70099736e-06, 8.60497847e-06]),\n",
       " 'error_y': False,\n",
       " 'emit_y': 3.448799373361624e-08,\n",
       " 'norm_emit_y': 9.11126294918242e-06,\n",
       " 'beta_y': 8.503306214647745,\n",
       " 'alpha_y': -0.9516419723575206,\n",
       " 'emit_y_err': 4.690472873393265e-10,\n",
       " 'norm_emit_y_err': 1.239159692372519e-07,\n",
       " 'beta_y_rel_err': 0.013600306557761144,\n",
       " 'alpha_y_rel_err': -3.631141164153379e-17,\n",
       " 'sigma_33': 2.9326197144579145e-07,\n",
       " 'sigma_34': 3.282022237931237e-08,\n",
       " 'sigma_44': 7.728887239020832e-09,\n",
       " 'screen_sigma_33': array([4.01141639e-07, 2.19011096e-07, 9.53755412e-08, 3.11429529e-08,\n",
       "        2.72287277e-08, 6.81464746e-08, 2.69471572e-07]),\n",
       " 'screen_sigma_34': array([ 3.18368138e-07,  1.99259845e-07,  1.05213076e-07,  3.66219891e-08,\n",
       "        -6.11602193e-09, -2.14230892e-08, -8.02352658e-10]),\n",
       " 'screen_sigma_44': array([2.55639612e-07, 1.86720710e-07, 1.28536236e-07, 8.12572848e-08,\n",
       "        4.50563629e-08, 2.41886389e-08, 4.41629323e-09]),\n",
       " 'sqrt_norm_emit_4d': 6.900398138003506e-06,\n",
       " 'sqrt_norm_emit_4d_err': 1.436672359049561e-07}"
      ]
     },
     "execution_count": 10,
     "metadata": {},
     "output_type": "execute_result"
    }
   ],
   "source": [
    "res"
   ]
  },
  {
   "cell_type": "markdown",
   "id": "f6e66c9e-8773-4b6c-b393-335a7b45e18e",
   "metadata": {},
   "source": [
    "## Example running online (do not run on machine!)"
   ]
  },
  {
   "cell_type": "code",
   "execution_count": 11,
   "id": "0bd09ce9-da64-4e6e-83b3-61a69a565b4b",
   "metadata": {
    "execution": {
     "iopub.execute_input": "2023-01-06T19:03:30.457947Z",
     "iopub.status.busy": "2023-01-06T19:03:30.457492Z",
     "iopub.status.idle": "2023-01-06T19:03:30.460731Z",
     "shell.execute_reply": "2023-01-06T19:03:30.460066Z"
    }
   },
   "outputs": [],
   "source": [
    "meas.online = True"
   ]
  },
  {
   "cell_type": "code",
   "execution_count": 12,
   "id": "1f892d9a-e1c8-4564-abba-6939a8a434e7",
   "metadata": {
    "execution": {
     "iopub.execute_input": "2023-01-06T19:03:30.464980Z",
     "iopub.status.busy": "2023-01-06T19:03:30.464348Z",
     "iopub.status.idle": "2023-01-06T19:03:37.571934Z",
     "shell.execute_reply": "2023-01-06T19:03:37.571136Z"
    }
   },
   "outputs": [
    {
     "name": "stdout",
     "output_type": "stream",
     "text": [
      "cannot connect to OTRS:IN20:541:RESOLUTION\n"
     ]
    }
   ],
   "source": [
    "try:\n",
    "    res = meas.measure_emittance()\n",
    "except:\n",
    "    pass # epics can't connect on my local pc"
   ]
  },
  {
   "cell_type": "markdown",
   "id": "c6b71629-2020-446c-86b6-26b749412fcd",
   "metadata": {},
   "source": [
    "## Example running with some random beamsize model \n",
    "### (can be any simulation, just need to pass pyemittance the beamsize fn)"
   ]
  },
  {
   "cell_type": "code",
   "execution_count": 13,
   "id": "d768660f-b07e-4087-acc0-d4e47e996169",
   "metadata": {
    "execution": {
     "iopub.execute_input": "2023-01-06T19:03:37.575163Z",
     "iopub.status.busy": "2023-01-06T19:03:37.574899Z",
     "iopub.status.idle": "2023-01-06T19:03:37.582346Z",
     "shell.execute_reply": "2023-01-06T19:03:37.581615Z"
    }
   },
   "outputs": [
    {
     "data": {
      "text/plain": [
       "(7.562634386928126e-05, 3.601612178620125e-08, 0, 0)"
      ]
     },
     "execution_count": 13,
     "metadata": {},
     "output_type": "execute_result"
    }
   ],
   "source": [
    "def get_bs_model(*args):\n",
    "    return abs(np.random.normal(1e-6, 5e-5)), abs(np.random.normal(1e-6, 5e-6)), 0, 0\n",
    "\n",
    "get_bs_model()"
   ]
  },
  {
   "cell_type": "code",
   "execution_count": 14,
   "id": "481773b3-36e5-4ebc-9e9b-1493e01dc719",
   "metadata": {
    "execution": {
     "iopub.execute_input": "2023-01-06T19:03:37.585546Z",
     "iopub.status.busy": "2023-01-06T19:03:37.585305Z",
     "iopub.status.idle": "2023-01-06T19:03:37.588817Z",
     "shell.execute_reply": "2023-01-06T19:03:37.588049Z"
    }
   },
   "outputs": [],
   "source": [
    "meas.use_model=True\n",
    "meas.online = False # meaningless when running with a model\n",
    "meas.get_bs_model = get_bs_model"
   ]
  },
  {
   "cell_type": "code",
   "execution_count": 15,
   "id": "e2e3fc3f-bdee-4326-bace-af2afc76a0ed",
   "metadata": {
    "execution": {
     "iopub.execute_input": "2023-01-06T19:03:37.592068Z",
     "iopub.status.busy": "2023-01-06T19:03:37.591787Z",
     "iopub.status.idle": "2023-01-06T19:03:37.603478Z",
     "shell.execute_reply": "2023-01-06T19:03:37.602698Z"
    }
   },
   "outputs": [
    {
     "name": "stderr",
     "output_type": "stream",
     "text": [
      "Emittance can't be computed. Returning error\n",
      "Emittance can't be computed. Returning error\n"
     ]
    }
   ],
   "source": [
    "res = meas.measure_emittance()"
   ]
  },
  {
   "cell_type": "code",
   "execution_count": 16,
   "id": "f898623f-bda1-4f07-be4c-871c0b56cee9",
   "metadata": {
    "execution": {
     "iopub.execute_input": "2023-01-06T19:03:37.606499Z",
     "iopub.status.busy": "2023-01-06T19:03:37.606215Z",
     "iopub.status.idle": "2023-01-06T19:03:37.614545Z",
     "shell.execute_reply": "2023-01-06T19:03:37.613691Z"
    }
   },
   "outputs": [
    {
     "data": {
      "text/plain": [
       "{'quadvalsx': array([-8.   , -7.5  , -7.   , -6.5  , -6.   , -6.625]),\n",
       " 'beamsizesx': array([4.23081416e-05, 1.59338693e-05, 1.84466590e-05, 1.30529429e-05,\n",
       "        1.27382850e-06, 1.36618999e-05]),\n",
       " 'beamsizeserrx': array([6.34622123e-07, 2.39008039e-07, 2.76699884e-07, 1.95794144e-07,\n",
       "        1.91074276e-08, 2.04928498e-07]),\n",
       " 'error_x': True,\n",
       " 'quadvalsy': array([-8.32066494, -7.8654987 , -7.41033247, -6.95516623, -6.5       ]),\n",
       " 'beamsizesy': array([3.55580280e-06, 1.48694685e-06, 7.25043159e-06, 4.47132191e-06,\n",
       "        4.07754314e-07]),\n",
       " 'beamsizeserry': array([5.33370420e-08, 2.23042027e-08, 1.08756474e-07, 6.70698287e-08,\n",
       "        6.11631471e-09]),\n",
       " 'error_y': True}"
      ]
     },
     "execution_count": 16,
     "metadata": {},
     "output_type": "execute_result"
    }
   ],
   "source": [
    "res"
   ]
  }
 ],
 "metadata": {
  "kernelspec": {
   "display_name": "Python 3 (ipykernel)",
   "language": "python",
   "name": "python3"
  },
  "language_info": {
   "codemirror_mode": {
    "name": "ipython",
    "version": 3
   },
   "file_extension": ".py",
   "mimetype": "text/x-python",
   "name": "python",
   "nbconvert_exporter": "python",
   "pygments_lexer": "ipython3",
   "version": "3.9.15"
  },
  "vscode": {
   "interpreter": {
    "hash": "a91e20ba2d53a502f7925f39cf39925e3f47f4d0539594422b17676132d3b721"
   }
  }
 },
 "nbformat": 4,
 "nbformat_minor": 5
}
