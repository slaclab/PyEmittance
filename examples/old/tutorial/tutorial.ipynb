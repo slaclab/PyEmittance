{
 "cells": [
  {
   "cell_type": "markdown",
   "id": "843e466b",
   "metadata": {},
   "source": [
    "# PyEmittance Tutorial"
   ]
  },
  {
   "cell_type": "code",
   "execution_count": 1,
   "id": "340c0d38-a2ff-469c-8abe-d97b3fc7e3a0",
   "metadata": {
    "execution": {
     "iopub.execute_input": "2023-01-05T23:32:56.954371Z",
     "iopub.status.busy": "2023-01-05T23:32:56.953865Z",
     "iopub.status.idle": "2023-01-05T23:32:57.397125Z",
     "shell.execute_reply": "2023-01-05T23:32:57.396540Z"
    }
   },
   "outputs": [],
   "source": [
    "from pyemittance import PyEmittance\n",
    "import numpy as np"
   ]
  },
  {
   "cell_type": "code",
   "execution_count": 2,
   "id": "97b9eae3-b80c-46d5-8c6f-1df8923fb03c",
   "metadata": {
    "execution": {
     "iopub.execute_input": "2023-01-05T23:32:57.400485Z",
     "iopub.status.busy": "2023-01-05T23:32:57.400206Z",
     "iopub.status.idle": "2023-01-05T23:32:57.403966Z",
     "shell.execute_reply": "2023-01-05T23:32:57.403424Z"
    }
   },
   "outputs": [],
   "source": [
    "meas = PyEmittance()"
   ]
  },
  {
   "cell_type": "code",
   "execution_count": 3,
   "id": "f5389d1c-4e56-4484-84b0-a48ff3d0cff3",
   "metadata": {
    "execution": {
     "iopub.execute_input": "2023-01-05T23:32:57.409591Z",
     "iopub.status.busy": "2023-01-05T23:32:57.409380Z",
     "iopub.status.idle": "2023-01-05T23:32:57.415055Z",
     "shell.execute_reply": "2023-01-05T23:32:57.414505Z"
    }
   },
   "outputs": [
    {
     "data": {
      "text/plain": [
       "'LCLS_OTR2'"
      ]
     },
     "execution_count": 3,
     "metadata": {},
     "output_type": "execute_result"
    }
   ],
   "source": [
    "meas.config_name"
   ]
  },
  {
   "cell_type": "markdown",
   "id": "3af3b88e-992f-4379-91e0-8c1c0c7ca933",
   "metadata": {},
   "source": [
    "## Three options for setting configurations for measurements:\n",
    "1. Make directory under `configs/` with Machine_Device_Name with all needed jsons (see `configs/LCLS2_OTR3`), and pass dir name to `meas.config_name`\n",
    "2. Change params and configs through class attributes\n",
    "3. pass the dictionary to pyemittance (same keys and subkeys as `meas.config_dict` below)"
   ]
  },
  {
   "cell_type": "code",
   "execution_count": 4,
   "id": "156777c4-1f4d-4285-b8c5-99988c802d1f",
   "metadata": {
    "execution": {
     "iopub.execute_input": "2023-01-05T23:32:57.419398Z",
     "iopub.status.busy": "2023-01-05T23:32:57.419187Z",
     "iopub.status.idle": "2023-01-05T23:32:57.421816Z",
     "shell.execute_reply": "2023-01-05T23:32:57.421267Z"
    }
   },
   "outputs": [],
   "source": [
    "meas.num_points = 5"
   ]
  },
  {
   "cell_type": "code",
   "execution_count": 5,
   "id": "13efc521-380c-47c4-b5b5-55929df9f418",
   "metadata": {
    "execution": {
     "iopub.execute_input": "2023-01-05T23:32:57.424440Z",
     "iopub.status.busy": "2023-01-05T23:32:57.424248Z",
     "iopub.status.idle": "2023-01-05T23:32:57.428155Z",
     "shell.execute_reply": "2023-01-05T23:32:57.427367Z"
    }
   },
   "outputs": [
    {
     "data": {
      "text/plain": [
       "dict_keys(['beamline_info', 'img_proc', 'meas_pv_info', 'opt_pv_info', 'save_scalar_pvs', 'savepaths'])"
      ]
     },
     "execution_count": 5,
     "metadata": {},
     "output_type": "execute_result"
    }
   ],
   "source": [
    "# see all configs with command below\n",
    "meas.config_dict.keys()"
   ]
  },
  {
   "cell_type": "code",
   "execution_count": 6,
   "id": "61291621-7374-488d-870c-0c50e56d3c65",
   "metadata": {
    "execution": {
     "iopub.execute_input": "2023-01-05T23:32:57.431873Z",
     "iopub.status.busy": "2023-01-05T23:32:57.431270Z",
     "iopub.status.idle": "2023-01-05T23:32:57.437816Z",
     "shell.execute_reply": "2023-01-05T23:32:57.437279Z"
    }
   },
   "outputs": [
    {
     "data": {
      "text/plain": [
       "{'subtract_bg': False,\n",
       " 'use_roi': False,\n",
       " 'avg_ims': True,\n",
       " 'n_to_acquire': 5,\n",
       " 'background_im': None,\n",
       " 'amp_threshold': 1500,\n",
       " 'min_sigma': 1.0,\n",
       " 'max_sigma': 60,\n",
       " 'max_samples': 3,\n",
       " 'roi': {'xmin': 0, 'xmax': 100, 'ymin': 0, 'ymax': 100}}"
      ]
     },
     "execution_count": 6,
     "metadata": {},
     "output_type": "execute_result"
    }
   ],
   "source": [
    "meas.config_dict['img_proc']"
   ]
  },
  {
   "cell_type": "code",
   "execution_count": 7,
   "id": "f91e220b-2a96-4777-93a9-03c825ca5c95",
   "metadata": {
    "execution": {
     "iopub.execute_input": "2023-01-05T23:32:57.440633Z",
     "iopub.status.busy": "2023-01-05T23:32:57.440327Z",
     "iopub.status.idle": "2023-01-05T23:32:57.444270Z",
     "shell.execute_reply": "2023-01-05T23:32:57.443728Z"
    }
   },
   "outputs": [
    {
     "data": {
      "text/plain": [
       "[-6, -4, -2, 0]"
      ]
     },
     "execution_count": 7,
     "metadata": {},
     "output_type": "execute_result"
    }
   ],
   "source": [
    "meas.quad_init"
   ]
  },
  {
   "cell_type": "markdown",
   "id": "17abe0de-3282-412c-a1d7-b3c476596721",
   "metadata": {},
   "source": [
    "## Example running offline with random beam size numbers"
   ]
  },
  {
   "cell_type": "code",
   "execution_count": 8,
   "id": "3346bb1e-d4e9-456b-848d-a49dabe3837b",
   "metadata": {
    "execution": {
     "iopub.execute_input": "2023-01-05T23:32:57.447424Z",
     "iopub.status.busy": "2023-01-05T23:32:57.447227Z",
     "iopub.status.idle": "2023-01-05T23:32:57.498826Z",
     "shell.execute_reply": "2023-01-05T23:32:57.498263Z"
    }
   },
   "outputs": [
    {
     "name": "stderr",
     "output_type": "stream",
     "text": [
      "/usr/share/miniconda/envs/pyemittance-dev/lib/python3.9/site-packages/scipy/optimize/_minpack_py.py:906: OptimizeWarning: Covariance of the parameters could not be estimated\n",
      "  warnings.warn('Covariance of the parameters could not be estimated',\n",
      "Emittance can't be computed. Returning error\n"
     ]
    }
   ],
   "source": [
    "import matplotlib.pyplot as plt\n",
    "res = meas.measure_emittance()"
   ]
  },
  {
   "cell_type": "code",
   "execution_count": 9,
   "id": "17907721-184c-4490-b466-5e53b0d764ce",
   "metadata": {
    "execution": {
     "iopub.execute_input": "2023-01-05T23:32:57.501722Z",
     "iopub.status.busy": "2023-01-05T23:32:57.501402Z",
     "iopub.status.idle": "2023-01-05T23:32:57.505727Z",
     "shell.execute_reply": "2023-01-05T23:32:57.505285Z"
    }
   },
   "outputs": [
    {
     "data": {
      "text/plain": [
       "{'name': 'LCLS',\n",
       " 'Lquad': 0.108,\n",
       " 'energy': 135000000.0,\n",
       " 'Twiss0': [1e-06,\n",
       "  1e-06,\n",
       "  1.113081026,\n",
       "  1.113021659,\n",
       "  -0.0689403587,\n",
       "  -0.07029489754],\n",
       " 'rMatx': [1, 2.26, 0, 1],\n",
       " 'rMaty': [1, 2.26, 0, 1]}"
      ]
     },
     "execution_count": 9,
     "metadata": {},
     "output_type": "execute_result"
    }
   ],
   "source": [
    "meas.config_dict['beamline_info']"
   ]
  },
  {
   "cell_type": "markdown",
   "id": "34c987d4-b401-4ddb-bcf2-57e96c0b5466",
   "metadata": {},
   "source": [
    "The output is a large dict:"
   ]
  },
  {
   "cell_type": "code",
   "execution_count": 10,
   "id": "789a0a4e-3cf6-4df1-a0a2-7697558b2aec",
   "metadata": {
    "execution": {
     "iopub.execute_input": "2023-01-05T23:32:57.508274Z",
     "iopub.status.busy": "2023-01-05T23:32:57.507939Z",
     "iopub.status.idle": "2023-01-05T23:32:57.512965Z",
     "shell.execute_reply": "2023-01-05T23:32:57.512530Z"
    }
   },
   "outputs": [
    {
     "data": {
      "text/plain": [
       "{'quadvalsx': array([-4. , -3.5, -3. , -2.5, -2. ]),\n",
       " 'beamsizesx': array([4.59410844e-04, 1.94695323e-04, 1.95128336e-04, 8.91497821e-05,\n",
       "        6.58120018e-05]),\n",
       " 'beamsizeserrx': array([6.89116266e-06, 2.92042985e-06, 2.92692504e-06, 1.33724673e-06,\n",
       "        9.87180027e-07]),\n",
       " 'error_x': False,\n",
       " 'emit_x': 8.053872403971307e-09,\n",
       " 'norm_emit_x': 2.1277245002576195e-06,\n",
       " 'beta_x': 11.330065142926681,\n",
       " 'alpha_x': 9.705849672319507,\n",
       " 'emit_x_err': 1.67224645537765e-10,\n",
       " 'norm_emit_x_err': 4.417849669211946e-08,\n",
       " 'beta_x_rel_err': 0.02076325985188707,\n",
       " 'alpha_x_rel_err': 3.774962140973792e-18,\n",
       " 'sigma_11': 9.125089898981442e-08,\n",
       " 'sigma_12': -7.816967483298803e-08,\n",
       " 'sigma_22': 6.767454340240349e-08,\n",
       " 'screen_sigma_11': array([8.92528776e-08, 5.05596157e-08, 2.35985806e-08, 8.23135441e-09,\n",
       "        4.32040002e-09]),\n",
       " 'screen_sigma_12': array([ 2.24214963e-09, -4.97390213e-09, -7.15749923e-09, -4.36874251e-09,\n",
       "         3.33265176e-09]),\n",
       " 'screen_sigma_22': array([7.83079465e-10, 1.77225562e-09, 4.91956097e-09, 1.01989014e-08,\n",
       "        1.75843505e-08]),\n",
       " 'quadvalsy': array([-6.5   , -5.6875, -4.875 , -4.0625, -3.25  ]),\n",
       " 'beamsizesy': array([0.00058752, 0.00039379, 0.00041597, 0.00048253, 0.00015752]),\n",
       " 'beamsizeserry': array([8.81277622e-06, 5.90680749e-06, 6.23956517e-06, 7.23789773e-06,\n",
       "        2.36273068e-06]),\n",
       " 'error_y': True}"
      ]
     },
     "execution_count": 10,
     "metadata": {},
     "output_type": "execute_result"
    }
   ],
   "source": [
    "res"
   ]
  },
  {
   "cell_type": "markdown",
   "id": "f6e66c9e-8773-4b6c-b393-335a7b45e18e",
   "metadata": {},
   "source": [
    "## Example running online (do not run on machine!)"
   ]
  },
  {
   "cell_type": "code",
   "execution_count": 11,
   "id": "0bd09ce9-da64-4e6e-83b3-61a69a565b4b",
   "metadata": {
    "execution": {
     "iopub.execute_input": "2023-01-05T23:32:57.515504Z",
     "iopub.status.busy": "2023-01-05T23:32:57.515201Z",
     "iopub.status.idle": "2023-01-05T23:32:57.517781Z",
     "shell.execute_reply": "2023-01-05T23:32:57.517331Z"
    }
   },
   "outputs": [],
   "source": [
    "meas.online = True"
   ]
  },
  {
   "cell_type": "code",
   "execution_count": 12,
   "id": "1f892d9a-e1c8-4564-abba-6939a8a434e7",
   "metadata": {
    "execution": {
     "iopub.execute_input": "2023-01-05T23:32:57.520235Z",
     "iopub.status.busy": "2023-01-05T23:32:57.519899Z",
     "iopub.status.idle": "2023-01-05T23:33:04.625284Z",
     "shell.execute_reply": "2023-01-05T23:33:04.624718Z"
    }
   },
   "outputs": [
    {
     "name": "stdout",
     "output_type": "stream",
     "text": [
      "cannot connect to OTRS:IN20:541:RESOLUTION\n"
     ]
    }
   ],
   "source": [
    "try:\n",
    "    res = meas.measure_emittance()\n",
    "except:\n",
    "    pass # epics can't connect on my local pc"
   ]
  },
  {
   "cell_type": "markdown",
   "id": "c6b71629-2020-446c-86b6-26b749412fcd",
   "metadata": {},
   "source": [
    "## Example running with some random beamsize model \n",
    "### (can be any simulation, just need to pass pyemittance the beamsize fn)"
   ]
  },
  {
   "cell_type": "code",
   "execution_count": 13,
   "id": "d768660f-b07e-4087-acc0-d4e47e996169",
   "metadata": {
    "execution": {
     "iopub.execute_input": "2023-01-05T23:33:04.628157Z",
     "iopub.status.busy": "2023-01-05T23:33:04.627936Z",
     "iopub.status.idle": "2023-01-05T23:33:04.633562Z",
     "shell.execute_reply": "2023-01-05T23:33:04.632996Z"
    }
   },
   "outputs": [
    {
     "data": {
      "text/plain": [
       "(5.11096372998538e-05, 5.9199654547904566e-06, 0, 0)"
      ]
     },
     "execution_count": 13,
     "metadata": {},
     "output_type": "execute_result"
    }
   ],
   "source": [
    "def get_bs_model(*args):\n",
    "    return abs(np.random.normal(1e-6, 5e-5)), abs(np.random.normal(1e-6, 5e-6)), 0, 0\n",
    "\n",
    "get_bs_model()"
   ]
  },
  {
   "cell_type": "code",
   "execution_count": 14,
   "id": "481773b3-36e5-4ebc-9e9b-1493e01dc719",
   "metadata": {
    "execution": {
     "iopub.execute_input": "2023-01-05T23:33:04.636071Z",
     "iopub.status.busy": "2023-01-05T23:33:04.635879Z",
     "iopub.status.idle": "2023-01-05T23:33:04.638612Z",
     "shell.execute_reply": "2023-01-05T23:33:04.638037Z"
    }
   },
   "outputs": [],
   "source": [
    "meas.use_model=True\n",
    "meas.online = False # meaningless when running with a model\n",
    "meas.get_bs_model = get_bs_model"
   ]
  },
  {
   "cell_type": "code",
   "execution_count": 15,
   "id": "e2e3fc3f-bdee-4326-bace-af2afc76a0ed",
   "metadata": {
    "execution": {
     "iopub.execute_input": "2023-01-05T23:33:04.641076Z",
     "iopub.status.busy": "2023-01-05T23:33:04.640888Z",
     "iopub.status.idle": "2023-01-05T23:33:04.646908Z",
     "shell.execute_reply": "2023-01-05T23:33:04.646361Z"
    }
   },
   "outputs": [
    {
     "name": "stderr",
     "output_type": "stream",
     "text": [
      "Emittance can't be computed. Returning error\n"
     ]
    }
   ],
   "source": [
    "res = meas.measure_emittance()"
   ]
  },
  {
   "cell_type": "code",
   "execution_count": 16,
   "id": "f898623f-bda1-4f07-be4c-871c0b56cee9",
   "metadata": {
    "execution": {
     "iopub.execute_input": "2023-01-05T23:33:04.649395Z",
     "iopub.status.busy": "2023-01-05T23:33:04.649200Z",
     "iopub.status.idle": "2023-01-05T23:33:04.654333Z",
     "shell.execute_reply": "2023-01-05T23:33:04.653778Z"
    }
   },
   "outputs": [
    {
     "data": {
      "text/plain": [
       "{'quadvalsx': array([1.875, 2.5  , 2.75 , 3.   , 3.25 ]),\n",
       " 'beamsizesx': array([7.16328656e-06, 5.84695394e-06, 6.69653248e-06, 1.83818557e-05,\n",
       "        3.80350264e-05]),\n",
       " 'beamsizeserrx': array([1.07449298e-07, 8.77043091e-08, 1.00447987e-07, 2.75727836e-07,\n",
       "        5.70525396e-07]),\n",
       " 'error_x': False,\n",
       " 'emit_x': 5.213544174346051e-11,\n",
       " 'norm_emit_x': 1.3773480776106663e-08,\n",
       " 'beta_x': 15.004091959219506,\n",
       " 'alpha_x': -1.0850794328023858,\n",
       " 'emit_x_err': 1.1745339865669909e-12,\n",
       " 'norm_emit_x_err': 3.1029604322655513e-10,\n",
       " 'beta_x_rel_err': 0.022528513182000918,\n",
       " 'alpha_x_rel_err': -1.3375985769361915e-22,\n",
       " 'sigma_11': 7.822449622534128e-10,\n",
       " 'sigma_12': 5.657109555589596e-11,\n",
       " 'sigma_22': 7.565907642448682e-12,\n",
       " 'screen_sigma_11': array([5.35217794e-11, 2.71176757e-11, 6.03812410e-11, 1.18463625e-10,\n",
       "        2.01216046e-10]),\n",
       " 'screen_sigma_12': array([-4.87122318e-11,  4.74072224e-11,  1.04640718e-10,  1.72511592e-10,\n",
       "         2.50955254e-10]),\n",
       " 'screen_sigma_22': array([9.51198909e-11, 1.83111159e-10, 2.26358118e-10, 2.74163090e-10,\n",
       "        3.26498037e-10]),\n",
       " 'quadvalsy': array([-8.6  , -7.3  , -6.65 , -6.   , -4.375]),\n",
       " 'beamsizesy': array([3.46092736e-06, 1.99180386e-07, 7.22541376e-06, 4.77963526e-06,\n",
       "        6.28339392e-07]),\n",
       " 'beamsizeserry': array([5.19139104e-08, 2.98770580e-09, 1.08381206e-07, 7.16945289e-08,\n",
       "        9.42509088e-09]),\n",
       " 'error_y': True}"
      ]
     },
     "execution_count": 16,
     "metadata": {},
     "output_type": "execute_result"
    }
   ],
   "source": [
    "res"
   ]
  }
 ],
 "metadata": {
  "kernelspec": {
   "display_name": "Python 3 (ipykernel)",
   "language": "python",
   "name": "python3"
  },
  "language_info": {
   "codemirror_mode": {
    "name": "ipython",
    "version": 3
   },
   "file_extension": ".py",
   "mimetype": "text/x-python",
   "name": "python",
   "nbconvert_exporter": "python",
   "pygments_lexer": "ipython3",
   "version": "3.9.15"
  },
  "vscode": {
   "interpreter": {
    "hash": "a91e20ba2d53a502f7925f39cf39925e3f47f4d0539594422b17676132d3b721"
   }
  }
 },
 "nbformat": 4,
 "nbformat_minor": 5
}
