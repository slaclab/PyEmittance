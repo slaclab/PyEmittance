{
 "cells": [
  {
   "cell_type": "markdown",
   "id": "843e466b",
   "metadata": {},
   "source": [
    "# PyEmittance Tutorial"
   ]
  },
  {
   "cell_type": "code",
   "execution_count": 1,
   "id": "340c0d38-a2ff-469c-8abe-d97b3fc7e3a0",
   "metadata": {
    "execution": {
     "iopub.execute_input": "2023-01-06T18:27:53.509090Z",
     "iopub.status.busy": "2023-01-06T18:27:53.508593Z",
     "iopub.status.idle": "2023-01-06T18:27:54.009778Z",
     "shell.execute_reply": "2023-01-06T18:27:54.009108Z"
    }
   },
   "outputs": [],
   "source": [
    "from pyemittance import PyEmittance\n",
    "import numpy as np"
   ]
  },
  {
   "cell_type": "code",
   "execution_count": 2,
   "id": "97b9eae3-b80c-46d5-8c6f-1df8923fb03c",
   "metadata": {
    "execution": {
     "iopub.execute_input": "2023-01-06T18:27:54.013847Z",
     "iopub.status.busy": "2023-01-06T18:27:54.013338Z",
     "iopub.status.idle": "2023-01-06T18:27:54.017950Z",
     "shell.execute_reply": "2023-01-06T18:27:54.017393Z"
    }
   },
   "outputs": [],
   "source": [
    "meas = PyEmittance()"
   ]
  },
  {
   "cell_type": "code",
   "execution_count": 3,
   "id": "f5389d1c-4e56-4484-84b0-a48ff3d0cff3",
   "metadata": {
    "execution": {
     "iopub.execute_input": "2023-01-06T18:27:54.021352Z",
     "iopub.status.busy": "2023-01-06T18:27:54.020857Z",
     "iopub.status.idle": "2023-01-06T18:27:54.029712Z",
     "shell.execute_reply": "2023-01-06T18:27:54.029173Z"
    }
   },
   "outputs": [
    {
     "data": {
      "text/plain": [
       "'LCLS_OTR2'"
      ]
     },
     "execution_count": 3,
     "metadata": {},
     "output_type": "execute_result"
    }
   ],
   "source": [
    "meas.config_name"
   ]
  },
  {
   "cell_type": "markdown",
   "id": "3af3b88e-992f-4379-91e0-8c1c0c7ca933",
   "metadata": {},
   "source": [
    "## Three options for setting configurations for measurements:\n",
    "1. Make directory under `configs/` with Machine_Device_Name with all needed jsons (see `configs/LCLS2_OTR3`), and pass dir name to `meas.config_name`\n",
    "2. Change params and configs through class attributes\n",
    "3. pass the dictionary to pyemittance (same keys and subkeys as `meas.config_dict` below)"
   ]
  },
  {
   "cell_type": "code",
   "execution_count": 4,
   "id": "156777c4-1f4d-4285-b8c5-99988c802d1f",
   "metadata": {
    "execution": {
     "iopub.execute_input": "2023-01-06T18:27:54.032867Z",
     "iopub.status.busy": "2023-01-06T18:27:54.032368Z",
     "iopub.status.idle": "2023-01-06T18:27:54.036501Z",
     "shell.execute_reply": "2023-01-06T18:27:54.035928Z"
    }
   },
   "outputs": [],
   "source": [
    "meas.num_points = 5"
   ]
  },
  {
   "cell_type": "code",
   "execution_count": 5,
   "id": "13efc521-380c-47c4-b5b5-55929df9f418",
   "metadata": {
    "execution": {
     "iopub.execute_input": "2023-01-06T18:27:54.039231Z",
     "iopub.status.busy": "2023-01-06T18:27:54.038900Z",
     "iopub.status.idle": "2023-01-06T18:27:54.042790Z",
     "shell.execute_reply": "2023-01-06T18:27:54.042205Z"
    }
   },
   "outputs": [
    {
     "data": {
      "text/plain": [
       "dict_keys(['beamline_info', 'img_proc', 'meas_pv_info', 'opt_pv_info', 'save_scalar_pvs', 'savepaths'])"
      ]
     },
     "execution_count": 5,
     "metadata": {},
     "output_type": "execute_result"
    }
   ],
   "source": [
    "# see all configs with command below\n",
    "meas.config_dict.keys()"
   ]
  },
  {
   "cell_type": "code",
   "execution_count": 6,
   "id": "61291621-7374-488d-870c-0c50e56d3c65",
   "metadata": {
    "execution": {
     "iopub.execute_input": "2023-01-06T18:27:54.046209Z",
     "iopub.status.busy": "2023-01-06T18:27:54.045886Z",
     "iopub.status.idle": "2023-01-06T18:27:54.050285Z",
     "shell.execute_reply": "2023-01-06T18:27:54.049685Z"
    }
   },
   "outputs": [
    {
     "data": {
      "text/plain": [
       "{'subtract_bg': False,\n",
       " 'use_roi': False,\n",
       " 'avg_ims': True,\n",
       " 'n_to_acquire': 5,\n",
       " 'background_im': None,\n",
       " 'amp_threshold': 1500,\n",
       " 'min_sigma': 1.0,\n",
       " 'max_sigma': 60,\n",
       " 'max_samples': 3,\n",
       " 'roi': {'xmin': 0, 'xmax': 100, 'ymin': 0, 'ymax': 100}}"
      ]
     },
     "execution_count": 6,
     "metadata": {},
     "output_type": "execute_result"
    }
   ],
   "source": [
    "meas.config_dict['img_proc']"
   ]
  },
  {
   "cell_type": "code",
   "execution_count": 7,
   "id": "f91e220b-2a96-4777-93a9-03c825ca5c95",
   "metadata": {
    "execution": {
     "iopub.execute_input": "2023-01-06T18:27:54.053684Z",
     "iopub.status.busy": "2023-01-06T18:27:54.053359Z",
     "iopub.status.idle": "2023-01-06T18:27:54.057187Z",
     "shell.execute_reply": "2023-01-06T18:27:54.056615Z"
    }
   },
   "outputs": [
    {
     "data": {
      "text/plain": [
       "[-6, -4, -2, 0]"
      ]
     },
     "execution_count": 7,
     "metadata": {},
     "output_type": "execute_result"
    }
   ],
   "source": [
    "meas.quad_init"
   ]
  },
  {
   "cell_type": "markdown",
   "id": "17abe0de-3282-412c-a1d7-b3c476596721",
   "metadata": {},
   "source": [
    "## Example running offline with random beam size numbers"
   ]
  },
  {
   "cell_type": "code",
   "execution_count": 8,
   "id": "3346bb1e-d4e9-456b-848d-a49dabe3837b",
   "metadata": {
    "execution": {
     "iopub.execute_input": "2023-01-06T18:27:54.060735Z",
     "iopub.status.busy": "2023-01-06T18:27:54.060413Z",
     "iopub.status.idle": "2023-01-06T18:27:54.112438Z",
     "shell.execute_reply": "2023-01-06T18:27:54.111543Z"
    }
   },
   "outputs": [],
   "source": [
    "import matplotlib.pyplot as plt\n",
    "res = meas.measure_emittance()"
   ]
  },
  {
   "cell_type": "code",
   "execution_count": 9,
   "id": "17907721-184c-4490-b466-5e53b0d764ce",
   "metadata": {
    "execution": {
     "iopub.execute_input": "2023-01-06T18:27:54.116459Z",
     "iopub.status.busy": "2023-01-06T18:27:54.116084Z",
     "iopub.status.idle": "2023-01-06T18:27:54.121372Z",
     "shell.execute_reply": "2023-01-06T18:27:54.120927Z"
    }
   },
   "outputs": [
    {
     "data": {
      "text/plain": [
       "{'name': 'LCLS',\n",
       " 'Lquad': 0.108,\n",
       " 'energy': 135000000.0,\n",
       " 'Twiss0': [1e-06,\n",
       "  1e-06,\n",
       "  1.113081026,\n",
       "  1.113021659,\n",
       "  -0.0689403587,\n",
       "  -0.07029489754],\n",
       " 'rMatx': [1, 2.26, 0, 1],\n",
       " 'rMaty': [1, 2.26, 0, 1]}"
      ]
     },
     "execution_count": 9,
     "metadata": {},
     "output_type": "execute_result"
    }
   ],
   "source": [
    "meas.config_dict['beamline_info']"
   ]
  },
  {
   "cell_type": "markdown",
   "id": "34c987d4-b401-4ddb-bcf2-57e96c0b5466",
   "metadata": {},
   "source": [
    "The output is a large dict:"
   ]
  },
  {
   "cell_type": "code",
   "execution_count": 10,
   "id": "789a0a4e-3cf6-4df1-a0a2-7697558b2aec",
   "metadata": {
    "execution": {
     "iopub.execute_input": "2023-01-06T18:27:54.124016Z",
     "iopub.status.busy": "2023-01-06T18:27:54.123680Z",
     "iopub.status.idle": "2023-01-06T18:27:54.129661Z",
     "shell.execute_reply": "2023-01-06T18:27:54.129212Z"
    }
   },
   "outputs": [
    {
     "data": {
      "text/plain": [
       "{'quadvalsx': array([-4.39950786, -3.17463089, -1.94975393, -0.72487696,  0.5       ]),\n",
       " 'beamsizesx': array([3.96145492e-04, 1.50609131e-04, 1.20979665e-04, 9.33417809e-05,\n",
       "        5.89692321e-05]),\n",
       " 'beamsizeserrx': array([5.94218238e-06, 2.25913697e-06, 1.81469497e-06, 1.40012671e-06,\n",
       "        8.84538482e-07]),\n",
       " 'error_x': False,\n",
       " 'emit_x': 1.5028187983623617e-09,\n",
       " 'norm_emit_x': 3.9702446429950967e-07,\n",
       " 'beta_x': 2.9850136008588883,\n",
       " 'alpha_x': 0.42055409627493934,\n",
       " 'emit_x_err': 1.7228294821915547e-10,\n",
       " 'norm_emit_x_err': 4.551483206038359e-08,\n",
       " 'beta_x_rel_err': 0.11463986769855031,\n",
       " 'alpha_x_rel_err': 1.2259586879109864e-18,\n",
       " 'sigma_11': 4.485934552738061e-09,\n",
       " 'sigma_12': -6.320166016102733e-10,\n",
       " 'sigma_22': 5.924984625110045e-10,\n",
       " 'screen_sigma_11': array([4.21459055e-08, 2.68885693e-08, 1.54404908e-08, 7.69609545e-09,\n",
       "        3.55142507e-09]),\n",
       " 'screen_sigma_12': array([1.25123064e-08, 7.15595359e-09, 3.43467347e-09, 1.30261901e-09,\n",
       "        7.14648716e-10]),\n",
       " 'screen_sigma_22': array([3.76824925e-09, 1.98843365e-09, 9.10297890e-10, 5.13933415e-10,\n",
       "        7.79739702e-10]),\n",
       " 'quadvalsy': array([-3.96781128, -2.52114516, -1.07447905,  0.37218707,  1.81885318,\n",
       "         2.97618607,  4.51929659,  6.06240711,  7.60551763]),\n",
       " 'beamsizesy': array([0.00029403, 0.00055556, 0.00047224, 0.00032695, 0.00015418,\n",
       "        0.00040521, 0.00052936, 0.00019248, 0.00053281]),\n",
       " 'beamsizeserry': array([4.41044797e-06, 8.33344804e-06, 7.08367226e-06, 4.90425243e-06,\n",
       "        2.31273435e-06, 6.07811718e-06, 7.94039166e-06, 2.88717073e-06,\n",
       "        7.99221084e-06]),\n",
       " 'error_y': False,\n",
       " 'emit_y': 5.823925984172062e-09,\n",
       " 'norm_emit_y': 1.5386027221016813e-06,\n",
       " 'beta_y': 1.2330953760326324,\n",
       " 'alpha_y': 1.3639872243744846,\n",
       " 'emit_y_err': 8.798034063174209e-11,\n",
       " 'norm_emit_y_err': 2.32432197722505e-08,\n",
       " 'beta_y_rel_err': 0.015106706519081801,\n",
       " 'alpha_y_rel_err': 1.4136402485843954e-18,\n",
       " 'sigma_33': 7.181456201438868e-09,\n",
       " 'sigma_34': -7.94376063811329e-09,\n",
       " 'sigma_44': 1.350999633268159e-08,\n",
       " 'screen_sigma_33': array([1.12419781e-07, 8.22999199e-08, 5.86086978e-08, 4.15880725e-08,\n",
       "        3.14846210e-08, 2.85509096e-08, 3.20021162e-08, 4.41575638e-08,\n",
       "        6.53390529e-08]),\n",
       " 'screen_sigma_34': array([5.85478775e-08, 4.35491156e-08, 3.13017062e-08, 2.19106621e-08,\n",
       "        1.54830122e-08, 1.25477625e-08, 1.17911325e-08, 1.47682793e-08,\n",
       "        2.16189385e-08]),\n",
       " 'screen_sigma_44': array([3.07932645e-08, 2.34562024e-08, 1.72963223e-08, 1.23591981e-08,\n",
       "        8.69128395e-09, 6.70256956e-09, 5.40429636e-09, 5.70729376e-09,\n",
       "        7.67223574e-09]),\n",
       " 'sqrt_norm_emit_4d': 7.815772012489792e-07,\n",
       " 'sqrt_norm_emit_4d_err': 9.037449822520308e-08}"
      ]
     },
     "execution_count": 10,
     "metadata": {},
     "output_type": "execute_result"
    }
   ],
   "source": [
    "res"
   ]
  },
  {
   "cell_type": "markdown",
   "id": "f6e66c9e-8773-4b6c-b393-335a7b45e18e",
   "metadata": {},
   "source": [
    "## Example running online (do not run on machine!)"
   ]
  },
  {
   "cell_type": "code",
   "execution_count": 11,
   "id": "0bd09ce9-da64-4e6e-83b3-61a69a565b4b",
   "metadata": {
    "execution": {
     "iopub.execute_input": "2023-01-06T18:27:54.132575Z",
     "iopub.status.busy": "2023-01-06T18:27:54.132033Z",
     "iopub.status.idle": "2023-01-06T18:27:54.134853Z",
     "shell.execute_reply": "2023-01-06T18:27:54.134406Z"
    }
   },
   "outputs": [],
   "source": [
    "meas.online = True"
   ]
  },
  {
   "cell_type": "code",
   "execution_count": 12,
   "id": "1f892d9a-e1c8-4564-abba-6939a8a434e7",
   "metadata": {
    "execution": {
     "iopub.execute_input": "2023-01-06T18:27:54.137643Z",
     "iopub.status.busy": "2023-01-06T18:27:54.137123Z",
     "iopub.status.idle": "2023-01-06T18:28:01.243772Z",
     "shell.execute_reply": "2023-01-06T18:28:01.243146Z"
    }
   },
   "outputs": [
    {
     "name": "stdout",
     "output_type": "stream",
     "text": [
      "cannot connect to OTRS:IN20:541:RESOLUTION\n"
     ]
    }
   ],
   "source": [
    "try:\n",
    "    res = meas.measure_emittance()\n",
    "except:\n",
    "    pass # epics can't connect on my local pc"
   ]
  },
  {
   "cell_type": "markdown",
   "id": "c6b71629-2020-446c-86b6-26b749412fcd",
   "metadata": {},
   "source": [
    "## Example running with some random beamsize model \n",
    "### (can be any simulation, just need to pass pyemittance the beamsize fn)"
   ]
  },
  {
   "cell_type": "code",
   "execution_count": 13,
   "id": "d768660f-b07e-4087-acc0-d4e47e996169",
   "metadata": {
    "execution": {
     "iopub.execute_input": "2023-01-06T18:28:01.247131Z",
     "iopub.status.busy": "2023-01-06T18:28:01.246616Z",
     "iopub.status.idle": "2023-01-06T18:28:01.252901Z",
     "shell.execute_reply": "2023-01-06T18:28:01.252284Z"
    }
   },
   "outputs": [
    {
     "data": {
      "text/plain": [
       "(1.9003052704002794e-05, 2.135658416231104e-07, 0, 0)"
      ]
     },
     "execution_count": 13,
     "metadata": {},
     "output_type": "execute_result"
    }
   ],
   "source": [
    "def get_bs_model(*args):\n",
    "    return abs(np.random.normal(1e-6, 5e-5)), abs(np.random.normal(1e-6, 5e-6)), 0, 0\n",
    "\n",
    "get_bs_model()"
   ]
  },
  {
   "cell_type": "code",
   "execution_count": 14,
   "id": "481773b3-36e5-4ebc-9e9b-1493e01dc719",
   "metadata": {
    "execution": {
     "iopub.execute_input": "2023-01-06T18:28:01.255915Z",
     "iopub.status.busy": "2023-01-06T18:28:01.255501Z",
     "iopub.status.idle": "2023-01-06T18:28:01.258660Z",
     "shell.execute_reply": "2023-01-06T18:28:01.258019Z"
    }
   },
   "outputs": [],
   "source": [
    "meas.use_model=True\n",
    "meas.online = False # meaningless when running with a model\n",
    "meas.get_bs_model = get_bs_model"
   ]
  },
  {
   "cell_type": "code",
   "execution_count": 15,
   "id": "e2e3fc3f-bdee-4326-bace-af2afc76a0ed",
   "metadata": {
    "execution": {
     "iopub.execute_input": "2023-01-06T18:28:01.261481Z",
     "iopub.status.busy": "2023-01-06T18:28:01.261276Z",
     "iopub.status.idle": "2023-01-06T18:28:01.268827Z",
     "shell.execute_reply": "2023-01-06T18:28:01.268229Z"
    }
   },
   "outputs": [
    {
     "name": "stderr",
     "output_type": "stream",
     "text": [
      "/usr/share/miniconda/envs/pyemittance-dev/lib/python3.9/site-packages/scipy/optimize/_minpack_py.py:906: OptimizeWarning: Covariance of the parameters could not be estimated\n",
      "  warnings.warn('Covariance of the parameters could not be estimated',\n",
      "Emittance can't be computed. Returning error\n",
      "Emittance can't be computed. Returning error\n"
     ]
    }
   ],
   "source": [
    "res = meas.measure_emittance()"
   ]
  },
  {
   "cell_type": "code",
   "execution_count": 16,
   "id": "f898623f-bda1-4f07-be4c-871c0b56cee9",
   "metadata": {
    "execution": {
     "iopub.execute_input": "2023-01-06T18:28:01.272098Z",
     "iopub.status.busy": "2023-01-06T18:28:01.271675Z",
     "iopub.status.idle": "2023-01-06T18:28:01.276758Z",
     "shell.execute_reply": "2023-01-06T18:28:01.276164Z"
    }
   },
   "outputs": [
    {
     "data": {
      "text/plain": [
       "{'quadvalsx': array([-6.30879403, -6.00464711, -5.70050019, -5.39635326, -5.09220634]),\n",
       " 'beamsizesx': array([6.31172480e-06, 9.39874401e-05, 6.73514085e-05, 7.12199494e-05,\n",
       "        3.16269364e-05]),\n",
       " 'beamsizeserrx': array([9.46758719e-08, 1.40981160e-06, 1.01027113e-06, 1.06829924e-06,\n",
       "        4.74404045e-07]),\n",
       " 'error_x': True,\n",
       " 'quadvalsy': array([-6.        , -6.625     , -7.25      , -7.875     , -8.5       ,\n",
       "        -8.        , -7.33333333, -6.66666667, -6.        ]),\n",
       " 'beamsizesy': array([6.53439309e-07, 8.46725497e-07, 4.23497159e-06, 2.47004014e-06,\n",
       "        1.08984286e-07, 1.10916908e-05, 2.02871257e-06, 8.46725497e-07,\n",
       "        6.53439309e-07]),\n",
       " 'beamsizeserry': array([9.80158964e-09, 1.27008825e-08, 6.35245738e-08, 3.70506021e-08,\n",
       "        1.63476429e-09, 1.66375363e-07, 3.04306885e-08, 1.27008825e-08,\n",
       "        9.80158964e-09]),\n",
       " 'error_y': True}"
      ]
     },
     "execution_count": 16,
     "metadata": {},
     "output_type": "execute_result"
    }
   ],
   "source": [
    "res"
   ]
  }
 ],
 "metadata": {
  "kernelspec": {
   "display_name": "Python 3 (ipykernel)",
   "language": "python",
   "name": "python3"
  },
  "language_info": {
   "codemirror_mode": {
    "name": "ipython",
    "version": 3
   },
   "file_extension": ".py",
   "mimetype": "text/x-python",
   "name": "python",
   "nbconvert_exporter": "python",
   "pygments_lexer": "ipython3",
   "version": "3.9.15"
  },
  "vscode": {
   "interpreter": {
    "hash": "a91e20ba2d53a502f7925f39cf39925e3f47f4d0539594422b17676132d3b721"
   }
  }
 },
 "nbformat": 4,
 "nbformat_minor": 5
}
