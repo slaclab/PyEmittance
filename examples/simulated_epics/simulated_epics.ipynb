{
 "cells": [
  {
   "cell_type": "markdown",
   "id": "fe4da335-fbfe-4fb4-a2db-17e34459e350",
   "metadata": {},
   "source": [
    "# Beam Simulator and EPICS server\n",
    "\n",
    "Run this cell to start the server. "
   ]
  },
  {
   "cell_type": "code",
   "execution_count": null,
   "id": "6e55ce08-226c-4348-88b9-8fad95ec98e1",
   "metadata": {},
   "outputs": [],
   "source": [
    "from pyemittance.simulation_server import start_server\n",
    "\n",
    "import logging\n",
    "import sys\n",
    "logging.basicConfig(format='%(asctime)s | %(levelname)s : %(message)s',\n",
    "                     level=logging.INFO, stream=sys.stdout)\n",
    "\n",
    "start_server()"
   ]
  }
 ],
 "metadata": {
  "kernelspec": {
   "display_name": "Python 3 (ipykernel)",
   "language": "python",
   "name": "python3"
  },
  "language_info": {
   "codemirror_mode": {
    "name": "ipython",
    "version": 3
   },
   "file_extension": ".py",
   "mimetype": "text/x-python",
   "name": "python",
   "nbconvert_exporter": "python",
   "pygments_lexer": "ipython3",
   "version": "3.9.15"
  }
 },
 "nbformat": 4,
 "nbformat_minor": 5
}
