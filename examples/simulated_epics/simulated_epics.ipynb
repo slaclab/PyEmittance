{
 "cells": [
  {
   "cell_type": "markdown",
   "id": "fe4da335-fbfe-4fb4-a2db-17e34459e350",
   "metadata": {},
   "source": [
    "# Beam Simulator and EPICS server\n",
    "\n",
    "Run this cell to start the server. \n",
    "\n",
    "Then try on the command line:\n",
    "```\n",
    "caput QUAD:HTR:120:BCTRL 1.234\n",
    "caget QUAD:HTR:120:BACT\n",
    "```\n"
   ]
  },
  {
   "cell_type": "code",
   "execution_count": null,
   "id": "6e55ce08-226c-4348-88b9-8fad95ec98e1",
   "metadata": {},
   "outputs": [
    {
     "name": "stdout",
     "output_type": "stream",
     "text": [
      "2022-12-18 13:35:30,729 | INFO : Checking that another server is not serving QUAD:HTR:120:BCTRL\n",
      "cannot connect to QUAD:HTR:120:BCTRL\n",
      "2022-12-18 13:35:35,762 | INFO : Initialized config: LCLS2_OTR0H04\n",
      "2022-12-18 13:35:35,769 | INFO : Serving: ['QUAD:HTR:120:BCTRL', 'QUAD:HTR:120:BACT', 'OTRS:HTR:330:Image:ArrayData', 'OTRS:HTR:330:Image:ArraySize1_RBV', 'OTRS:HTR:330:Image:ArraySize0_RBV', 'OTRS:HTR:330:RESOLUTION', 'sim_screen_sigma_x', 'sim_screen_sigma_y']\n"
     ]
    },
    {
     "name": "stderr",
     "output_type": "stream",
     "text": [
      "cas warning: Configured TCP port was unavailable.\n",
      "cas warning: Using dynamically assigned TCP port 49561,\n",
      "cas warning: but now two or more servers share the same UDP port.\n",
      "cas warning: Depending on your IP kernel this server may not be\n",
      "cas warning: reachable with UDP unicast (a host's IP in EPICS_CA_ADDR_LIST)\n"
     ]
    },
    {
     "name": "stdout",
     "output_type": "stream",
     "text": [
      "2022-12-18 13:35:50,220 | INFO : Setting QUAD:HTR:120:BCTRL =  -6.0\n",
      "2022-12-18 13:45:03,748 | INFO : Setting QUAD:HTR:120:BCTRL =  -6.0\n",
      "2022-12-18 13:45:04,122 | INFO : Setting QUAD:HTR:120:BCTRL =  -4.0\n",
      "2022-12-18 13:45:04,402 | INFO : Setting QUAD:HTR:120:BCTRL =  -2.0\n",
      "2022-12-18 13:45:04,682 | INFO : Setting QUAD:HTR:120:BCTRL =  0.0\n",
      "2022-12-18 13:45:04,958 | INFO : Setting QUAD:HTR:120:BCTRL =  -0.7474116230308091\n",
      "2022-12-18 13:45:05,260 | INFO : Setting QUAD:HTR:120:BCTRL =  -0.20617635252567423\n",
      "2022-12-18 13:45:05,534 | INFO : Setting QUAD:HTR:120:BCTRL =  0.33505891797946064\n",
      "2022-12-18 13:45:05,815 | INFO : Setting QUAD:HTR:120:BCTRL =  0.8762941884845955\n",
      "2022-12-18 13:45:06,089 | INFO : Setting QUAD:HTR:120:BCTRL =  1.4175294589897303\n",
      "2022-12-18 13:45:06,357 | INFO : Setting QUAD:HTR:120:BCTRL =  1.9587647294948654\n",
      "2022-12-18 13:45:06,667 | INFO : Setting QUAD:HTR:120:BCTRL =  2.5\n",
      "2022-12-18 13:45:06,937 | INFO : Setting QUAD:HTR:120:BCTRL =  -1.7330866930797668\n",
      "2022-12-18 13:45:07,211 | INFO : Setting QUAD:HTR:120:BCTRL =  -1.027572244233139\n",
      "2022-12-18 13:45:07,489 | INFO : Setting QUAD:HTR:120:BCTRL =  -0.32205779538651114\n",
      "2022-12-18 13:45:07,764 | INFO : Setting QUAD:HTR:120:BCTRL =  1.0889711023067445\n",
      "2022-12-18 13:45:08,077 | INFO : Setting QUAD:HTR:120:BCTRL =  1.7944855511533724\n",
      "2022-12-18 13:45:28,025 | INFO : Setting QUAD:HTR:120:BCTRL =  -6.0\n",
      "2022-12-18 13:45:28,414 | INFO : Setting QUAD:HTR:120:BCTRL =  -4.0\n",
      "2022-12-18 13:45:28,689 | INFO : Setting QUAD:HTR:120:BCTRL =  -2.0\n",
      "2022-12-18 13:45:28,967 | INFO : Setting QUAD:HTR:120:BCTRL =  0.0\n",
      "2022-12-18 13:45:29,245 | INFO : Setting QUAD:HTR:120:BCTRL =  -1.5833333333333333\n",
      "2022-12-18 13:45:29,546 | INFO : Setting QUAD:HTR:120:BCTRL =  -1.1666666666666665\n",
      "2022-12-18 13:45:29,825 | INFO : Setting QUAD:HTR:120:BCTRL =  -0.75\n",
      "2022-12-18 13:45:30,096 | INFO : Setting QUAD:HTR:120:BCTRL =  -0.33333333333333326\n",
      "2022-12-18 13:45:30,375 | INFO : Setting QUAD:HTR:120:BCTRL =  0.08333333333333348\n",
      "2022-12-18 13:45:30,655 | INFO : Setting QUAD:HTR:120:BCTRL =  0.5\n",
      "2022-12-18 13:45:30,967 | INFO : Setting QUAD:HTR:120:BCTRL =  -6.5\n",
      "2022-12-18 13:45:31,248 | INFO : Setting QUAD:HTR:120:BCTRL =  -5.416666666666667\n",
      "2022-12-18 13:45:31,527 | INFO : Setting QUAD:HTR:120:BCTRL =  -4.333333333333334\n",
      "2022-12-18 13:45:31,802 | INFO : Setting QUAD:HTR:120:BCTRL =  -3.25\n",
      "2022-12-18 13:45:32,083 | INFO : Setting QUAD:HTR:120:BCTRL =  -2.166666666666667\n",
      "2022-12-18 13:45:32,403 | INFO : Setting QUAD:HTR:120:BCTRL =  -1.083333333333334\n"
     ]
    }
   ],
   "source": [
    "from pyemittance.simulation_server import start_server\n",
    "from pyemittance import print_logging\n",
    "import logging\n",
    "print_logging(level=10)\n",
    "\n",
    "start_server()"
   ]
  },
  {
   "cell_type": "code",
   "execution_count": null,
   "id": "d289f15b-c427-4deb-85e8-53be22ed1da3",
   "metadata": {},
   "outputs": [],
   "source": []
  }
 ],
 "metadata": {
  "kernelspec": {
   "display_name": "Python 3 (ipykernel)",
   "language": "python",
   "name": "python3"
  },
  "language_info": {
   "codemirror_mode": {
    "name": "ipython",
    "version": 3
   },
   "file_extension": ".py",
   "mimetype": "text/x-python",
   "name": "python",
   "nbconvert_exporter": "python",
   "pygments_lexer": "ipython3",
   "version": "3.9.15"
  }
 },
 "nbformat": 4,
 "nbformat_minor": 5
}
