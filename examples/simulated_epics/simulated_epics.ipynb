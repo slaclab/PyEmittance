{
 "cells": [
  {
   "cell_type": "markdown",
   "id": "fe4da335-fbfe-4fb4-a2db-17e34459e350",
   "metadata": {},
   "source": [
    "# Beam Simulator and EPICS server\n",
    "\n",
    "Run this cell to start the server. \n",
    "\n",
    "Then try on the command line:\n",
    "```\n",
    "caput QUAD:HTR:120:BCTRL 1.234\n",
    "caget QUAD:HTR:120:BACT\n",
    "```\n"
   ]
  },
  {
   "cell_type": "code",
   "execution_count": 1,
   "id": "6e55ce08-226c-4348-88b9-8fad95ec98e1",
   "metadata": {},
   "outputs": [
    {
     "name": "stdout",
     "output_type": "stream",
     "text": [
      "2023-08-27 17:45:06,276 | INFO : Initialized config: LCLS2_OTR0H04\n",
      "2023-08-27 17:45:06,278 | INFO : Serving: ['QUAD:HTR:120:BCTRL', 'QUAD:HTR:120:BACT', 'OTRS:HTR:330:Image:ArrayData', 'OTRS:HTR:330:Image:ArraySize1_RBV', 'OTRS:HTR:330:Image:ArraySize0_RBV', 'OTRS:HTR:330:RESOLUTION', 'sim_screen_sigma_x', 'sim_screen_sigma_y']\n",
      "2023-08-27 17:45:16,412 | INFO : Setting QUAD:HTR:120:BCTRL =  -6.0\n",
      "2023-08-27 17:45:16,810 | INFO : Setting QUAD:HTR:120:BCTRL =  -4.0\n",
      "2023-08-27 17:45:17,111 | INFO : Setting QUAD:HTR:120:BCTRL =  -2.0\n",
      "2023-08-27 17:45:17,406 | INFO : Setting QUAD:HTR:120:BCTRL =  0.0\n",
      "2023-08-27 17:45:17,702 | INFO : Setting QUAD:HTR:120:BCTRL =  -0.7424975910795275\n",
      "2023-08-27 17:45:17,996 | INFO : Setting QUAD:HTR:120:BCTRL =  -0.20208132589960626\n",
      "2023-08-27 17:45:18,323 | INFO : Setting QUAD:HTR:120:BCTRL =  0.338334939280315\n",
      "2023-08-27 17:45:18,615 | INFO : Setting QUAD:HTR:120:BCTRL =  0.8787512044602364\n",
      "2023-08-27 17:45:18,905 | INFO : Setting QUAD:HTR:120:BCTRL =  1.4191674696401575\n",
      "2023-08-27 17:45:19,193 | INFO : Setting QUAD:HTR:120:BCTRL =  1.9595837348200786\n",
      "2023-08-27 17:45:19,481 | INFO : Setting QUAD:HTR:120:BCTRL =  2.5\n",
      "2023-08-27 17:45:19,809 | INFO : Setting QUAD:HTR:120:BCTRL =  -1.823162654966067\n",
      "2023-08-27 17:45:20,105 | INFO : Setting QUAD:HTR:120:BCTRL =  -1.102635545805056\n",
      "2023-08-27 17:45:20,397 | INFO : Setting QUAD:HTR:120:BCTRL =  -0.3821084366440448\n",
      "2023-08-27 17:45:20,687 | INFO : Setting QUAD:HTR:120:BCTRL =  1.0589457816779775\n",
      "2023-08-27 17:45:20,974 | INFO : Setting QUAD:HTR:120:BCTRL =  1.7794728908389885\n",
      "2023-08-27 17:45:21,315 | INFO : Setting QUAD:HTR:120:BCTRL =  2.9632139415827896\n",
      "2023-08-27 17:45:21,607 | INFO : Setting QUAD:HTR:120:BCTRL =  3.5808325303598427\n",
      "2023-08-27 17:45:21,896 | INFO : Setting QUAD:HTR:120:BCTRL =  4.198451119136895\n",
      "2023-08-27 17:45:22,187 | INFO : Setting QUAD:HTR:120:BCTRL =  4.8160697079139485\n",
      "2023-08-27 17:45:22,480 | INFO : Setting QUAD:HTR:120:BCTRL =  3.1175946649951527\n",
      "2023-08-27 17:45:22,775 | INFO : Setting QUAD:HTR:120:BCTRL =  3.8587082629893357\n",
      "2023-08-27 17:45:23,123 | INFO : Setting QUAD:HTR:120:BCTRL =  4.599821860983519\n",
      "2023-08-27 17:45:23,420 | INFO : Setting QUAD:HTR:120:BCTRL =  5.340935458977701\n",
      "2023-08-27 17:45:23,710 | INFO : Setting QUAD:HTR:120:BCTRL =  6.082049056971885\n",
      "2023-08-27 17:45:24,000 | INFO : Setting QUAD:HTR:120:BCTRL =  6.823162654966067\n",
      "2023-08-27 17:45:24,803 | INFO : Setting QUAD:HTR:120:BCTRL =  0.0\n"
     ]
    },
    {
     "name": "stderr",
     "output_type": "stream",
     "text": [
      "\n",
      "KeyboardInterrupt\n",
      "\n"
     ]
    }
   ],
   "source": [
    "from pyemittance.simulation_server import start_server\n",
    "from pyemittance import print_logging\n",
    "import logging\n",
    "print_logging(level=10)\n",
    "\n",
    "start_server(config_name='LCLS2_OTR0H04')"
   ]
  }
 ],
 "metadata": {
  "kernelspec": {
   "display_name": "Python 3 (ipykernel)",
   "language": "python",
   "name": "python3"
  },
  "language_info": {
   "codemirror_mode": {
    "name": "ipython",
    "version": 3
   },
   "file_extension": ".py",
   "mimetype": "text/x-python",
   "name": "python",
   "nbconvert_exporter": "python",
   "pygments_lexer": "ipython3",
   "version": "3.9.16"
  }
 },
 "nbformat": 4,
 "nbformat_minor": 5
}
