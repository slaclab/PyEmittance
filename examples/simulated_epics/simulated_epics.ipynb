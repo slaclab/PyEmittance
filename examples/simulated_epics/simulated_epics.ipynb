{
 "cells": [
  {
   "cell_type": "markdown",
   "id": "fe4da335-fbfe-4fb4-a2db-17e34459e350",
   "metadata": {},
   "source": [
    "# Beam Simulator and EPICS server\n",
    "\n",
    "Run this cell to start the server. \n",
    "\n",
    "Then try on the command line:\n",
    "```\n",
    "caput QUAD:HTR:120:BCTRL 1.234\n",
    "caget QUAD:HTR:120:BACT\n",
    "```\n"
   ]
  },
  {
   "cell_type": "code",
   "execution_count": null,
   "id": "6e55ce08-226c-4348-88b9-8fad95ec98e1",
   "metadata": {},
   "outputs": [
    {
     "name": "stdout",
     "output_type": "stream",
     "text": [
      "2023-08-28 15:58:04,993 | INFO : Initialized config: LCLS2_OTR0H04\n",
      "2023-08-28 15:58:04,995 | INFO : Serving: ['QUAD:HTR:120:BCTRL', 'QUAD:HTR:120:BACT', 'OTRS:HTR:330:Image:ArrayData', 'OTRS:HTR:330:Image:ArraySize1_RBV', 'OTRS:HTR:330:Image:ArraySize0_RBV', 'OTRS:HTR:330:RESOLUTION', 'sim_screen_sigma_x', 'sim_screen_sigma_y']\n",
      "2023-08-28 15:58:14,563 | INFO : Setting QUAD:HTR:120:BCTRL =  -6.0\n",
      "2023-08-28 15:58:14,972 | INFO : Setting QUAD:HTR:120:BCTRL =  -4.0\n",
      "2023-08-28 15:58:15,281 | INFO : Setting QUAD:HTR:120:BCTRL =  -2.0\n",
      "2023-08-28 15:58:15,580 | INFO : Setting QUAD:HTR:120:BCTRL =  0.0\n",
      "2023-08-28 15:58:15,881 | INFO : Setting QUAD:HTR:120:BCTRL =  -0.7091934770995062\n",
      "2023-08-28 15:58:16,183 | INFO : Setting QUAD:HTR:120:BCTRL =  -0.1743278975829219\n",
      "2023-08-28 15:58:16,513 | INFO : Setting QUAD:HTR:120:BCTRL =  0.3605376819336624\n",
      "2023-08-28 15:58:16,820 | INFO : Setting QUAD:HTR:120:BCTRL =  0.8954032614502466\n",
      "2023-08-28 15:58:17,113 | INFO : Setting QUAD:HTR:120:BCTRL =  1.4302688409668312\n",
      "2023-08-28 15:58:17,417 | INFO : Setting QUAD:HTR:120:BCTRL =  1.9651344204834156\n",
      "2023-08-28 15:58:17,717 | INFO : Setting QUAD:HTR:120:BCTRL =  2.5\n",
      "2023-08-28 15:58:18,049 | INFO : Setting QUAD:HTR:120:BCTRL =  -1.8354391121594031\n",
      "2023-08-28 15:58:18,349 | INFO : Setting QUAD:HTR:120:BCTRL =  -1.1128659267995027\n",
      "2023-08-28 15:58:18,648 | INFO : Setting QUAD:HTR:120:BCTRL =  -0.39029274143960224\n",
      "2023-08-28 15:58:18,945 | INFO : Setting QUAD:HTR:120:BCTRL =  1.0548536292801987\n",
      "2023-08-28 15:58:19,235 | INFO : Setting QUAD:HTR:120:BCTRL =  1.777426814640099\n",
      "2023-08-28 15:58:19,576 | INFO : Setting QUAD:HTR:120:BCTRL =  2.958456211014215\n",
      "2023-08-28 15:58:19,878 | INFO : Setting QUAD:HTR:120:BCTRL =  3.5697311590331684\n",
      "2023-08-28 15:58:20,172 | INFO : Setting QUAD:HTR:120:BCTRL =  4.181006107052122\n",
      "2023-08-28 15:58:20,471 | INFO : Setting QUAD:HTR:120:BCTRL =  4.792281055071076\n",
      "2023-08-28 15:58:20,771 | INFO : Setting QUAD:HTR:120:BCTRL =  3.1193484445942\n",
      "2023-08-28 15:58:21,078 | INFO : Setting QUAD:HTR:120:BCTRL =  3.9451463707198005\n",
      "2023-08-28 15:58:21,424 | INFO : Setting QUAD:HTR:120:BCTRL =  5.5967422229710015\n",
      "2023-08-28 15:58:22,340 | INFO : Setting QUAD:HTR:120:BCTRL =  1.2345\n",
      "2023-08-28 15:58:22,893 | INFO : Setting QUAD:HTR:120:BCTRL =  0.0\n"
     ]
    }
   ],
   "source": [
    "from pyemittance.simulation_server import start_server\n",
    "from pyemittance import print_logging\n",
    "import logging\n",
    "print_logging(level=10)\n",
    "\n",
    "start_server(config_name='LCLS2_OTR0H04')"
   ]
  }
 ],
 "metadata": {
  "kernelspec": {
   "display_name": "Python 3 (ipykernel)",
   "language": "python",
   "name": "python3"
  },
  "language_info": {
   "codemirror_mode": {
    "name": "ipython",
    "version": 3
   },
   "file_extension": ".py",
   "mimetype": "text/x-python",
   "name": "python",
   "nbconvert_exporter": "python",
   "pygments_lexer": "ipython3",
   "version": "3.9.16"
  }
 },
 "nbformat": 4,
 "nbformat_minor": 5
}
