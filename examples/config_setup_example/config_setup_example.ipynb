{
 "cells": [
  {
   "cell_type": "markdown",
   "id": "66113a06-67af-4275-bb9f-cd84dc1784aa",
   "metadata": {},
   "source": [
    "# Config files setup for EPICS systems\n",
    "This notebook shows what config files you need and how to set them up. \n",
    "\n",
    "Note that this setup will be improved in the future to be only one json files with all machine information, removing the need for different directories"
   ]
  },
  {
   "cell_type": "markdown",
   "id": "6697856a-5866-4051-85dc-aa10a6056bdd",
   "metadata": {},
   "source": [
    "<span style=\"color:red\">NOTE! make sure your files are the only **json** files in the directory *pyemittance/configs/* (delete or remove others)</span>.\n"
   ]
  },
  {
   "cell_type": "markdown",
   "id": "fe80a4b7-3852-4020-80c6-c48e2a884cb9",
   "metadata": {},
   "source": [
    "Files needed:\n",
    "1. beamline_info.json : required for measurements\n",
    "2. img_proc.json :  required only if doing OTR image analysis (sigma units in meters, bg_im needs to be the path to the .npy file of the background image array)\n",
    "3. meas_pv_info.json : required PVs for measurement devices (OTR, wire, quad)\n",
    "4. opt_pv_info.json : required \"opt_vars\" if optimizing the emittance (setting injector configurations for solenoids, etc)\n",
    "5. save_scalar_pvs.json : required if saving raw data from PVs, json just constains the PVs you want to save\n",
    "6. savepaths.json : required for defining directories for saving"
   ]
  },
  {
   "cell_type": "markdown",
   "id": "c70ab0af-d7db-4e59-926d-0e41469156c1",
   "metadata": {},
   "source": [
    "The most important file for the emittance computation is"
   ]
  },
  {
   "cell_type": "code",
   "execution_count": 3,
   "id": "88e77391-1cb1-4d85-a341-24e0e99bc878",
   "metadata": {},
   "outputs": [
    {
     "data": {
      "text/plain": [
       "{'name': 'LCLS',\n",
       " 'm_0': 0.000511,\n",
       " 'd': 2.26,\n",
       " 'l': 0.108,\n",
       " 'energy': 0.135,\n",
       " 'Twiss0': [1e-06,\n",
       "  1e-06,\n",
       "  1.113081026,\n",
       "  1.113021659,\n",
       "  -0.0689403587,\n",
       "  -0.07029489754],\n",
       " 'rMatx': [1, 2.26, 0, 1],\n",
       " 'rMaty': [1, 2.26, 0, 1]}"
      ]
     },
     "execution_count": 3,
     "metadata": {},
     "output_type": "execute_result"
    }
   ],
   "source": [
    "import json\n",
    "json.load(open(\"../../pyemittance/configs/LCLS_nominal/beamline_info.json\"))"
   ]
  },
  {
   "cell_type": "markdown",
   "id": "f7151769-b670-49c0-a8c8-817b19e9adc3",
   "metadata": {},
   "source": [
    "The important params are:\n",
    "- **beam_info['m_0']** : mass of the particle\n",
    "- **beam_info['d']** : distance from scanning quad to OTR/wire [m]\n",
    "- **beam_info['l']** : scanning quad effective length [m]\n",
    "- **beam_info['energy']** : beam energy [GeV]\n",
    "- **beam_info['Twiss0']** : design Twiss at measurement location (e_x, e_y, beta_x, beta_y, alpha_x, alpha_y)\n",
    "- **beam_info['rMat']** : transport matrix from scanning to quad to OTR/screen, critical when there is more than a drift\n",
    "(quads, etc) in between, and this r-matrix takes into account those contributions (need to get from external model).\n",
    "\n"
   ]
  }
 ],
 "metadata": {
  "kernelspec": {
   "display_name": "Python 3.8.13 ('pyemittance-dev')",
   "language": "python",
   "name": "python3"
  },
  "language_info": {
   "codemirror_mode": {
    "name": "ipython",
    "version": 3
   },
   "file_extension": ".py",
   "mimetype": "text/x-python",
   "name": "python",
   "nbconvert_exporter": "python",
   "pygments_lexer": "ipython3",
   "version": "3.8.13"
  },
  "vscode": {
   "interpreter": {
    "hash": "a91e20ba2d53a502f7925f39cf39925e3f47f4d0539594422b17676132d3b721"
   }
  }
 },
 "nbformat": 4,
 "nbformat_minor": 5
}
