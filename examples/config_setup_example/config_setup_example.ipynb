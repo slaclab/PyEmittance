{
 "cells": [
  {
   "cell_type": "markdown",
   "id": "66113a06-67af-4275-bb9f-cd84dc1784aa",
   "metadata": {},
   "source": [
    "# Config files setup for EPICS systems\n",
    "This notebook shows what config files you need and how to set them up. \n",
    "\n",
    "Note that this setup will be improved in the future to be only one json files with all machine information, removing the need for different directories"
   ]
  },
  {
   "cell_type": "markdown",
   "id": "6697856a-5866-4051-85dc-aa10a6056bdd",
   "metadata": {},
   "source": [
    "<span style=\"color:red\">NOTE! make sure your files are the only **json** files in the directory *pyemittance/configs/* (delete or remove others)</span>.\n"
   ]
  },
  {
   "cell_type": "markdown",
   "id": "fe80a4b7-3852-4020-80c6-c48e2a884cb9",
   "metadata": {},
   "source": [
    "Required files:\n",
    "1. beamline_info.json : measurements\n",
    "2. img_proc.json :  required only if doing OTR image analysis (sigma units in meters, bg_im needs to be the path to the .npy file of the background image array)\n",
    "3. meas_pv_info.json : required PVs for measurement devices (OTR, wire, quad)\n",
    "\n",
    "Optionally:\n",
    "4. savepaths.json : required for defining directories for saving"
   ]
  },
  {
   "cell_type": "markdown",
   "id": "c70ab0af-d7db-4e59-926d-0e41469156c1",
   "metadata": {},
   "source": [
    "The most important file for the emittance computation is"
   ]
  },
  {
   "cell_type": "code",
   "execution_count": 1,
   "id": "88e77391-1cb1-4d85-a341-24e0e99bc878",
   "metadata": {
    "execution": {
     "iopub.execute_input": "2023-09-02T15:59:37.448174Z",
     "iopub.status.busy": "2023-09-02T15:59:37.447915Z",
     "iopub.status.idle": "2023-09-02T15:59:37.461115Z",
     "shell.execute_reply": "2023-09-02T15:59:37.460319Z"
    },
    "tags": []
   },
   "outputs": [
    {
     "data": {
      "text/plain": [
       "{'name': 'LCLS',\n",
       " 'Lquad': 0.108,\n",
       " 'energy': 135000000.0,\n",
       " 'Twiss0': [1e-06, 1e-06, 4.68280051, 4.68872767, -1.79636538, -1.79814306],\n",
       " 'rMatx': [1, 4.17, 0, 1],\n",
       " 'rMaty': [1, 4.17, 0, 1]}"
      ]
     },
     "execution_count": 1,
     "metadata": {},
     "output_type": "execute_result"
    }
   ],
   "source": [
    "import json\n",
    "json.load(open(\"../../pyemittance/configs/LCLS_OTR3/beamline_info.json\"))"
   ]
  },
  {
   "cell_type": "markdown",
   "id": "f7151769-b670-49c0-a8c8-817b19e9adc3",
   "metadata": {},
   "source": [
    "The important params are:\n",
    "- **beam_info['Lquad']** : scanning quad effective length [m]\n",
    "- **beam_info['energy']** : beam energy [eV]\n",
    "- **beam_info['Twiss0']** : design Twiss at measurement location (e_x, e_y, beta_x, beta_y, alpha_x, alpha_y)\n",
    "- **beam_info['rMatx']**, **beam_info['rMaty']** : 2x2 transfer matrices for x, y from scanning to quad to OTR/screen, critical when there is more than a drift\n",
    "(quads, etc) in between, and this r-matrix takes into account those contributions (need to get from external model).\n",
    "\n"
   ]
  },
  {
   "cell_type": "markdown",
   "id": "0f288f26-9648-479d-b78f-b56b4a4f690c",
   "metadata": {},
   "source": [
    "# Load all configs\n",
    "\n",
    "This will load all files into a dict"
   ]
  },
  {
   "cell_type": "code",
   "execution_count": 2,
   "id": "6f763ba6-cc5d-4cbe-b20d-02a7a3c628ed",
   "metadata": {
    "execution": {
     "iopub.execute_input": "2023-09-02T15:59:37.465074Z",
     "iopub.status.busy": "2023-09-02T15:59:37.464840Z",
     "iopub.status.idle": "2023-09-02T15:59:38.036010Z",
     "shell.execute_reply": "2023-09-02T15:59:38.035014Z"
    }
   },
   "outputs": [],
   "source": [
    "from pyemittance.load_json_configs import load_configs"
   ]
  },
  {
   "cell_type": "code",
   "execution_count": 3,
   "id": "af5c7762-2ba0-46ad-af9e-527e8a6867c4",
   "metadata": {
    "execution": {
     "iopub.execute_input": "2023-09-02T15:59:38.040152Z",
     "iopub.status.busy": "2023-09-02T15:59:38.039811Z",
     "iopub.status.idle": "2023-09-02T15:59:38.049667Z",
     "shell.execute_reply": "2023-09-02T15:59:38.048872Z"
    }
   },
   "outputs": [
    {
     "data": {
      "text/plain": [
       "{'beamline_info': {'name': 'LCLS',\n",
       "  'Lquad': 0.108,\n",
       "  'energy': 135000000.0,\n",
       "  'Twiss0': [1e-06, 1e-06, 4.68280051, 4.68872767, -1.79636538, -1.79814306],\n",
       "  'rMatx': [1, 4.17, 0, 1],\n",
       "  'rMaty': [1, 4.17, 0, 1]},\n",
       " 'img_proc': {'subtract_bg': False,\n",
       "  'use_roi': False,\n",
       "  'avg_ims': True,\n",
       "  'n_to_acquire': 5,\n",
       "  'background_im': None,\n",
       "  'amp_threshold': 200,\n",
       "  'min_sigma': 2e-08,\n",
       "  'max_sigma': 0.1,\n",
       "  'max_samples': 3,\n",
       "  'roi': {'xmin': 0, 'xmax': 100, 'ymin': 0, 'ymax': 100}},\n",
       " 'meas_pv_info': {'diagnostic': {'pv': {'name': 'OTRS:IN20:621',\n",
       "    'image': 'OTRS:IN20:621:IMAGE',\n",
       "    'nrow': 'OTRS:IN20:621:ROI_YNP',\n",
       "    'ncol': 'OTRS:IN20:621:ROI_XNP',\n",
       "    'resolution': 'OTRS:IN20:621:RESOLUTION',\n",
       "    'xsize': 'OTRS:IN20:621:XRMS',\n",
       "    'ysize': 'OTRS:IN20:621:YRMS'}},\n",
       "  'meas_device': {'settle_time': 1,\n",
       "   'bounds': [-2, 2],\n",
       "   'pv': {'name': 'QUAD:IN20:525',\n",
       "    'cntrl': 'QUAD:IN20:525:BCTRL',\n",
       "    'read': 'QUAD:IN20:525:BACT'}},\n",
       "  'beam_info': {'energy': 'REFS:IN20:751:EDES'}},\n",
       " 'savepaths': {'fits': '/home/physics3/ml_tuning/20220803/saved_fits/',\n",
       "  'images': '/home/physics3/ml_tuning/20220803/saved_images/',\n",
       "  'monitoring': '/home/physics3/ml_tuning/20220803/monitoring/',\n",
       "  'summaries': '/home/physics3/ml_tuning/20220803/summaries/',\n",
       "  'raw_saves': '/home/physics3/ml_tuning/20220803/raw_saves/',\n",
       "  'emit_saves': '/home/physics3/ml_tuning/20220803/emit_saves/',\n",
       "  'mon_saves': '/home/physics3/ml_tuning/20220803/mon_saves/',\n",
       "  'xopt_saves': '/home/physics3/ml_tuning/20220803/xopt_saves/'}}"
      ]
     },
     "execution_count": 3,
     "metadata": {},
     "output_type": "execute_result"
    }
   ],
   "source": [
    "load_configs(\"../../pyemittance/configs/LCLS_OTR3/\")"
   ]
  }
 ],
 "metadata": {
  "kernelspec": {
   "display_name": "Python 3 (ipykernel)",
   "language": "python",
   "name": "python3"
  },
  "language_info": {
   "codemirror_mode": {
    "name": "ipython",
    "version": 3
   },
   "file_extension": ".py",
   "mimetype": "text/x-python",
   "name": "python",
   "nbconvert_exporter": "python",
   "pygments_lexer": "ipython3",
   "version": "3.9.18"
  },
  "vscode": {
   "interpreter": {
    "hash": "a91e20ba2d53a502f7925f39cf39925e3f47f4d0539594422b17676132d3b721"
   }
  }
 },
 "nbformat": 4,
 "nbformat_minor": 5
}
